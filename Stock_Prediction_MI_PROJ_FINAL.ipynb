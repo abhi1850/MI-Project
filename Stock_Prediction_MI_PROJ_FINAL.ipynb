{
 "cells": [
  {
   "cell_type": "markdown",
   "id": "919f7676",
   "metadata": {},
   "source": [
    "# Stock Market Prediction "
   ]
  },
  {
   "cell_type": "code",
   "execution_count": 1,
   "id": "0c05a352",
   "metadata": {},
   "outputs": [
    {
     "data": {
      "text/html": [
       "        <script type=\"text/javascript\">\n",
       "        window.PlotlyConfig = {MathJaxConfig: 'local'};\n",
       "        if (window.MathJax && window.MathJax.Hub && window.MathJax.Hub.Config) {window.MathJax.Hub.Config({SVG: {font: \"STIX-Web\"}});}\n",
       "        if (typeof require !== 'undefined') {\n",
       "        require.undef(\"plotly\");\n",
       "        requirejs.config({\n",
       "            paths: {\n",
       "                'plotly': ['https://cdn.plot.ly/plotly-2.14.0.min']\n",
       "            }\n",
       "        });\n",
       "        require(['plotly'], function(Plotly) {\n",
       "            window._Plotly = Plotly;\n",
       "        });\n",
       "        }\n",
       "        </script>\n",
       "        "
      ]
     },
     "metadata": {},
     "output_type": "display_data"
    }
   ],
   "source": [
    "import pandas as pd\n",
    "import numpy as np\n",
    "import matplotlib.pyplot as plt\n",
    "%matplotlib inline \n",
    "import seaborn as sns\n",
    "from sklearn.preprocessing import MinMaxScaler\n",
    "\n",
    "import chart_studio.plotly as cs\n",
    "import plotly.graph_objs as go\n",
    "\n",
    "from plotly.offline import init_notebook_mode,plot,iplot\n",
    "init_notebook_mode(connected = True)\n",
    "\n",
    "import warnings\n",
    "warnings.filterwarnings(\"ignore\")"
   ]
  },
  {
   "cell_type": "markdown",
   "id": "d4870e8e",
   "metadata": {},
   "source": [
    "### Attributes\n",
    "#### Date: (datetime) ID. Consists of dates (only weekdays)\n",
    "#### Open: (double) The price of the stock at the time trading began every day\n",
    "#### High: (double) The highest price of the stock in a day during trading hours\n",
    "#### Low: (double) The lowest price of the stock in a day during trading hours\n",
    "#### Volume: (int) The volume of stocks traded on that day\n",
    "#### Close: (double) The price of the stock at the time trading closes every day"
   ]
  },
  {
   "cell_type": "markdown",
   "id": "456e519e",
   "metadata": {},
   "source": [
    "##  Data Analysis :"
   ]
  },
  {
   "cell_type": "code",
   "execution_count": 2,
   "id": "c67f12a9",
   "metadata": {},
   "outputs": [
    {
     "name": "stdout",
     "output_type": "stream",
     "text": [
      "<class 'pandas.core.frame.DataFrame'>\n",
      "RangeIndex: 928 entries, 0 to 927\n",
      "Data columns (total 7 columns):\n",
      " #   Column     Non-Null Count  Dtype  \n",
      "---  ------     --------------  -----  \n",
      " 0   Date       928 non-null    object \n",
      " 1   Open       928 non-null    float64\n",
      " 2   High       928 non-null    float64\n",
      " 3   Low        928 non-null    float64\n",
      " 4   Close      928 non-null    float64\n",
      " 5   Adj Close  928 non-null    float64\n",
      " 6   Volume     928 non-null    int64  \n",
      "dtypes: float64(5), int64(1), object(1)\n",
      "memory usage: 50.9+ KB\n"
     ]
    }
   ],
   "source": [
    "df = pd.read_csv(\"TSLA.csv\")\n",
    "df.info()"
   ]
  },
  {
   "cell_type": "code",
   "execution_count": 3,
   "id": "c3ba9abe",
   "metadata": {},
   "outputs": [
    {
     "data": {
      "text/html": [
       "<div>\n",
       "<style scoped>\n",
       "    .dataframe tbody tr th:only-of-type {\n",
       "        vertical-align: middle;\n",
       "    }\n",
       "\n",
       "    .dataframe tbody tr th {\n",
       "        vertical-align: top;\n",
       "    }\n",
       "\n",
       "    .dataframe thead th {\n",
       "        text-align: right;\n",
       "    }\n",
       "</style>\n",
       "<table border=\"1\" class=\"dataframe\">\n",
       "  <thead>\n",
       "    <tr style=\"text-align: right;\">\n",
       "      <th></th>\n",
       "      <th>Date</th>\n",
       "      <th>Open</th>\n",
       "      <th>High</th>\n",
       "      <th>Low</th>\n",
       "      <th>Close</th>\n",
       "      <th>Adj Close</th>\n",
       "      <th>Volume</th>\n",
       "    </tr>\n",
       "  </thead>\n",
       "  <tbody>\n",
       "    <tr>\n",
       "      <th>0</th>\n",
       "      <td>2019-03-05</td>\n",
       "      <td>18.799999</td>\n",
       "      <td>18.933332</td>\n",
       "      <td>18.006666</td>\n",
       "      <td>18.436001</td>\n",
       "      <td>18.436001</td>\n",
       "      <td>281470500</td>\n",
       "    </tr>\n",
       "    <tr>\n",
       "      <th>1</th>\n",
       "      <td>2019-03-06</td>\n",
       "      <td>18.431999</td>\n",
       "      <td>18.767332</td>\n",
       "      <td>18.292667</td>\n",
       "      <td>18.416000</td>\n",
       "      <td>18.416000</td>\n",
       "      <td>155032500</td>\n",
       "    </tr>\n",
       "    <tr>\n",
       "      <th>2</th>\n",
       "      <td>2019-03-07</td>\n",
       "      <td>18.589333</td>\n",
       "      <td>18.980000</td>\n",
       "      <td>18.283333</td>\n",
       "      <td>18.439333</td>\n",
       "      <td>18.439333</td>\n",
       "      <td>141637500</td>\n",
       "    </tr>\n",
       "    <tr>\n",
       "      <th>3</th>\n",
       "      <td>2019-03-08</td>\n",
       "      <td>18.460667</td>\n",
       "      <td>19.039333</td>\n",
       "      <td>18.392668</td>\n",
       "      <td>18.942667</td>\n",
       "      <td>18.942667</td>\n",
       "      <td>132294000</td>\n",
       "    </tr>\n",
       "    <tr>\n",
       "      <th>4</th>\n",
       "      <td>2019-03-11</td>\n",
       "      <td>18.901333</td>\n",
       "      <td>19.418667</td>\n",
       "      <td>18.700001</td>\n",
       "      <td>19.394667</td>\n",
       "      <td>19.394667</td>\n",
       "      <td>110884500</td>\n",
       "    </tr>\n",
       "  </tbody>\n",
       "</table>\n",
       "</div>"
      ],
      "text/plain": [
       "         Date       Open       High        Low      Close  Adj Close  \\\n",
       "0  2019-03-05  18.799999  18.933332  18.006666  18.436001  18.436001   \n",
       "1  2019-03-06  18.431999  18.767332  18.292667  18.416000  18.416000   \n",
       "2  2019-03-07  18.589333  18.980000  18.283333  18.439333  18.439333   \n",
       "3  2019-03-08  18.460667  19.039333  18.392668  18.942667  18.942667   \n",
       "4  2019-03-11  18.901333  19.418667  18.700001  19.394667  19.394667   \n",
       "\n",
       "      Volume  \n",
       "0  281470500  \n",
       "1  155032500  \n",
       "2  141637500  \n",
       "3  132294000  \n",
       "4  110884500  "
      ]
     },
     "execution_count": 3,
     "metadata": {},
     "output_type": "execute_result"
    }
   ],
   "source": [
    "df.head()\n"
   ]
  },
  {
   "cell_type": "code",
   "execution_count": 4,
   "id": "5bf3c77a",
   "metadata": {},
   "outputs": [],
   "source": [
    "df['Date'] = pd.to_datetime(df['Date'])"
   ]
  },
  {
   "cell_type": "code",
   "execution_count": 5,
   "id": "c9693379",
   "metadata": {},
   "outputs": [
    {
     "name": "stdout",
     "output_type": "stream",
     "text": [
      "<class 'pandas.core.frame.DataFrame'>\n",
      "RangeIndex: 928 entries, 0 to 927\n",
      "Data columns (total 7 columns):\n",
      " #   Column     Non-Null Count  Dtype         \n",
      "---  ------     --------------  -----         \n",
      " 0   Date       928 non-null    datetime64[ns]\n",
      " 1   Open       928 non-null    float64       \n",
      " 2   High       928 non-null    float64       \n",
      " 3   Low        928 non-null    float64       \n",
      " 4   Close      928 non-null    float64       \n",
      " 5   Adj Close  928 non-null    float64       \n",
      " 6   Volume     928 non-null    int64         \n",
      "dtypes: datetime64[ns](1), float64(5), int64(1)\n",
      "memory usage: 50.9 KB\n"
     ]
    }
   ],
   "source": [
    "df.info()"
   ]
  },
  {
   "cell_type": "code",
   "execution_count": 6,
   "id": "73879b6e",
   "metadata": {},
   "outputs": [
    {
     "name": "stdout",
     "output_type": "stream",
     "text": [
      "Dataframe contains stock prices between 2019-03-05 00:00:002022-11-04 00:00:00\n",
      "Total days = 1340days\n"
     ]
    }
   ],
   "source": [
    "# f - formatted string literal \n",
    "print(f'Dataframe contains stock prices between {df.Date.min()}{df.Date.max()}')\n",
    "print(f'Total days = {(df.Date.max() - df.Date.min()).days}days')"
   ]
  },
  {
   "cell_type": "code",
   "execution_count": 7,
   "id": "53050c8f",
   "metadata": {},
   "outputs": [
    {
     "data": {
      "text/html": [
       "<div>\n",
       "<style scoped>\n",
       "    .dataframe tbody tr th:only-of-type {\n",
       "        vertical-align: middle;\n",
       "    }\n",
       "\n",
       "    .dataframe tbody tr th {\n",
       "        vertical-align: top;\n",
       "    }\n",
       "\n",
       "    .dataframe thead th {\n",
       "        text-align: right;\n",
       "    }\n",
       "</style>\n",
       "<table border=\"1\" class=\"dataframe\">\n",
       "  <thead>\n",
       "    <tr style=\"text-align: right;\">\n",
       "      <th></th>\n",
       "      <th>Open</th>\n",
       "      <th>High</th>\n",
       "      <th>Low</th>\n",
       "      <th>Close</th>\n",
       "      <th>Adj Close</th>\n",
       "      <th>Volume</th>\n",
       "    </tr>\n",
       "  </thead>\n",
       "  <tbody>\n",
       "    <tr>\n",
       "      <th>count</th>\n",
       "      <td>928.000000</td>\n",
       "      <td>928.000000</td>\n",
       "      <td>928.000000</td>\n",
       "      <td>928.000000</td>\n",
       "      <td>928.000000</td>\n",
       "      <td>9.280000e+02</td>\n",
       "    </tr>\n",
       "    <tr>\n",
       "      <th>mean</th>\n",
       "      <td>165.363279</td>\n",
       "      <td>169.213483</td>\n",
       "      <td>161.159661</td>\n",
       "      <td>165.269708</td>\n",
       "      <td>165.269708</td>\n",
       "      <td>1.342636e+08</td>\n",
       "    </tr>\n",
       "    <tr>\n",
       "      <th>std</th>\n",
       "      <td>117.543647</td>\n",
       "      <td>120.163980</td>\n",
       "      <td>114.532294</td>\n",
       "      <td>117.338134</td>\n",
       "      <td>117.338134</td>\n",
       "      <td>9.624344e+07</td>\n",
       "    </tr>\n",
       "    <tr>\n",
       "      <th>min</th>\n",
       "      <td>12.073333</td>\n",
       "      <td>12.445333</td>\n",
       "      <td>11.799333</td>\n",
       "      <td>11.931333</td>\n",
       "      <td>11.931333</td>\n",
       "      <td>2.940180e+07</td>\n",
       "    </tr>\n",
       "    <tr>\n",
       "      <th>25%</th>\n",
       "      <td>34.004667</td>\n",
       "      <td>35.050500</td>\n",
       "      <td>33.181333</td>\n",
       "      <td>34.528999</td>\n",
       "      <td>34.528999</td>\n",
       "      <td>7.262692e+07</td>\n",
       "    </tr>\n",
       "    <tr>\n",
       "      <th>50%</th>\n",
       "      <td>201.061668</td>\n",
       "      <td>206.756668</td>\n",
       "      <td>198.451668</td>\n",
       "      <td>201.708336</td>\n",
       "      <td>201.708336</td>\n",
       "      <td>9.997470e+07</td>\n",
       "    </tr>\n",
       "    <tr>\n",
       "      <th>75%</th>\n",
       "      <td>259.524170</td>\n",
       "      <td>265.494163</td>\n",
       "      <td>254.614167</td>\n",
       "      <td>259.439171</td>\n",
       "      <td>259.439171</td>\n",
       "      <td>1.609208e+08</td>\n",
       "    </tr>\n",
       "    <tr>\n",
       "      <th>max</th>\n",
       "      <td>411.470001</td>\n",
       "      <td>414.496674</td>\n",
       "      <td>405.666656</td>\n",
       "      <td>409.970001</td>\n",
       "      <td>409.970001</td>\n",
       "      <td>9.140820e+08</td>\n",
       "    </tr>\n",
       "  </tbody>\n",
       "</table>\n",
       "</div>"
      ],
      "text/plain": [
       "             Open        High         Low       Close   Adj Close  \\\n",
       "count  928.000000  928.000000  928.000000  928.000000  928.000000   \n",
       "mean   165.363279  169.213483  161.159661  165.269708  165.269708   \n",
       "std    117.543647  120.163980  114.532294  117.338134  117.338134   \n",
       "min     12.073333   12.445333   11.799333   11.931333   11.931333   \n",
       "25%     34.004667   35.050500   33.181333   34.528999   34.528999   \n",
       "50%    201.061668  206.756668  198.451668  201.708336  201.708336   \n",
       "75%    259.524170  265.494163  254.614167  259.439171  259.439171   \n",
       "max    411.470001  414.496674  405.666656  409.970001  409.970001   \n",
       "\n",
       "             Volume  \n",
       "count  9.280000e+02  \n",
       "mean   1.342636e+08  \n",
       "std    9.624344e+07  \n",
       "min    2.940180e+07  \n",
       "25%    7.262692e+07  \n",
       "50%    9.997470e+07  \n",
       "75%    1.609208e+08  \n",
       "max    9.140820e+08  "
      ]
     },
     "execution_count": 7,
     "metadata": {},
     "output_type": "execute_result"
    }
   ],
   "source": [
    "df.describe()"
   ]
  },
  {
   "cell_type": "markdown",
   "id": "b3d722bd",
   "metadata": {},
   "source": [
    "## Data Preprocessing :"
   ]
  },
  {
   "cell_type": "code",
   "execution_count": 8,
   "id": "dc372249",
   "metadata": {},
   "outputs": [
    {
     "data": {
      "text/plain": [
       "Date         0\n",
       "Open         0\n",
       "High         0\n",
       "Low          0\n",
       "Close        0\n",
       "Adj Close    0\n",
       "Volume       0\n",
       "dtype: int64"
      ]
     },
     "execution_count": 8,
     "metadata": {},
     "output_type": "execute_result"
    }
   ],
   "source": [
    "df.isna().sum()"
   ]
  },
  {
   "cell_type": "markdown",
   "id": "eaeff785",
   "metadata": {},
   "source": [
    "#### Since there are no missing values no need to perform cleaning "
   ]
  },
  {
   "cell_type": "markdown",
   "id": "a52a02fa",
   "metadata": {},
   "source": [
    "## Data Visualization :"
   ]
  },
  {
   "cell_type": "markdown",
   "id": "f59e33b9",
   "metadata": {},
   "source": [
    "### 1.Box Plot of Dataset "
   ]
  },
  {
   "cell_type": "code",
   "execution_count": 9,
   "id": "7d3f401d",
   "metadata": {},
   "outputs": [
    {
     "data": {
      "text/plain": [
       "<AxesSubplot:>"
      ]
     },
     "execution_count": 9,
     "metadata": {},
     "output_type": "execute_result"
    },
    {
     "data": {
      "image/png": "[encoded data removed]",
      "text/plain": [
       "<Figure size 432x288 with 1 Axes>"
      ]
     },
     "metadata": {
      "needs_background": "light"
     },
     "output_type": "display_data"
    }
   ],
   "source": [
    "# box plot visualization \n",
    "df[['Open','High','Low','Close','Adj Close']].plot(kind='box')"
   ]
  },
  {
   "cell_type": "markdown",
   "id": "71e8a727",
   "metadata": {},
   "source": [
    "### 2.Heat Map"
   ]
  },
  {
   "cell_type": "code",
   "execution_count": 10,
   "id": "7e513176",
   "metadata": {},
   "outputs": [
    {
     "data": {
      "image/png": "[encoded data removed]",
      "text/plain": [
       "<Figure size 720x720 with 2 Axes>"
      ]
     },
     "metadata": {
      "needs_background": "light"
     },
     "output_type": "display_data"
    }
   ],
   "source": [
    "corr = df.corr()\n",
    "fig, ax = plt.subplots(figsize=(10, 10))\n",
    "#Generate Heat Map, allow annotations and place floats in map\n",
    "sns.heatmap(corr, cmap='RdBu', annot=True, fmt=\".2f\")\n",
    "#Apply xticks\n",
    "plt.xticks(range(len(corr.columns)), corr.columns);\n",
    "#Apply yticks\n",
    "plt.yticks(range(len(corr.columns)), corr.columns)\n",
    "#show plot\n",
    "plt.show()"
   ]
  },
  {
   "cell_type": "markdown",
   "id": "8fb2be47",
   "metadata": {},
   "source": [
    "### 3.Scatter Plot"
   ]
  },
  {
   "cell_type": "code",
   "execution_count": 11,
   "id": "188387a4",
   "metadata": {},
   "outputs": [
    {
     "data": {
      "image/png": "[encoded data removed]",
      "text/plain": [
       "<Figure size 1080x1080 with 42 Axes>"
      ]
     },
     "metadata": {
      "needs_background": "light"
     },
     "output_type": "display_data"
    }
   ],
   "source": [
    "sns.pairplot(df)\n",
    "plt.tight_layout()\n",
    "plt.show()"
   ]
  },
  {
   "cell_type": "markdown",
   "id": "54e1e38c",
   "metadata": {},
   "source": [
    "#### Therefore , from the above plots we can see that volume has scattered values and all others open ,close ,low and high have a linear relationship.\n",
    "\n",
    "####  Hence we leave volume behind and use others for prediction"
   ]
  },
  {
   "cell_type": "code",
   "execution_count": 12,
   "id": "edfc9e80",
   "metadata": {},
   "outputs": [],
   "source": [
    "def get_corelated_col(col_corel, threshold): \n",
    "  # Col_corel to be column along which corelation to be measured \n",
    "  # Threshold be the value above which of corelation to considered\n",
    "  feature=[]\n",
    "  value=[]\n",
    "\n",
    "  for i ,index in enumerate(col_corel.index):\n",
    "    if abs(col_corel[index]) > threshold:\n",
    "      feature.append(index)\n",
    "      value.append(col_corel[index])\n",
    "\n",
    "  df = pd.DataFrame(data = value, index = feature, columns=['correlation value'])\n",
    "  return df"
   ]
  },
  {
   "cell_type": "code",
   "execution_count": 13,
   "id": "ae6bd9e1",
   "metadata": {},
   "outputs": [
    {
     "data": {
      "text/html": [
       "<div>\n",
       "<style scoped>\n",
       "    .dataframe tbody tr th:only-of-type {\n",
       "        vertical-align: middle;\n",
       "    }\n",
       "\n",
       "    .dataframe tbody tr th {\n",
       "        vertical-align: top;\n",
       "    }\n",
       "\n",
       "    .dataframe thead th {\n",
       "        text-align: right;\n",
       "    }\n",
       "</style>\n",
       "<table border=\"1\" class=\"dataframe\">\n",
       "  <thead>\n",
       "    <tr style=\"text-align: right;\">\n",
       "      <th></th>\n",
       "      <th>correlation value</th>\n",
       "    </tr>\n",
       "  </thead>\n",
       "  <tbody>\n",
       "    <tr>\n",
       "      <th>Open</th>\n",
       "      <td>0.998278</td>\n",
       "    </tr>\n",
       "    <tr>\n",
       "      <th>High</th>\n",
       "      <td>0.999217</td>\n",
       "    </tr>\n",
       "    <tr>\n",
       "      <th>Low</th>\n",
       "      <td>0.999304</td>\n",
       "    </tr>\n",
       "    <tr>\n",
       "      <th>Close</th>\n",
       "      <td>1.000000</td>\n",
       "    </tr>\n",
       "    <tr>\n",
       "      <th>Adj Close</th>\n",
       "      <td>1.000000</td>\n",
       "    </tr>\n",
       "  </tbody>\n",
       "</table>\n",
       "</div>"
      ],
      "text/plain": [
       "           correlation value\n",
       "Open                0.998278\n",
       "High                0.999217\n",
       "Low                 0.999304\n",
       "Close               1.000000\n",
       "Adj Close           1.000000"
      ]
     },
     "execution_count": 13,
     "metadata": {},
     "output_type": "execute_result"
    }
   ],
   "source": [
    "# Measuring the corelation of close column with other columns\n",
    "corelated_values = get_corelated_col(corr['Close'], 0.60)\n",
    "corelated_values"
   ]
  },
  {
   "cell_type": "code",
   "execution_count": 14,
   "id": "7b3ef7ca",
   "metadata": {},
   "outputs": [
    {
     "data": {
      "text/html": [
       "<div>\n",
       "<style scoped>\n",
       "    .dataframe tbody tr th:only-of-type {\n",
       "        vertical-align: middle;\n",
       "    }\n",
       "\n",
       "    .dataframe tbody tr th {\n",
       "        vertical-align: top;\n",
       "    }\n",
       "\n",
       "    .dataframe thead th {\n",
       "        text-align: right;\n",
       "    }\n",
       "</style>\n",
       "<table border=\"1\" class=\"dataframe\">\n",
       "  <thead>\n",
       "    <tr style=\"text-align: right;\">\n",
       "      <th></th>\n",
       "      <th>Open</th>\n",
       "      <th>High</th>\n",
       "      <th>Low</th>\n",
       "      <th>Close</th>\n",
       "      <th>Adj Close</th>\n",
       "    </tr>\n",
       "  </thead>\n",
       "  <tbody>\n",
       "    <tr>\n",
       "      <th>0</th>\n",
       "      <td>18.799999</td>\n",
       "      <td>18.933332</td>\n",
       "      <td>18.006666</td>\n",
       "      <td>18.436001</td>\n",
       "      <td>18.436001</td>\n",
       "    </tr>\n",
       "    <tr>\n",
       "      <th>1</th>\n",
       "      <td>18.431999</td>\n",
       "      <td>18.767332</td>\n",
       "      <td>18.292667</td>\n",
       "      <td>18.416000</td>\n",
       "      <td>18.416000</td>\n",
       "    </tr>\n",
       "    <tr>\n",
       "      <th>2</th>\n",
       "      <td>18.589333</td>\n",
       "      <td>18.980000</td>\n",
       "      <td>18.283333</td>\n",
       "      <td>18.439333</td>\n",
       "      <td>18.439333</td>\n",
       "    </tr>\n",
       "    <tr>\n",
       "      <th>3</th>\n",
       "      <td>18.460667</td>\n",
       "      <td>19.039333</td>\n",
       "      <td>18.392668</td>\n",
       "      <td>18.942667</td>\n",
       "      <td>18.942667</td>\n",
       "    </tr>\n",
       "    <tr>\n",
       "      <th>4</th>\n",
       "      <td>18.901333</td>\n",
       "      <td>19.418667</td>\n",
       "      <td>18.700001</td>\n",
       "      <td>19.394667</td>\n",
       "      <td>19.394667</td>\n",
       "    </tr>\n",
       "  </tbody>\n",
       "</table>\n",
       "</div>"
      ],
      "text/plain": [
       "        Open       High        Low      Close  Adj Close\n",
       "0  18.799999  18.933332  18.006666  18.436001  18.436001\n",
       "1  18.431999  18.767332  18.292667  18.416000  18.416000\n",
       "2  18.589333  18.980000  18.283333  18.439333  18.439333\n",
       "3  18.460667  19.039333  18.392668  18.942667  18.942667\n",
       "4  18.901333  19.418667  18.700001  19.394667  19.394667"
      ]
     },
     "execution_count": 14,
     "metadata": {},
     "output_type": "execute_result"
    }
   ],
   "source": [
    "df = df[corelated_values.index]\n",
    "df.head()"
   ]
  },
  {
   "cell_type": "code",
   "execution_count": 15,
   "id": "271e31cd",
   "metadata": {},
   "outputs": [
    {
     "data": {
      "text/plain": [
       "(928, 5)"
      ]
     },
     "execution_count": 15,
     "metadata": {},
     "output_type": "execute_result"
    }
   ],
   "source": [
    "df.shape"
   ]
  },
  {
   "cell_type": "markdown",
   "id": "b5bec819",
   "metadata": {},
   "source": [
    "### Finally plotting Variation of stock price during specific time peroid"
   ]
  },
  {
   "cell_type": "code",
   "execution_count": 16,
   "id": "5b7b1f57",
   "metadata": {},
   "outputs": [
    {
     "data": {
      "application/vnd.plotly.v1+json": {
       "config": {
        "linkText": "Export to plot.ly",
        "plotlyServerURL": "https://plot.ly",
        "showLink": false
       },
       "data": [
        {
         "type": "scatter",
         "x": [
          "2019-03-05",
          "2019-03-06",
          "2019-03-07",
          "2019-03-08",
          "2019-03-11",
          "2019-03-12",
          "2019-03-13",
          "2019-03-14",
          "2019-03-15",
          "2019-03-18",
          "2019-03-19",
          "2019-03-20",
          "2019-03-21",
          "2019-03-22",
          "2019-03-25",
          "2019-03-26",
          "2019-03-27",
          "2019-03-28",
          "2019-03-29",
          "2019-04-01",
          "2019-04-02",
          "2019-04-03",
          "2019-04-04",
          "2019-04-05",
          "2019-04-08",
          "2019-04-09",
          "2019-04-10",
          "2019-04-11",
          "2019-04-12",
          "2019-04-15",
          "2019-04-16",
          "2019-04-17",
          "2019-04-18",
          "2019-04-22",
          "2019-04-23",
          "2019-04-24",
          "2019-04-25",
          "2019-04-26",
          "2019-04-29",
          "2019-04-30",
          "2019-05-01",
          "2019-05-02",
          "2019-05-03",
          "2019-05-06",
          "2019-05-07",
          "2019-05-08",
          "2019-05-09",
          "2019-05-10",
          "2019-05-13",
          "2019-05-14",
          "2019-05-15",
          "2019-05-16",
          "2019-05-17",
          "2019-05-20",
          "2019-05-21",
          "2019-05-22",
          "2019-05-23",
          "2019-05-24",
          "2019-05-28",
          "2019-05-29",
          "2019-05-30",
          "2019-05-31",
          "2019-06-03",
          "2019-06-04",
          "2019-06-05",
          "2019-06-06",
          "2019-06-07",
          "2019-06-10",
          "2019-06-11",
          "2019-06-12",
          "2019-06-13",
          "2019-06-14",
          "2019-06-17",
          "2019-06-18",
          "2019-06-19",
          "2019-06-20",
          "2019-06-21",
          "2019-06-24",
          "2019-06-25",
          "2019-06-26",
          "2019-06-27",
          "2019-06-28",
          "2019-07-01",
          "2019-07-02",
          "2019-07-03",
          "2019-07-05",
          "2019-07-08",
          "2019-07-09",
          "2019-07-10",
          "2019-07-11",
          "2019-07-12",
          "2019-07-15",
          "2019-07-16",
          "2019-07-17",
          "2019-07-18",
          "2019-07-19",
          "2019-07-22",
          "2019-07-23",
          "2019-07-24",
          "2019-07-25",
          "2019-07-26",
          "2019-07-29",
          "2019-07-30",
          "2019-07-31",
          "2019-08-01",
          "2019-08-02",
          "2019-08-05",
          "2019-08-06",
          "2019-08-07",
          "2019-08-08",
          "2019-08-09",
          "2019-08-12",
          "2019-08-13",
          "2019-08-14",
          "2019-08-15",
          "2019-08-16",
          "2019-08-19",
          "2019-08-20",
          "2019-08-21",
          "2019-08-22",
          "2019-08-23",
          "2019-08-26",
          "2019-08-27",
          "2019-08-28",
          "2019-08-29",
          "2019-08-30",
          "2019-09-03",
          "2019-09-04",
          "2019-09-05",
          "2019-09-06",
          "2019-09-09",
          "2019-09-10",
          "2019-09-11",
          "2019-09-12",
          "2019-09-13",
          "2019-09-16",
          "2019-09-17",
          "2019-09-18",
          "2019-09-19",
          "2019-09-20",
          "2019-09-23",
          "2019-09-24",
          "2019-09-25",
          "2019-09-26",
          "2019-09-27",
          "2019-09-30",
          "2019-10-01",
          "2019-10-02",
          "2019-10-03",
          "2019-10-04",
          "2019-10-07",
          "2019-10-08",
          "2019-10-09",
          "2019-10-10",
          "2019-10-11",
          "2019-10-14",
          "2019-10-15",
          "2019-10-16",
          "2019-10-17",
          "2019-10-18",
          "2019-10-21",
          "2019-10-22",
          "2019-10-23",
          "2019-10-24",
          "2019-10-25",
          "2019-10-28",
          "2019-10-29",
          "2019-10-30",
          "2019-10-31",
          "2019-11-01",
          "2019-11-04",
          "2019-11-05",
          "2019-11-06",
          "2019-11-07",
          "2019-11-08",
          "2019-11-11",
          "2019-11-12",
          "2019-11-13",
          "2019-11-14",
          "2019-11-15",
          "2019-11-18",
          "2019-11-19",
          "2019-11-20",
          "2019-11-21",
          "2019-11-22",
          "2019-11-25",
          "2019-11-26",
          "2019-11-27",
          "2019-11-29",
          "2019-12-02",
          "2019-12-03",
          "2019-12-04",
          "2019-12-05",
          "2019-12-06",
          "2019-12-09",
          "2019-12-10",
          "2019-12-11",
          "2019-12-12",
          "2019-12-13",
          "2019-12-16",
          "2019-12-17",
          "2019-12-18",
          "2019-12-19",
          "2019-12-20",
          "2019-12-23",
          "2019-12-24",
          "2019-12-26",
          "2019-12-27",
          "2019-12-30",
          "2019-12-31",
          "2020-01-02",
          "2020-01-03",
          "2020-01-06",
          "2020-01-07",
          "2020-01-08",
          "2020-01-09",
          "2020-01-10",
          "2020-01-13",
          "2020-01-14",
          "2020-01-15",
          "2020-01-16",
          "2020-01-17",
          "2020-01-21",
          "2020-01-22",
          "2020-01-23",
          "2020-01-24",
          "2020-01-27",
          "2020-01-28",
          "2020-01-29",
          "2020-01-30",
          "2020-01-31",
          "2020-02-03",
          "2020-02-04",
          "2020-02-05",
          "2020-02-06",
          "2020-02-07",
          "2020-02-10",
          "2020-02-11",
          "2020-02-12",
          "2020-02-13",
          "2020-02-14",
          "2020-02-18",
          "2020-02-19",
          "2020-02-20",
          "2020-02-21",
          "2020-02-24",
          "2020-02-25",
          "2020-02-26",
          "2020-02-27",
          "2020-02-28",
          "2020-03-02",
          "2020-03-03",
          "2020-03-04",
          "2020-03-05",
          "2020-03-06",
          "2020-03-09",
          "2020-03-10",
          "2020-03-11",
          "2020-03-12",
          "2020-03-13",
          "2020-03-16",
          "2020-03-17",
          "2020-03-18",
          "2020-03-19",
          "2020-03-20",
          "2020-03-23",
          "2020-03-24",
          "2020-03-25",
          "2020-03-26",
          "2020-03-27",
          "2020-03-30",
          "2020-03-31",
          "2020-04-01",
          "2020-04-02",
          "2020-04-03",
          "2020-04-06",
          "2020-04-07",
          "2020-04-08",
          "2020-04-09",
          "2020-04-13",
          "2020-04-14",
          "2020-04-15",
          "2020-04-16",
          "2020-04-17",
          "2020-04-20",
          "2020-04-21",
          "2020-04-22",
          "2020-04-23",
          "2020-04-24",
          "2020-04-27",
          "2020-04-28",
          "2020-04-29",
          "2020-04-30",
          "2020-05-01",
          "2020-05-04",
          "2020-05-05",
          "2020-05-06",
          "2020-05-07",
          "2020-05-08",
          "2020-05-11",
          "2020-05-12",
          "2020-05-13",
          "2020-05-14",
          "2020-05-15",
          "2020-05-18",
          "2020-05-19",
          "2020-05-20",
          "2020-05-21",
          "2020-05-22",
          "2020-05-26",
          "2020-05-27",
          "2020-05-28",
          "2020-05-29",
          "2020-06-01",
          "2020-06-02",
          "2020-06-03",
          "2020-06-04",
          "2020-06-05",
          "2020-06-08",
          "2020-06-09",
          "2020-06-10",
          "2020-06-11",
          "2020-06-12",
          "2020-06-15",
          "2020-06-16",
          "2020-06-17",
          "2020-06-18",
          "2020-06-19",
          "2020-06-22",
          "2020-06-23",
          "2020-06-24",
          "2020-06-25",
          "2020-06-26",
          "2020-06-29",
          "2020-06-30",
          "2020-07-01",
          "2020-07-02",
          "2020-07-06",
          "2020-07-07",
          "2020-07-08",
          "2020-07-09",
          "2020-07-10",
          "2020-07-13",
          "2020-07-14",
          "2020-07-15",
          "2020-07-16",
          "2020-07-17",
          "2020-07-20",
          "2020-07-21",
          "2020-07-22",
          "2020-07-23",
          "2020-07-24",
          "2020-07-27",
          "2020-07-28",
          "2020-07-29",
          "2020-07-30",
          "2020-07-31",
          "2020-08-03",
          "2020-08-04",
          "2020-08-05",
          "2020-08-06",
          "2020-08-07",
          "2020-08-10",
          "2020-08-11",
          "2020-08-12",
          "2020-08-13",
          "2020-08-14",
          "2020-08-17",
          "2020-08-18",
          "2020-08-19",
          "2020-08-20",
          "2020-08-21",
          "2020-08-24",
          "2020-08-25",
          "2020-08-26",
          "2020-08-27",
          "2020-08-28",
          "2020-08-31",
          "2020-09-01",
          "2020-09-02",
          "2020-09-03",
          "2020-09-04",
          "2020-09-08",
          "2020-09-09",
          "2020-09-10",
          "2020-09-11",
          "2020-09-14",
          "2020-09-15",
          "2020-09-16",
          "2020-09-17",
          "2020-09-18",
          "2020-09-21",
          "2020-09-22",
          "2020-09-23",
          "2020-09-24",
          "2020-09-25",
          "2020-09-28",
          "2020-09-29",
          "2020-09-30",
          "2020-10-01",
          "2020-10-02",
          "2020-10-05",
          "2020-10-06",
          "2020-10-07",
          "2020-10-08",
          "2020-10-09",
          "2020-10-12",
          "2020-10-13",
          "2020-10-14",
          "2020-10-15",
          "2020-10-16",
          "2020-10-19",
          "2020-10-20",
          "2020-10-21",
          "2020-10-22",
          "2020-10-23",
          "2020-10-26",
          "2020-10-27",
          "2020-10-28",
          "2020-10-29",
          "2020-10-30",
          "2020-11-02",
          "2020-11-03",
          "2020-11-04",
          "2020-11-05",
          "2020-11-06",
          "2020-11-09",
          "2020-11-10",
          "2020-11-11",
          "2020-11-12",
          "2020-11-13",
          "2020-11-16",
          "2020-11-17",
          "2020-11-18",
          "2020-11-19",
          "2020-11-20",
          "2020-11-23",
          "2020-11-24",
          "2020-11-25",
          "2020-11-27",
          "2020-11-30",
          "2020-12-01",
          "2020-12-02",
          "2020-12-03",
          "2020-12-04",
          "2020-12-07",
          "2020-12-08",
          "2020-12-09",
          "2020-12-10",
          "2020-12-11",
          "2020-12-14",
          "2020-12-15",
          "2020-12-16",
          "2020-12-17",
          "2020-12-18",
          "2020-12-21",
          "2020-12-22",
          "2020-12-23",
          "2020-12-24",
          "2020-12-28",
          "2020-12-29",
          "2020-12-30",
          "2020-12-31",
          "2021-01-04",
          "2021-01-05",
          "2021-01-06",
          "2021-01-07",
          "2021-01-08",
          "2021-01-11",
          "2021-01-12",
          "2021-01-13",
          "2021-01-14",
          "2021-01-15",
          "2021-01-19",
          "2021-01-20",
          "2021-01-21",
          "2021-01-22",
          "2021-01-25",
          "2021-01-26",
          "2021-01-27",
          "2021-01-28",
          "2021-01-29",
          "2021-02-01",
          "2021-02-02",
          "2021-02-03",
          "2021-02-04",
          "2021-02-05",
          "2021-02-08",
          "2021-02-09",
          "2021-02-10",
          "2021-02-11",
          "2021-02-12",
          "2021-02-16",
          "2021-02-17",
          "2021-02-18",
          "2021-02-19",
          "2021-02-22",
          "2021-02-23",
          "2021-02-24",
          "2021-02-25",
          "2021-02-26",
          "2021-03-01",
          "2021-03-02",
          "2021-03-03",
          "2021-03-04",
          "2021-03-05",
          "2021-03-08",
          "2021-03-09",
          "2021-03-10",
          "2021-03-11",
          "2021-03-12",
          "2021-03-15",
          "2021-03-16",
          "2021-03-17",
          "2021-03-18",
          "2021-03-19",
          "2021-03-22",
          "2021-03-23",
          "2021-03-24",
          "2021-03-25",
          "2021-03-26",
          "2021-03-29",
          "2021-03-30",
          "2021-03-31",
          "2021-04-01",
          "2021-04-05",
          "2021-04-06",
          "2021-04-07",
          "2021-04-08",
          "2021-04-09",
          "2021-04-12",
          "2021-04-13",
          "2021-04-14",
          "2021-04-15",
          "2021-04-16",
          "2021-04-19",
          "2021-04-20",
          "2021-04-21",
          "2021-04-22",
          "2021-04-23",
          "2021-04-26",
          "2021-04-27",
          "2021-04-28",
          "2021-04-29",
          "2021-04-30",
          "2021-05-03",
          "2021-05-04",
          "2021-05-05",
          "2021-05-06",
          "2021-05-07",
          "2021-05-10",
          "2021-05-11",
          "2021-05-12",
          "2021-05-13",
          "2021-05-14",
          "2021-05-17",
          "2021-05-18",
          "2021-05-19",
          "2021-05-20",
          "2021-05-21",
          "2021-05-24",
          "2021-05-25",
          "2021-05-26",
          "2021-05-27",
          "2021-05-28",
          "2021-06-01",
          "2021-06-02",
          "2021-06-03",
          "2021-06-04",
          "2021-06-07",
          "2021-06-08",
          "2021-06-09",
          "2021-06-10",
          "2021-06-11",
          "2021-06-14",
          "2021-06-15",
          "2021-06-16",
          "2021-06-17",
          "2021-06-18",
          "2021-06-21",
          "2021-06-22",
          "2021-06-23",
          "2021-06-24",
          "2021-06-25",
          "2021-06-28",
          "2021-06-29",
          "2021-06-30",
          "2021-07-01",
          "2021-07-02",
          "2021-07-06",
          "2021-07-07",
          "2021-07-08",
          "2021-07-09",
          "2021-07-12",
          "2021-07-13",
          "2021-07-14",
          "2021-07-15",
          "2021-07-16",
          "2021-07-19",
          "2021-07-20",
          "2021-07-21",
          "2021-07-22",
          "2021-07-23",
          "2021-07-26",
          "2021-07-27",
          "2021-07-28",
          "2021-07-29",
          "2021-07-30",
          "2021-08-02",
          "2021-08-03",
          "2021-08-04",
          "2021-08-05",
          "2021-08-06",
          "2021-08-09",
          "2021-08-10",
          "2021-08-11",
          "2021-08-12",
          "2021-08-13",
          "2021-08-16",
          "2021-08-17",
          "2021-08-18",
          "2021-08-19",
          "2021-08-20",
          "2021-08-23",
          "2021-08-24",
          "2021-08-25",
          "2021-08-26",
          "2021-08-27",
          "2021-08-30",
          "2021-08-31",
          "2021-09-01",
          "2021-09-02",
          "2021-09-03",
          "2021-09-07",
          "2021-09-08",
          "2021-09-09",
          "2021-09-10",
          "2021-09-13",
          "2021-09-14",
          "2021-09-15",
          "2021-09-16",
          "2021-09-17",
          "2021-09-20",
          "2021-09-21",
          "2021-09-22",
          "2021-09-23",
          "2021-09-24",
          "2021-09-27",
          "2021-09-28",
          "2021-09-29",
          "2021-09-30",
          "2021-10-01",
          "2021-10-04",
          "2021-10-05",
          "2021-10-06",
          "2021-10-07",
          "2021-10-08",
          "2021-10-11",
          "2021-10-12",
          "2021-10-13",
          "2021-10-14",
          "2021-10-15",
          "2021-10-18",
          "2021-10-19",
          "2021-10-20",
          "2021-10-21",
          "2021-10-22",
          "2021-10-25",
          "2021-10-26",
          "2021-10-27",
          "2021-10-28",
          "2021-10-29",
          "2021-11-01",
          "2021-11-02",
          "2021-11-03",
          "2021-11-04",
          "2021-11-05",
          "2021-11-08",
          "2021-11-09",
          "2021-11-10",
          "2021-11-11",
          "2021-11-12",
          "2021-11-15",
          "2021-11-16",
          "2021-11-17",
          "2021-11-18",
          "2021-11-19",
          "2021-11-22",
          "2021-11-23",
          "2021-11-24",
          "2021-11-26",
          "2021-11-29",
          "2021-11-30",
          "2021-12-01",
          "2021-12-02",
          "2021-12-03",
          "2021-12-06",
          "2021-12-07",
          "2021-12-08",
          "2021-12-09",
          "2021-12-10",
          "2021-12-13",
          "2021-12-14",
          "2021-12-15",
          "2021-12-16",
          "2021-12-17",
          "2021-12-20",
          "2021-12-21",
          "2021-12-22",
          "2021-12-23",
          "2021-12-27",
          "2021-12-28",
          "2021-12-29",
          "2021-12-30",
          "2021-12-31",
          "2022-01-03",
          "2022-01-04",
          "2022-01-05",
          "2022-01-06",
          "2022-01-07",
          "2022-01-10",
          "2022-01-11",
          "2022-01-12",
          "2022-01-13",
          "2022-01-14",
          "2022-01-18",
          "2022-01-19",
          "2022-01-20",
          "2022-01-21",
          "2022-01-24",
          "2022-01-25",
          "2022-01-26",
          "2022-01-27",
          "2022-01-28",
          "2022-01-31",
          "2022-02-01",
          "2022-02-02",
          "2022-02-03",
          "2022-02-04",
          "2022-02-07",
          "2022-02-08",
          "2022-02-09",
          "2022-02-10",
          "2022-02-11",
          "2022-02-14",
          "2022-02-15",
          "2022-02-16",
          "2022-02-17",
          "2022-02-18",
          "2022-02-22",
          "2022-02-23",
          "2022-02-24",
          "2022-02-25",
          "2022-02-28",
          "2022-03-01",
          "2022-03-02",
          "2022-03-03",
          "2022-03-04",
          "2022-03-07",
          "2022-03-08",
          "2022-03-09",
          "2022-03-10",
          "2022-03-11",
          "2022-03-14",
          "2022-03-15",
          "2022-03-16",
          "2022-03-17",
          "2022-03-18",
          "2022-03-21",
          "2022-03-22",
          "2022-03-23",
          "2022-03-24",
          "2022-03-25",
          "2022-03-28",
          "2022-03-29",
          "2022-03-30",
          "2022-03-31",
          "2022-04-01",
          "2022-04-04",
          "2022-04-05",
          "2022-04-06",
          "2022-04-07",
          "2022-04-08",
          "2022-04-11",
          "2022-04-12",
          "2022-04-13",
          "2022-04-14",
          "2022-04-18",
          "2022-04-19",
          "2022-04-20",
          "2022-04-21",
          "2022-04-22",
          "2022-04-25",
          "2022-04-26",
          "2022-04-27",
          "2022-04-28",
          "2022-04-29",
          "2022-05-02",
          "2022-05-03",
          "2022-05-04",
          "2022-05-05",
          "2022-05-06",
          "2022-05-09",
          "2022-05-10",
          "2022-05-11",
          "2022-05-12",
          "2022-05-13",
          "2022-05-16",
          "2022-05-17",
          "2022-05-18",
          "2022-05-19",
          "2022-05-20",
          "2022-05-23",
          "2022-05-24",
          "2022-05-25",
          "2022-05-26",
          "2022-05-27",
          "2022-05-31",
          "2022-06-01",
          "2022-06-02",
          "2022-06-03",
          "2022-06-06",
          "2022-06-07",
          "2022-06-08",
          "2022-06-09",
          "2022-06-10",
          "2022-06-13",
          "2022-06-14",
          "2022-06-15",
          "2022-06-16",
          "2022-06-17",
          "2022-06-21",
          "2022-06-22",
          "2022-06-23",
          "2022-06-24",
          "2022-06-27",
          "2022-06-28",
          "2022-06-29",
          "2022-06-30",
          "2022-07-01",
          "2022-07-05",
          "2022-07-06",
          "2022-07-07",
          "2022-07-08",
          "2022-07-11",
          "2022-07-12",
          "2022-07-13",
          "2022-07-14",
          "2022-07-15",
          "2022-07-18",
          "2022-07-19",
          "2022-07-20",
          "2022-07-21",
          "2022-07-22",
          "2022-07-25",
          "2022-07-26",
          "2022-07-27",
          "2022-07-28",
          "2022-07-29",
          "2022-08-01",
          "2022-08-02",
          "2022-08-03",
          "2022-08-04",
          "2022-08-05",
          "2022-08-08",
          "2022-08-09",
          "2022-08-10",
          "2022-08-11",
          "2022-08-12",
          "2022-08-15",
          "2022-08-16",
          "2022-08-17",
          "2022-08-18",
          "2022-08-19",
          "2022-08-22",
          "2022-08-23",
          "2022-08-24",
          "2022-08-25",
          "2022-08-26",
          "2022-08-29",
          "2022-08-30",
          "2022-08-31",
          "2022-09-01",
          "2022-09-02",
          "2022-09-06",
          "2022-09-07",
          "2022-09-08",
          "2022-09-09",
          "2022-09-12",
          "2022-09-13",
          "2022-09-14",
          "2022-09-15",
          "2022-09-16",
          "2022-09-19",
          "2022-09-20",
          "2022-09-21",
          "2022-09-22",
          "2022-09-23",
          "2022-09-26",
          "2022-09-27",
          "2022-09-28",
          "2022-09-29",
          "2022-09-30",
          "2022-10-03",
          "2022-10-04",
          "2022-10-05",
          "2022-10-06",
          "2022-10-07",
          "2022-10-10",
          "2022-10-11",
          "2022-10-12",
          "2022-10-13",
          "2022-10-14",
          "2022-10-17",
          "2022-10-18",
          "2022-10-19",
          "2022-10-20",
          "2022-10-21",
          "2022-10-24",
          "2022-10-25",
          "2022-10-26",
          "2022-10-27",
          "2022-10-28",
          "2022-10-31",
          "2022-11-01",
          "2022-11-02",
          "2022-11-03",
          "2022-11-04"
         ],
         "y": [
          18.436001,
          18.416,
          18.439333,
          18.942667,
          19.394667,
          18.890667,
          19.264,
          19.330667,
          18.362,
          17.966,
          17.831333,
          18.24,
          18.268,
          17.635332,
          17.361334,
          17.851334,
          18.322001,
          18.574667,
          18.657333,
          19.278667,
          19.058666,
          19.454,
          17.851999,
          18.330667,
          18.213333,
          18.153999,
          18.403999,
          17.894667,
          17.846666,
          17.758667,
          18.224001,
          18.082001,
          18.217333,
          17.516666,
          17.593332,
          17.243999,
          16.508667,
          15.676,
          16.098,
          15.912667,
          15.600667,
          16.273333,
          17.002001,
          17.022667,
          16.470667,
          16.322666,
          16.132,
          15.968,
          15.134,
          15.487333,
          15.463333,
          15.222,
          14.068667,
          13.690667,
          13.672,
          12.848667,
          13.032667,
          12.708667,
          12.58,
          12.657333,
          12.548,
          12.344,
          11.931333,
          12.906667,
          13.106,
          13.73,
          13.633333,
          14.192,
          14.473333,
          13.950667,
          14.260667,
          14.328,
          15.002,
          14.982667,
          15.095333,
          14.641333,
          14.790667,
          14.909333,
          14.650667,
          14.618,
          14.856,
          14.897333,
          15.144667,
          14.97,
          15.66,
          15.54,
          15.356,
          15.337333,
          15.928,
          15.906667,
          16.338667,
          16.9,
          16.825333,
          16.990667,
          16.902666,
          17.212,
          17.045334,
          17.344667,
          17.658667,
          15.254667,
          15.202667,
          15.718,
          16.150667,
          16.107332,
          15.59,
          15.622667,
          15.221333,
          15.383333,
          15.561333,
          15.886667,
          15.667333,
          15.267333,
          15.666667,
          14.641333,
          14.376,
          14.662667,
          15.122,
          15.057333,
          14.722,
          14.81,
          14.093333,
          14.333333,
          14.272,
          14.372667,
          14.780667,
          15.040667,
          15.000667,
          14.712,
          15.305333,
          15.163333,
          15.452667,
          15.702667,
          16.473333,
          16.391333,
          16.346666,
          16.187332,
          16.319332,
          16.232668,
          16.440001,
          16.041332,
          16.082001,
          14.880667,
          15.246667,
          16.170668,
          16.142,
          16.058001,
          16.312668,
          16.208668,
          15.535333,
          15.428667,
          15.848,
          16.003332,
          16.302,
          16.316,
          16.525999,
          17.130667,
          17.192667,
          17.316668,
          17.464666,
          17.129999,
          16.9,
          17.038668,
          16.978666,
          19.978666,
          21.875334,
          21.847334,
          21.081333,
          21.000668,
          20.994667,
          20.887333,
          21.164667,
          21.148001,
          21.771999,
          22.369333,
          22.476,
          23.006001,
          23.328667,
          23.073999,
          23.290001,
          23.478001,
          23.332666,
          23.968,
          23.481333,
          23.655333,
          22.202667,
          22.422667,
          21.927999,
          22.086,
          21.996,
          22.324667,
          22.413334,
          22.202,
          22.024668,
          22.392668,
          22.635332,
          23.256001,
          23.513332,
          23.978666,
          23.892668,
          25.433332,
          25.266001,
          26.209999,
          26.936001,
          27.039333,
          27.948,
          28.35,
          28.729334,
          28.691999,
          27.646667,
          27.888666,
          28.684,
          29.534,
          30.102667,
          31.270666,
          32.809334,
          32.089333,
          31.876667,
          34.990665,
          35.861332,
          34.566666,
          34.232666,
          34.033333,
          36.48,
          37.970669,
          38.146667,
          37.654667,
          37.201332,
          37.793331,
          38.732666,
          42.720669,
          43.371334,
          52,
          59.137333,
          48.98,
          49.930668,
          49.871334,
          51.418667,
          51.625332,
          51.152668,
          53.599998,
          53.335335,
          57.226665,
          61.161331,
          59.960667,
          60.066666,
          55.585999,
          53.327332,
          51.919998,
          45.266666,
          44.532665,
          49.574669,
          49.700668,
          49.966667,
          48.302666,
          46.898666,
          40.533333,
          43.021999,
          42.282001,
          37.369999,
          36.441334,
          29.671333,
          28.68,
          24.081333,
          28.509333,
          28.502001,
          28.952667,
          33.666668,
          35.950001,
          35.210667,
          34.290668,
          33.475334,
          34.933334,
          32.104,
          30.298,
          32.000668,
          34.416,
          36.363335,
          36.589333,
          38.200001,
          43.396667,
          47.326,
          48.655334,
          49.680668,
          50.259335,
          49.757332,
          45.781334,
          48.807335,
          47.042,
          48.343334,
          53.25,
          51.274666,
          53.367332,
          52.125332,
          46.754665,
          50.745998,
          51.214001,
          52.172001,
          52.002666,
          54.627998,
          54.085999,
          53.960667,
          52.730667,
          53.555332,
          53.278,
          54.242001,
          53.867332,
          54.370667,
          55.173332,
          54.458668,
          54.591331,
          54.681999,
          53.720669,
          55.666668,
          59.873333,
          58.770668,
          58.863998,
          57.625332,
          59.043999,
          63.327999,
          62.711334,
          68.33667,
          64.856003,
          62.352001,
          66.059998,
          65.475334,
          66.119331,
          66.930664,
          66.726669,
          66.288002,
          66.785332,
          64.056664,
          65.732002,
          63.982666,
          67.290001,
          71.987335,
          74.641998,
          80.577332,
          91.438667,
          92.657333,
          91.05867,
          92.952003,
          102.976669,
          99.804001,
          101.120003,
          103.067329,
          100.042664,
          100.056,
          109.533333,
          104.557335,
          106.155334,
          100.87133,
          94.466667,
          102.639999,
          98.432671,
          99.940666,
          99.166,
          95.384003,
          99,
          99.133331,
          99.001335,
          99.305336,
          96.847336,
          94.571335,
          91.625999,
          103.650665,
          108.066666,
          110.047333,
          122.375999,
          125.806,
          125.235336,
          133.455338,
          136.665329,
          134.279999,
          134.889328,
          143.544662,
          149.25,
          147.559998,
          166.106674,
          158.350006,
          149.123337,
          135.666672,
          139.440002,
          110.07,
          122.09333,
          123.779999,
          124.239998,
          139.873337,
          149.919998,
          147.253326,
          141.143326,
          147.383331,
          149.796661,
          141.410004,
          126.786667,
          129.263336,
          135.779999,
          140.399994,
          139.690002,
          143.003326,
          149.386673,
          138.363327,
          141.893326,
          137.993332,
          141.766663,
          141.973328,
          144.666672,
          147.433334,
          148.883331,
          153.766663,
          149.626663,
          146.556671,
          143.610001,
          140.646667,
          140.880005,
          141.929993,
          140.210007,
          140.093338,
          141.559998,
          135.339996,
          136.943329,
          129.346664,
          133.503326,
          141.300003,
          140.32666,
          146.029999,
          143.316666,
          140.419998,
          136.786667,
          139.043335,
          137.253326,
          136.166672,
          136.029999,
          147.203339,
          162.213333,
          166.42334,
          163.203339,
          173.949997,
          185.126663,
          191.333328,
          195.253326,
          189.199997,
          194.919998,
          189.606674,
          197.793335,
          199.679993,
          213.919998,
          216.626663,
          201.493332,
          209.023331,
          203.330002,
          213.276672,
          211.083328,
          207.589996,
          218.633331,
          231.666672,
          216.619995,
          213.446671,
          215.32666,
          220.589996,
          221.229996,
          221.996674,
          231.593338,
          235.223328,
          243.256668,
          245.036667,
          251.993332,
          272.013336,
          293.339996,
          270.396667,
          283.146667,
          284.803345,
          281.666656,
          275.386658,
          281.516663,
          283.483337,
          281.66333,
          282.213318,
          293.600006,
          294.363342,
          288.053345,
          278.476654,
          264.51001,
          279.936676,
          290.929993,
          284.896667,
          283.329987,
          284.07666,
          287.806671,
          283.15332,
          268.273346,
          270.553345,
          272.040009,
          265.406677,
          266.049988,
          262.459991,
          260.433319,
          238.166672,
          232.946671,
          247.339996,
          227.406662,
          225.166672,
          239.476669,
          228.813339,
          217.733337,
          207.146667,
          199.316666,
          187.666672,
          224.526672,
          222.686661,
          233.199997,
          231.243332,
          235.979996,
          225.626663,
          233.936661,
          217.720001,
          218.289993,
          223.333328,
          220.720001,
          210.089996,
          213.463333,
          206.236664,
          203.763336,
          211.873337,
          222.643326,
          220.583328,
          230.350006,
          230.539993,
          223.656662,
          227.933334,
          225.67334,
          233.993332,
          254.106674,
          244.07666,
          246.28334,
          246.593338,
          238.210007,
          239.66333,
          248.039993,
          239.896667,
          243.133331,
          246.066666,
          234.91333,
          231.46666,
          225.666672,
          236.479996,
          228.300003,
          224.53334,
          223.646667,
          221.179993,
          224.123337,
          209.679993,
          205.733337,
          196.630005,
          190.563339,
          196.580002,
          192.276672,
          192.623337,
          187.820007,
          195.593338,
          193.626663,
          202.146667,
          201.563339,
          206.376663,
          210.28334,
          208.406662,
          207.96666,
          201.706665,
          190.946671,
          199.683334,
          201.710007,
          201.196671,
          199.593338,
          203.373337,
          203.296661,
          205.896667,
          199.786667,
          201.623337,
          205.53334,
          207.770004,
          206.943329,
          207.903336,
          218.856674,
          226.606674,
          223.956665,
          229.573334,
          226.919998,
          226.566666,
          225.973328,
          226.300003,
          219.860001,
          214.883331,
          217.603333,
          218.983337,
          228.566666,
          222.846664,
          217.793335,
          216.866669,
          214.740005,
          215.406662,
          220.166672,
          218.429993,
          216.419998,
          214.460007,
          219.206665,
          214.926666,
          215.660004,
          225.78334,
          229.066666,
          236.556671,
          236.580002,
          236.973328,
          238.210007,
          233.03334,
          237.919998,
          236.66333,
          235.940002,
          240.75,
          239.056671,
          228.723328,
          221.903336,
          229.66333,
          224.490005,
          226.753326,
          235.433334,
          236.16333,
          237.066666,
          233.720001,
          237.306671,
          243.636673,
          245.240005,
          244.696671,
          244.130005,
          244.523331,
          250.973328,
          251.289993,
          251.619995,
          245.42334,
          247.666672,
          248.16333,
          251.943329,
          252.330002,
          253.16333,
          243.389999,
          246.460007,
          250.646667,
          251.213333,
          258.130005,
          263.786682,
          259.186676,
          260.436676,
          258.493347,
          258.406677,
          260.51001,
          260.196655,
          260.916656,
          264.536682,
          261.829987,
          263.980011,
          268.573334,
          270.359985,
          272.773346,
          281.01001,
          290.036682,
          288.089996,
          288.600006,
          298,
          303.226654,
          341.619995,
          339.476654,
          345.953339,
          359.013336,
          371.333344,
          402.863342,
          390.666656,
          404.619995,
          409.970001,
          407.363342,
          387.646667,
          341.166656,
          355.983337,
          354.503326,
          344.473328,
          337.796661,
          351.57666,
          363.003326,
          365.459991,
          379.019989,
          385.623322,
          369.676666,
          372,
          360.640015,
          378.996674,
          381.58667,
          365,
          361.533325,
          338.323334,
          336.33667,
          350.583344,
          356.320007,
          334.600006,
          339.01001,
          322.136658,
          319.503326,
          325.329987,
          308.973328,
          310.856659,
          299.980011,
          312.843323,
          336.290009,
          355.666656,
          364.646667,
          362.823334,
          362.063324,
          356.779999,
          352.26001,
          399.926666,
          383.196655,
          362.706665,
          354.899994,
          342.320007,
          352.706665,
          354.799988,
          368.73999,
          343.853333,
          349.869995,
          343.503326,
          331.883331,
          332.089996,
          314.633331,
          310,
          306.133331,
          312.470001,
          276.366669,
          282.116669,
          312.23999,
          310.416656,
          301.886658,
          297.046661,
          307.773346,
          302.446655,
          307.333344,
          310.666656,
          301.516663,
          286.666656,
          291.920013,
          307.476654,
          307.796661,
          292.116669,
          285.660004,
          273.843323,
          254.679993,
          266.92334,
          269.956665,
          290.143341,
          288.123322,
          293.296661,
          279.763336,
          279.429993,
          268.193329,
          274.799988,
          286.323334,
          279.433319,
          265.116669,
          255.456665,
          267.296661,
          280.07666,
          290.533325,
          301.796661,
          307.053345,
          331.32666,
          333.036682,
          337.973328,
          336.880005,
          363.946655,
          366.523346,
          364.66333,
          359.200012,
          361.529999,
          381.816681,
          363.753326,
          348.58667,
          352.420013,
          341.829987,
          325.309998,
          328.983337,
          340.790009,
          328.333344,
          334.763336,
          342.716675,
          325.733337,
          336.26001,
          335.016663,
          332.67334,
          292.140015,
          293.83667,
          292.503326,
          290.253326,
          300.980011,
          303.083344,
          317.540009,
          291.093323,
          288.549988,
          262.369995,
          266.679993,
          244.666672,
          242.666672,
          256.529999,
          241.456665,
          253.869995,
          236.603333,
          236.473328,
          221.300003,
          224.96666,
          209.386673,
          219.600006,
          235.910004,
          253.210007,
          252.753326,
          246.789993,
          258.333344,
          234.516663,
          238.279999,
          238.886673,
          241.866669,
          239.706665,
          232.229996,
          215.736664,
          220.889999,
          233,
          213.100006,
          216.759995,
          237.036667,
          236.08667,
          235.070007,
          245.706665,
          244.919998,
          232.66333,
          228.490005,
          224.473328,
          227.263336,
          233.066666,
          231.733337,
          244.543335,
          250.763336,
          234.343338,
          233.070007,
          237.039993,
          238.313339,
          240.066666,
          240.546661,
          245.529999,
          247.5,
          271.706665,
          272.243347,
          268.433319,
          258.859985,
          274.820007,
          280.899994,
          297.149994,
          297.276672,
          300.58667,
          307.396667,
          308.633331,
          288.170013,
          290.42334,
          283.333344,
          294.356659,
          286.630005,
          300.029999,
          309.320007,
          306.563324,
          303.996674,
          302.869995,
          296.666656,
          289.91333,
          296.453339,
          297.09668,
          296.070007,
          288.089996,
          284.820007,
          277.700012,
          275.609985,
          277.160004,
          270.209991,
          274.420013,
          283.700012,
          289.26001,
          299.679993,
          304.420013,
          292.130005,
          302.609985,
          303.75,
          303.350006,
          309.070007,
          308.730011,
          300.799988,
          288.589996,
          275.329987,
          276.01001,
          282.940002,
          287.809998,
          268.209991,
          265.25,
          242.399994,
          249.440002,
          240.809998,
          238.130005,
          223.070007,
          222.960007,
          216.5,
          217.240005,
          221.720001,
          204.990005,
          219.350006,
          220.190002,
          222.039993,
          207.279999,
          214.440002,
          211.25,
          222.419998,
          224.639999,
          225.089996,
          228.520004,
          227.539993,
          227.820007,
          214.979996,
          215.309998,
          207.470001
         ]
        }
       ],
       "layout": {
        "template": {
         "data": {
          "bar": [
           {
            "error_x": {
             "color": "#2a3f5f"
            },
            "error_y": {
             "color": "#2a3f5f"
            },
            "marker": {
             "line": {
              "color": "#E5ECF6",
              "width": 0.5
             },
             "pattern": {
              "fillmode": "overlay",
              "size": 10,
              "solidity": 0.2
             }
            },
            "type": "bar"
           }
          ],
          "barpolar": [
           {
            "marker": {
             "line": {
              "color": "#E5ECF6",
              "width": 0.5
             },
             "pattern": {
              "fillmode": "overlay",
              "size": 10,
              "solidity": 0.2
             }
            },
            "type": "barpolar"
           }
          ],
          "carpet": [
           {
            "aaxis": {
             "endlinecolor": "#2a3f5f",
             "gridcolor": "white",
             "linecolor": "white",
             "minorgridcolor": "white",
             "startlinecolor": "#2a3f5f"
            },
            "baxis": {
             "endlinecolor": "#2a3f5f",
             "gridcolor": "white",
             "linecolor": "white",
             "minorgridcolor": "white",
             "startlinecolor": "#2a3f5f"
            },
            "type": "carpet"
           }
          ],
          "choropleth": [
           {
            "colorbar": {
             "outlinewidth": 0,
             "ticks": ""
            },
            "type": "choropleth"
           }
          ],
          "contour": [
           {
            "colorbar": {
             "outlinewidth": 0,
             "ticks": ""
            },
            "colorscale": [
             [
              0,
              "#0d0887"
             ],
             [
              0.1111111111111111,
              "#46039f"
             ],
             [
              0.2222222222222222,
              "#7201a8"
             ],
             [
              0.3333333333333333,
              "#9c179e"
             ],
             [
              0.4444444444444444,
              "#bd3786"
             ],
             [
              0.5555555555555556,
              "#d8576b"
             ],
             [
              0.6666666666666666,
              "#ed7953"
             ],
             [
              0.7777777777777778,
              "#fb9f3a"
             ],
             [
              0.8888888888888888,
              "#fdca26"
             ],
             [
              1,
              "#f0f921"
             ]
            ],
            "type": "contour"
           }
          ],
          "contourcarpet": [
           {
            "colorbar": {
             "outlinewidth": 0,
             "ticks": ""
            },
            "type": "contourcarpet"
           }
          ],
          "heatmap": [
           {
            "colorbar": {
             "outlinewidth": 0,
             "ticks": ""
            },
            "colorscale": [
             [
              0,
              "#0d0887"
             ],
             [
              0.1111111111111111,
              "#46039f"
             ],
             [
              0.2222222222222222,
              "#7201a8"
             ],
             [
              0.3333333333333333,
              "#9c179e"
             ],
             [
              0.4444444444444444,
              "#bd3786"
             ],
             [
              0.5555555555555556,
              "#d8576b"
             ],
             [
              0.6666666666666666,
              "#ed7953"
             ],
             [
              0.7777777777777778,
              "#fb9f3a"
             ],
             [
              0.8888888888888888,
              "#fdca26"
             ],
             [
              1,
              "#f0f921"
             ]
            ],
            "type": "heatmap"
           }
          ],
          "heatmapgl": [
           {
            "colorbar": {
             "outlinewidth": 0,
             "ticks": ""
            },
            "colorscale": [
             [
              0,
              "#0d0887"
             ],
             [
              0.1111111111111111,
              "#46039f"
             ],
             [
              0.2222222222222222,
              "#7201a8"
             ],
             [
              0.3333333333333333,
              "#9c179e"
             ],
             [
              0.4444444444444444,
              "#bd3786"
             ],
             [
              0.5555555555555556,
              "#d8576b"
             ],
             [
              0.6666666666666666,
              "#ed7953"
             ],
             [
              0.7777777777777778,
              "#fb9f3a"
             ],
             [
              0.8888888888888888,
              "#fdca26"
             ],
             [
              1,
              "#f0f921"
             ]
            ],
            "type": "heatmapgl"
           }
          ],
          "histogram": [
           {
            "marker": {
             "pattern": {
              "fillmode": "overlay",
              "size": 10,
              "solidity": 0.2
             }
            },
            "type": "histogram"
           }
          ],
          "histogram2d": [
           {
            "colorbar": {
             "outlinewidth": 0,
             "ticks": ""
            },
            "colorscale": [
             [
              0,
              "#0d0887"
             ],
             [
              0.1111111111111111,
              "#46039f"
             ],
             [
              0.2222222222222222,
              "#7201a8"
             ],
             [
              0.3333333333333333,
              "#9c179e"
             ],
             [
              0.4444444444444444,
              "#bd3786"
             ],
             [
              0.5555555555555556,
              "#d8576b"
             ],
             [
              0.6666666666666666,
              "#ed7953"
             ],
             [
              0.7777777777777778,
              "#fb9f3a"
             ],
             [
              0.8888888888888888,
              "#fdca26"
             ],
             [
              1,
              "#f0f921"
             ]
            ],
            "type": "histogram2d"
           }
          ],
          "histogram2dcontour": [
           {
            "colorbar": {
             "outlinewidth": 0,
             "ticks": ""
            },
            "colorscale": [
             [
              0,
              "#0d0887"
             ],
             [
              0.1111111111111111,
              "#46039f"
             ],
             [
              0.2222222222222222,
              "#7201a8"
             ],
             [
              0.3333333333333333,
              "#9c179e"
             ],
             [
              0.4444444444444444,
              "#bd3786"
             ],
             [
              0.5555555555555556,
              "#d8576b"
             ],
             [
              0.6666666666666666,
              "#ed7953"
             ],
             [
              0.7777777777777778,
              "#fb9f3a"
             ],
             [
              0.8888888888888888,
              "#fdca26"
             ],
             [
              1,
              "#f0f921"
             ]
            ],
            "type": "histogram2dcontour"
           }
          ],
          "mesh3d": [
           {
            "colorbar": {
             "outlinewidth": 0,
             "ticks": ""
            },
            "type": "mesh3d"
           }
          ],
          "parcoords": [
           {
            "line": {
             "colorbar": {
              "outlinewidth": 0,
              "ticks": ""
             }
            },
            "type": "parcoords"
           }
          ],
          "pie": [
           {
            "automargin": true,
            "type": "pie"
           }
          ],
          "scatter": [
           {
            "fillpattern": {
             "fillmode": "overlay",
             "size": 10,
             "solidity": 0.2
            },
            "type": "scatter"
           }
          ],
          "scatter3d": [
           {
            "line": {
             "colorbar": {
              "outlinewidth": 0,
              "ticks": ""
             }
            },
            "marker": {
             "colorbar": {
              "outlinewidth": 0,
              "ticks": ""
             }
            },
            "type": "scatter3d"
           }
          ],
          "scattercarpet": [
           {
            "marker": {
             "colorbar": {
              "outlinewidth": 0,
              "ticks": ""
             }
            },
            "type": "scattercarpet"
           }
          ],
          "scattergeo": [
           {
            "marker": {
             "colorbar": {
              "outlinewidth": 0,
              "ticks": ""
             }
            },
            "type": "scattergeo"
           }
          ],
          "scattergl": [
           {
            "marker": {
             "colorbar": {
              "outlinewidth": 0,
              "ticks": ""
             }
            },
            "type": "scattergl"
           }
          ],
          "scattermapbox": [
           {
            "marker": {
             "colorbar": {
              "outlinewidth": 0,
              "ticks": ""
             }
            },
            "type": "scattermapbox"
           }
          ],
          "scatterpolar": [
           {
            "marker": {
             "colorbar": {
              "outlinewidth": 0,
              "ticks": ""
             }
            },
            "type": "scatterpolar"
           }
          ],
          "scatterpolargl": [
           {
            "marker": {
             "colorbar": {
              "outlinewidth": 0,
              "ticks": ""
             }
            },
            "type": "scatterpolargl"
           }
          ],
          "scatterternary": [
           {
            "marker": {
             "colorbar": {
              "outlinewidth": 0,
              "ticks": ""
             }
            },
            "type": "scatterternary"
           }
          ],
          "surface": [
           {
            "colorbar": {
             "outlinewidth": 0,
             "ticks": ""
            },
            "colorscale": [
             [
              0,
              "#0d0887"
             ],
             [
              0.1111111111111111,
              "#46039f"
             ],
             [
              0.2222222222222222,
              "#7201a8"
             ],
             [
              0.3333333333333333,
              "#9c179e"
             ],
             [
              0.4444444444444444,
              "#bd3786"
             ],
             [
              0.5555555555555556,
              "#d8576b"
             ],
             [
              0.6666666666666666,
              "#ed7953"
             ],
             [
              0.7777777777777778,
              "#fb9f3a"
             ],
             [
              0.8888888888888888,
              "#fdca26"
             ],
             [
              1,
              "#f0f921"
             ]
            ],
            "type": "surface"
           }
          ],
          "table": [
           {
            "cells": {
             "fill": {
              "color": "#EBF0F8"
             },
             "line": {
              "color": "white"
             }
            },
            "header": {
             "fill": {
              "color": "#C8D4E3"
             },
             "line": {
              "color": "white"
             }
            },
            "type": "table"
           }
          ]
         },
         "layout": {
          "annotationdefaults": {
           "arrowcolor": "#2a3f5f",
           "arrowhead": 0,
           "arrowwidth": 1
          },
          "autotypenumbers": "strict",
          "coloraxis": {
           "colorbar": {
            "outlinewidth": 0,
            "ticks": ""
           }
          },
          "colorscale": {
           "diverging": [
            [
             0,
             "#8e0152"
            ],
            [
             0.1,
             "#c51b7d"
            ],
            [
             0.2,
             "#de77ae"
            ],
            [
             0.3,
             "#f1b6da"
            ],
            [
             0.4,
             "#fde0ef"
            ],
            [
             0.5,
             "#f7f7f7"
            ],
            [
             0.6,
             "#e6f5d0"
            ],
            [
             0.7,
             "#b8e186"
            ],
            [
             0.8,
             "#7fbc41"
            ],
            [
             0.9,
             "#4d9221"
            ],
            [
             1,
             "#276419"
            ]
           ],
           "sequential": [
            [
             0,
             "#0d0887"
            ],
            [
             0.1111111111111111,
             "#46039f"
            ],
            [
             0.2222222222222222,
             "#7201a8"
            ],
            [
             0.3333333333333333,
             "#9c179e"
            ],
            [
             0.4444444444444444,
             "#bd3786"
            ],
            [
             0.5555555555555556,
             "#d8576b"
            ],
            [
             0.6666666666666666,
             "#ed7953"
            ],
            [
             0.7777777777777778,
             "#fb9f3a"
            ],
            [
             0.8888888888888888,
             "#fdca26"
            ],
            [
             1,
             "#f0f921"
            ]
           ],
           "sequentialminus": [
            [
             0,
             "#0d0887"
            ],
            [
             0.1111111111111111,
             "#46039f"
            ],
            [
             0.2222222222222222,
             "#7201a8"
            ],
            [
             0.3333333333333333,
             "#9c179e"
            ],
            [
             0.4444444444444444,
             "#bd3786"
            ],
            [
             0.5555555555555556,
             "#d8576b"
            ],
            [
             0.6666666666666666,
             "#ed7953"
            ],
            [
             0.7777777777777778,
             "#fb9f3a"
            ],
            [
             0.8888888888888888,
             "#fdca26"
            ],
            [
             1,
             "#f0f921"
            ]
           ]
          },
          "colorway": [
           "#636efa",
           "#EF553B",
           "#00cc96",
           "#ab63fa",
           "#FFA15A",
           "#19d3f3",
           "#FF6692",
           "#B6E880",
           "#FF97FF",
           "#FECB52"
          ],
          "font": {
           "color": "#2a3f5f"
          },
          "geo": {
           "bgcolor": "white",
           "lakecolor": "white",
           "landcolor": "#E5ECF6",
           "showlakes": true,
           "showland": true,
           "subunitcolor": "white"
          },
          "hoverlabel": {
           "align": "left"
          },
          "hovermode": "closest",
          "mapbox": {
           "style": "light"
          },
          "paper_bgcolor": "white",
          "plot_bgcolor": "#E5ECF6",
          "polar": {
           "angularaxis": {
            "gridcolor": "white",
            "linecolor": "white",
            "ticks": ""
           },
           "bgcolor": "#E5ECF6",
           "radialaxis": {
            "gridcolor": "white",
            "linecolor": "white",
            "ticks": ""
           }
          },
          "scene": {
           "xaxis": {
            "backgroundcolor": "#E5ECF6",
            "gridcolor": "white",
            "gridwidth": 2,
            "linecolor": "white",
            "showbackground": true,
            "ticks": "",
            "zerolinecolor": "white"
           },
           "yaxis": {
            "backgroundcolor": "#E5ECF6",
            "gridcolor": "white",
            "gridwidth": 2,
            "linecolor": "white",
            "showbackground": true,
            "ticks": "",
            "zerolinecolor": "white"
           },
           "zaxis": {
            "backgroundcolor": "#E5ECF6",
            "gridcolor": "white",
            "gridwidth": 2,
            "linecolor": "white",
            "showbackground": true,
            "ticks": "",
            "zerolinecolor": "white"
           }
          },
          "shapedefaults": {
           "line": {
            "color": "#2a3f5f"
           }
          },
          "ternary": {
           "aaxis": {
            "gridcolor": "white",
            "linecolor": "white",
            "ticks": ""
           },
           "baxis": {
            "gridcolor": "white",
            "linecolor": "white",
            "ticks": ""
           },
           "bgcolor": "#E5ECF6",
           "caxis": {
            "gridcolor": "white",
            "linecolor": "white",
            "ticks": ""
           }
          },
          "title": {
           "x": 0.05
          },
          "xaxis": {
           "automargin": true,
           "gridcolor": "white",
           "linecolor": "white",
           "ticks": "",
           "title": {
            "standoff": 15
           },
           "zerolinecolor": "white",
           "zerolinewidth": 2
          },
          "yaxis": {
           "automargin": true,
           "gridcolor": "white",
           "linecolor": "white",
           "ticks": "",
           "title": {
            "standoff": 15
           },
           "zerolinecolor": "white",
           "zerolinewidth": 2
          }
         }
        },
        "title": {
         "text": "Stock Prices of Tesla"
        },
        "xaxis": {
         "title": {
          "font": {
           "color": "black",
           "family": "Courier New, monospace",
           "size": 18
          },
          "text": "Date"
         }
        },
        "yaxis": {
         "title": {
          "font": {
           "color": "black",
           "family": "Courier New, monospace",
           "size": 18
          },
          "text": "Price"
         }
        }
       }
      },
      "text/html": [
       "<div>                            <div id=\"78029609-e0ab-47c9-acfe-4d835b6f0969\" class=\"plotly-graph-div\" style=\"height:525px; width:100%;\"></div>            <script type=\"text/javascript\">                require([\"plotly\"], function(Plotly) {                    window.PLOTLYENV=window.PLOTLYENV || {};                                    if (document.getElementById(\"78029609-e0ab-47c9-acfe-4d835b6f0969\")) {                    Plotly.newPlot(                        \"78029609-e0ab-47c9-acfe-4d835b6f0969\",                        [{\"x\":[\"2019-03-05\",\"2019-03-06\",\"2019-03-07\",\"2019-03-08\",\"2019-03-11\",\"2019-03-12\",\"2019-03-13\",\"2019-03-14\",\"2019-03-15\",\"2019-03-18\",\"2019-03-19\",\"2019-03-20\",\"2019-03-21\",\"2019-03-22\",\"2019-03-25\",\"2019-03-26\",\"2019-03-27\",\"2019-03-28\",\"2019-03-29\",\"2019-04-01\",\"2019-04-02\",\"2019-04-03\",\"2019-04-04\",\"2019-04-05\",\"2019-04-08\",\"2019-04-09\",\"2019-04-10\",\"2019-04-11\",\"2019-04-12\",\"2019-04-15\",\"2019-04-16\",\"2019-04-17\",\"2019-04-18\",\"2019-04-22\",\"2019-04-23\",\"2019-04-24\",\"2019-04-25\",\"2019-04-26\",\"2019-04-29\",\"2019-04-30\",\"2019-05-01\",\"2019-05-02\",\"2019-05-03\",\"2019-05-06\",\"2019-05-07\",\"2019-05-08\",\"2019-05-09\",\"2019-05-10\",\"2019-05-13\",\"2019-05-14\",\"2019-05-15\",\"2019-05-16\",\"2019-05-17\",\"2019-05-20\",\"2019-05-21\",\"2019-05-22\",\"2019-05-23\",\"2019-05-24\",\"2019-05-28\",\"2019-05-29\",\"2019-05-30\",\"2019-05-31\",\"2019-06-03\",\"2019-06-04\",\"2019-06-05\",\"2019-06-06\",\"2019-06-07\",\"2019-06-10\",\"2019-06-11\",\"2019-06-12\",\"2019-06-13\",\"2019-06-14\",\"2019-06-17\",\"2019-06-18\",\"2019-06-19\",\"2019-06-20\",\"2019-06-21\",\"2019-06-24\",\"2019-06-25\",\"2019-06-26\",\"2019-06-27\",\"2019-06-28\",\"2019-07-01\",\"2019-07-02\",\"2019-07-03\",\"2019-07-05\",\"2019-07-08\",\"2019-07-09\",\"2019-07-10\",\"2019-07-11\",\"2019-07-12\",\"2019-07-15\",\"2019-07-16\",\"2019-07-17\",\"2019-07-18\",\"2019-07-19\",\"2019-07-22\",\"2019-07-23\",\"2019-07-24\",\"2019-07-25\",\"2019-07-26\",\"2019-07-29\",\"2019-07-30\",\"2019-07-31\",\"2019-08-01\",\"2019-08-02\",\"2019-08-05\",\"2019-08-06\",\"2019-08-07\",\"2019-08-08\",\"2019-08-09\",\"2019-08-12\",\"2019-08-13\",\"2019-08-14\",\"2019-08-15\",\"2019-08-16\",\"2019-08-19\",\"2019-08-20\",\"2019-08-21\",\"2019-08-22\",\"2019-08-23\",\"2019-08-26\",\"2019-08-27\",\"2019-08-28\",\"2019-08-29\",\"2019-08-30\",\"2019-09-03\",\"2019-09-04\",\"2019-09-05\",\"2019-09-06\",\"2019-09-09\",\"2019-09-10\",\"2019-09-11\",\"2019-09-12\",\"2019-09-13\",\"2019-09-16\",\"2019-09-17\",\"2019-09-18\",\"2019-09-19\",\"2019-09-20\",\"2019-09-23\",\"2019-09-24\",\"2019-09-25\",\"2019-09-26\",\"2019-09-27\",\"2019-09-30\",\"2019-10-01\",\"2019-10-02\",\"2019-10-03\",\"2019-10-04\",\"2019-10-07\",\"2019-10-08\",\"2019-10-09\",\"2019-10-10\",\"2019-10-11\",\"2019-10-14\",\"2019-10-15\",\"2019-10-16\",\"2019-10-17\",\"2019-10-18\",\"2019-10-21\",\"2019-10-22\",\"2019-10-23\",\"2019-10-24\",\"2019-10-25\",\"2019-10-28\",\"2019-10-29\",\"2019-10-30\",\"2019-10-31\",\"2019-11-01\",\"2019-11-04\",\"2019-11-05\",\"2019-11-06\",\"2019-11-07\",\"2019-11-08\",\"2019-11-11\",\"2019-11-12\",\"2019-11-13\",\"2019-11-14\",\"2019-11-15\",\"2019-11-18\",\"2019-11-19\",\"2019-11-20\",\"2019-11-21\",\"2019-11-22\",\"2019-11-25\",\"2019-11-26\",\"2019-11-27\",\"2019-11-29\",\"2019-12-02\",\"2019-12-03\",\"2019-12-04\",\"2019-12-05\",\"2019-12-06\",\"2019-12-09\",\"2019-12-10\",\"2019-12-11\",\"2019-12-12\",\"2019-12-13\",\"2019-12-16\",\"2019-12-17\",\"2019-12-18\",\"2019-12-19\",\"2019-12-20\",\"2019-12-23\",\"2019-12-24\",\"2019-12-26\",\"2019-12-27\",\"2019-12-30\",\"2019-12-31\",\"2020-01-02\",\"2020-01-03\",\"2020-01-06\",\"2020-01-07\",\"2020-01-08\",\"2020-01-09\",\"2020-01-10\",\"2020-01-13\",\"2020-01-14\",\"2020-01-15\",\"2020-01-16\",\"2020-01-17\",\"2020-01-21\",\"2020-01-22\",\"2020-01-23\",\"2020-01-24\",\"2020-01-27\",\"2020-01-28\",\"2020-01-29\",\"2020-01-30\",\"2020-01-31\",\"2020-02-03\",\"2020-02-04\",\"2020-02-05\",\"2020-02-06\",\"2020-02-07\",\"2020-02-10\",\"2020-02-11\",\"2020-02-12\",\"2020-02-13\",\"2020-02-14\",\"2020-02-18\",\"2020-02-19\",\"2020-02-20\",\"2020-02-21\",\"2020-02-24\",\"2020-02-25\",\"2020-02-26\",\"2020-02-27\",\"2020-02-28\",\"2020-03-02\",\"2020-03-03\",\"2020-03-04\",\"2020-03-05\",\"2020-03-06\",\"2020-03-09\",\"2020-03-10\",\"2020-03-11\",\"2020-03-12\",\"2020-03-13\",\"2020-03-16\",\"2020-03-17\",\"2020-03-18\",\"2020-03-19\",\"2020-03-20\",\"2020-03-23\",\"2020-03-24\",\"2020-03-25\",\"2020-03-26\",\"2020-03-27\",\"2020-03-30\",\"2020-03-31\",\"2020-04-01\",\"2020-04-02\",\"2020-04-03\",\"2020-04-06\",\"2020-04-07\",\"2020-04-08\",\"2020-04-09\",\"2020-04-13\",\"2020-04-14\",\"2020-04-15\",\"2020-04-16\",\"2020-04-17\",\"2020-04-20\",\"2020-04-21\",\"2020-04-22\",\"2020-04-23\",\"2020-04-24\",\"2020-04-27\",\"2020-04-28\",\"2020-04-29\",\"2020-04-30\",\"2020-05-01\",\"2020-05-04\",\"2020-05-05\",\"2020-05-06\",\"2020-05-07\",\"2020-05-08\",\"2020-05-11\",\"2020-05-12\",\"2020-05-13\",\"2020-05-14\",\"2020-05-15\",\"2020-05-18\",\"2020-05-19\",\"2020-05-20\",\"2020-05-21\",\"2020-05-22\",\"2020-05-26\",\"2020-05-27\",\"2020-05-28\",\"2020-05-29\",\"2020-06-01\",\"2020-06-02\",\"2020-06-03\",\"2020-06-04\",\"2020-06-05\",\"2020-06-08\",\"2020-06-09\",\"2020-06-10\",\"2020-06-11\",\"2020-06-12\",\"2020-06-15\",\"2020-06-16\",\"2020-06-17\",\"2020-06-18\",\"2020-06-19\",\"2020-06-22\",\"2020-06-23\",\"2020-06-24\",\"2020-06-25\",\"2020-06-26\",\"2020-06-29\",\"2020-06-30\",\"2020-07-01\",\"2020-07-02\",\"2020-07-06\",\"2020-07-07\",\"2020-07-08\",\"2020-07-09\",\"2020-07-10\",\"2020-07-13\",\"2020-07-14\",\"2020-07-15\",\"2020-07-16\",\"2020-07-17\",\"2020-07-20\",\"2020-07-21\",\"2020-07-22\",\"2020-07-23\",\"2020-07-24\",\"2020-07-27\",\"2020-07-28\",\"2020-07-29\",\"2020-07-30\",\"2020-07-31\",\"2020-08-03\",\"2020-08-04\",\"2020-08-05\",\"2020-08-06\",\"2020-08-07\",\"2020-08-10\",\"2020-08-11\",\"2020-08-12\",\"2020-08-13\",\"2020-08-14\",\"2020-08-17\",\"2020-08-18\",\"2020-08-19\",\"2020-08-20\",\"2020-08-21\",\"2020-08-24\",\"2020-08-25\",\"2020-08-26\",\"2020-08-27\",\"2020-08-28\",\"2020-08-31\",\"2020-09-01\",\"2020-09-02\",\"2020-09-03\",\"2020-09-04\",\"2020-09-08\",\"2020-09-09\",\"2020-09-10\",\"2020-09-11\",\"2020-09-14\",\"2020-09-15\",\"2020-09-16\",\"2020-09-17\",\"2020-09-18\",\"2020-09-21\",\"2020-09-22\",\"2020-09-23\",\"2020-09-24\",\"2020-09-25\",\"2020-09-28\",\"2020-09-29\",\"2020-09-30\",\"2020-10-01\",\"2020-10-02\",\"2020-10-05\",\"2020-10-06\",\"2020-10-07\",\"2020-10-08\",\"2020-10-09\",\"2020-10-12\",\"2020-10-13\",\"2020-10-14\",\"2020-10-15\",\"2020-10-16\",\"2020-10-19\",\"2020-10-20\",\"2020-10-21\",\"2020-10-22\",\"2020-10-23\",\"2020-10-26\",\"2020-10-27\",\"2020-10-28\",\"2020-10-29\",\"2020-10-30\",\"2020-11-02\",\"2020-11-03\",\"2020-11-04\",\"2020-11-05\",\"2020-11-06\",\"2020-11-09\",\"2020-11-10\",\"2020-11-11\",\"2020-11-12\",\"2020-11-13\",\"2020-11-16\",\"2020-11-17\",\"2020-11-18\",\"2020-11-19\",\"2020-11-20\",\"2020-11-23\",\"2020-11-24\",\"2020-11-25\",\"2020-11-27\",\"2020-11-30\",\"2020-12-01\",\"2020-12-02\",\"2020-12-03\",\"2020-12-04\",\"2020-12-07\",\"2020-12-08\",\"2020-12-09\",\"2020-12-10\",\"2020-12-11\",\"2020-12-14\",\"2020-12-15\",\"2020-12-16\",\"2020-12-17\",\"2020-12-18\",\"2020-12-21\",\"2020-12-22\",\"2020-12-23\",\"2020-12-24\",\"2020-12-28\",\"2020-12-29\",\"2020-12-30\",\"2020-12-31\",\"2021-01-04\",\"2021-01-05\",\"2021-01-06\",\"2021-01-07\",\"2021-01-08\",\"2021-01-11\",\"2021-01-12\",\"2021-01-13\",\"2021-01-14\",\"2021-01-15\",\"2021-01-19\",\"2021-01-20\",\"2021-01-21\",\"2021-01-22\",\"2021-01-25\",\"2021-01-26\",\"2021-01-27\",\"2021-01-28\",\"2021-01-29\",\"2021-02-01\",\"2021-02-02\",\"2021-02-03\",\"2021-02-04\",\"2021-02-05\",\"2021-02-08\",\"2021-02-09\",\"2021-02-10\",\"2021-02-11\",\"2021-02-12\",\"2021-02-16\",\"2021-02-17\",\"2021-02-18\",\"2021-02-19\",\"2021-02-22\",\"2021-02-23\",\"2021-02-24\",\"2021-02-25\",\"2021-02-26\",\"2021-03-01\",\"2021-03-02\",\"2021-03-03\",\"2021-03-04\",\"2021-03-05\",\"2021-03-08\",\"2021-03-09\",\"2021-03-10\",\"2021-03-11\",\"2021-03-12\",\"2021-03-15\",\"2021-03-16\",\"2021-03-17\",\"2021-03-18\",\"2021-03-19\",\"2021-03-22\",\"2021-03-23\",\"2021-03-24\",\"2021-03-25\",\"2021-03-26\",\"2021-03-29\",\"2021-03-30\",\"2021-03-31\",\"2021-04-01\",\"2021-04-05\",\"2021-04-06\",\"2021-04-07\",\"2021-04-08\",\"2021-04-09\",\"2021-04-12\",\"2021-04-13\",\"2021-04-14\",\"2021-04-15\",\"2021-04-16\",\"2021-04-19\",\"2021-04-20\",\"2021-04-21\",\"2021-04-22\",\"2021-04-23\",\"2021-04-26\",\"2021-04-27\",\"2021-04-28\",\"2021-04-29\",\"2021-04-30\",\"2021-05-03\",\"2021-05-04\",\"2021-05-05\",\"2021-05-06\",\"2021-05-07\",\"2021-05-10\",\"2021-05-11\",\"2021-05-12\",\"2021-05-13\",\"2021-05-14\",\"2021-05-17\",\"2021-05-18\",\"2021-05-19\",\"2021-05-20\",\"2021-05-21\",\"2021-05-24\",\"2021-05-25\",\"2021-05-26\",\"2021-05-27\",\"2021-05-28\",\"2021-06-01\",\"2021-06-02\",\"2021-06-03\",\"2021-06-04\",\"2021-06-07\",\"2021-06-08\",\"2021-06-09\",\"2021-06-10\",\"2021-06-11\",\"2021-06-14\",\"2021-06-15\",\"2021-06-16\",\"2021-06-17\",\"2021-06-18\",\"2021-06-21\",\"2021-06-22\",\"2021-06-23\",\"2021-06-24\",\"2021-06-25\",\"2021-06-28\",\"2021-06-29\",\"2021-06-30\",\"2021-07-01\",\"2021-07-02\",\"2021-07-06\",\"2021-07-07\",\"2021-07-08\",\"2021-07-09\",\"2021-07-12\",\"2021-07-13\",\"2021-07-14\",\"2021-07-15\",\"2021-07-16\",\"2021-07-19\",\"2021-07-20\",\"2021-07-21\",\"2021-07-22\",\"2021-07-23\",\"2021-07-26\",\"2021-07-27\",\"2021-07-28\",\"2021-07-29\",\"2021-07-30\",\"2021-08-02\",\"2021-08-03\",\"2021-08-04\",\"2021-08-05\",\"2021-08-06\",\"2021-08-09\",\"2021-08-10\",\"2021-08-11\",\"2021-08-12\",\"2021-08-13\",\"2021-08-16\",\"2021-08-17\",\"2021-08-18\",\"2021-08-19\",\"2021-08-20\",\"2021-08-23\",\"2021-08-24\",\"2021-08-25\",\"2021-08-26\",\"2021-08-27\",\"2021-08-30\",\"2021-08-31\",\"2021-09-01\",\"2021-09-02\",\"2021-09-03\",\"2021-09-07\",\"2021-09-08\",\"2021-09-09\",\"2021-09-10\",\"2021-09-13\",\"2021-09-14\",\"2021-09-15\",\"2021-09-16\",\"2021-09-17\",\"2021-09-20\",\"2021-09-21\",\"2021-09-22\",\"2021-09-23\",\"2021-09-24\",\"2021-09-27\",\"2021-09-28\",\"2021-09-29\",\"2021-09-30\",\"2021-10-01\",\"2021-10-04\",\"2021-10-05\",\"2021-10-06\",\"2021-10-07\",\"2021-10-08\",\"2021-10-11\",\"2021-10-12\",\"2021-10-13\",\"2021-10-14\",\"2021-10-15\",\"2021-10-18\",\"2021-10-19\",\"2021-10-20\",\"2021-10-21\",\"2021-10-22\",\"2021-10-25\",\"2021-10-26\",\"2021-10-27\",\"2021-10-28\",\"2021-10-29\",\"2021-11-01\",\"2021-11-02\",\"2021-11-03\",\"2021-11-04\",\"2021-11-05\",\"2021-11-08\",\"2021-11-09\",\"2021-11-10\",\"2021-11-11\",\"2021-11-12\",\"2021-11-15\",\"2021-11-16\",\"2021-11-17\",\"2021-11-18\",\"2021-11-19\",\"2021-11-22\",\"2021-11-23\",\"2021-11-24\",\"2021-11-26\",\"2021-11-29\",\"2021-11-30\",\"2021-12-01\",\"2021-12-02\",\"2021-12-03\",\"2021-12-06\",\"2021-12-07\",\"2021-12-08\",\"2021-12-09\",\"2021-12-10\",\"2021-12-13\",\"2021-12-14\",\"2021-12-15\",\"2021-12-16\",\"2021-12-17\",\"2021-12-20\",\"2021-12-21\",\"2021-12-22\",\"2021-12-23\",\"2021-12-27\",\"2021-12-28\",\"2021-12-29\",\"2021-12-30\",\"2021-12-31\",\"2022-01-03\",\"2022-01-04\",\"2022-01-05\",\"2022-01-06\",\"2022-01-07\",\"2022-01-10\",\"2022-01-11\",\"2022-01-12\",\"2022-01-13\",\"2022-01-14\",\"2022-01-18\",\"2022-01-19\",\"2022-01-20\",\"2022-01-21\",\"2022-01-24\",\"2022-01-25\",\"2022-01-26\",\"2022-01-27\",\"2022-01-28\",\"2022-01-31\",\"2022-02-01\",\"2022-02-02\",\"2022-02-03\",\"2022-02-04\",\"2022-02-07\",\"2022-02-08\",\"2022-02-09\",\"2022-02-10\",\"2022-02-11\",\"2022-02-14\",\"2022-02-15\",\"2022-02-16\",\"2022-02-17\",\"2022-02-18\",\"2022-02-22\",\"2022-02-23\",\"2022-02-24\",\"2022-02-25\",\"2022-02-28\",\"2022-03-01\",\"2022-03-02\",\"2022-03-03\",\"2022-03-04\",\"2022-03-07\",\"2022-03-08\",\"2022-03-09\",\"2022-03-10\",\"2022-03-11\",\"2022-03-14\",\"2022-03-15\",\"2022-03-16\",\"2022-03-17\",\"2022-03-18\",\"2022-03-21\",\"2022-03-22\",\"2022-03-23\",\"2022-03-24\",\"2022-03-25\",\"2022-03-28\",\"2022-03-29\",\"2022-03-30\",\"2022-03-31\",\"2022-04-01\",\"2022-04-04\",\"2022-04-05\",\"2022-04-06\",\"2022-04-07\",\"2022-04-08\",\"2022-04-11\",\"2022-04-12\",\"2022-04-13\",\"2022-04-14\",\"2022-04-18\",\"2022-04-19\",\"2022-04-20\",\"2022-04-21\",\"2022-04-22\",\"2022-04-25\",\"2022-04-26\",\"2022-04-27\",\"2022-04-28\",\"2022-04-29\",\"2022-05-02\",\"2022-05-03\",\"2022-05-04\",\"2022-05-05\",\"2022-05-06\",\"2022-05-09\",\"2022-05-10\",\"2022-05-11\",\"2022-05-12\",\"2022-05-13\",\"2022-05-16\",\"2022-05-17\",\"2022-05-18\",\"2022-05-19\",\"2022-05-20\",\"2022-05-23\",\"2022-05-24\",\"2022-05-25\",\"2022-05-26\",\"2022-05-27\",\"2022-05-31\",\"2022-06-01\",\"2022-06-02\",\"2022-06-03\",\"2022-06-06\",\"2022-06-07\",\"2022-06-08\",\"2022-06-09\",\"2022-06-10\",\"2022-06-13\",\"2022-06-14\",\"2022-06-15\",\"2022-06-16\",\"2022-06-17\",\"2022-06-21\",\"2022-06-22\",\"2022-06-23\",\"2022-06-24\",\"2022-06-27\",\"2022-06-28\",\"2022-06-29\",\"2022-06-30\",\"2022-07-01\",\"2022-07-05\",\"2022-07-06\",\"2022-07-07\",\"2022-07-08\",\"2022-07-11\",\"2022-07-12\",\"2022-07-13\",\"2022-07-14\",\"2022-07-15\",\"2022-07-18\",\"2022-07-19\",\"2022-07-20\",\"2022-07-21\",\"2022-07-22\",\"2022-07-25\",\"2022-07-26\",\"2022-07-27\",\"2022-07-28\",\"2022-07-29\",\"2022-08-01\",\"2022-08-02\",\"2022-08-03\",\"2022-08-04\",\"2022-08-05\",\"2022-08-08\",\"2022-08-09\",\"2022-08-10\",\"2022-08-11\",\"2022-08-12\",\"2022-08-15\",\"2022-08-16\",\"2022-08-17\",\"2022-08-18\",\"2022-08-19\",\"2022-08-22\",\"2022-08-23\",\"2022-08-24\",\"2022-08-25\",\"2022-08-26\",\"2022-08-29\",\"2022-08-30\",\"2022-08-31\",\"2022-09-01\",\"2022-09-02\",\"2022-09-06\",\"2022-09-07\",\"2022-09-08\",\"2022-09-09\",\"2022-09-12\",\"2022-09-13\",\"2022-09-14\",\"2022-09-15\",\"2022-09-16\",\"2022-09-19\",\"2022-09-20\",\"2022-09-21\",\"2022-09-22\",\"2022-09-23\",\"2022-09-26\",\"2022-09-27\",\"2022-09-28\",\"2022-09-29\",\"2022-09-30\",\"2022-10-03\",\"2022-10-04\",\"2022-10-05\",\"2022-10-06\",\"2022-10-07\",\"2022-10-10\",\"2022-10-11\",\"2022-10-12\",\"2022-10-13\",\"2022-10-14\",\"2022-10-17\",\"2022-10-18\",\"2022-10-19\",\"2022-10-20\",\"2022-10-21\",\"2022-10-24\",\"2022-10-25\",\"2022-10-26\",\"2022-10-27\",\"2022-10-28\",\"2022-10-31\",\"2022-11-01\",\"2022-11-02\",\"2022-11-03\",\"2022-11-04\"],\"y\":[18.436001,18.416,18.439333,18.942667,19.394667,18.890667,19.264,19.330667,18.362,17.966,17.831333,18.24,18.268,17.635332,17.361334,17.851334,18.322001,18.574667,18.657333,19.278667,19.058666,19.454,17.851999,18.330667,18.213333,18.153999,18.403999,17.894667,17.846666,17.758667,18.224001,18.082001,18.217333,17.516666,17.593332,17.243999,16.508667,15.676,16.098,15.912667,15.600667,16.273333,17.002001,17.022667,16.470667,16.322666,16.132,15.968,15.134,15.487333,15.463333,15.222,14.068667,13.690667,13.672,12.848667,13.032667,12.708667,12.58,12.657333,12.548,12.344,11.931333,12.906667,13.106,13.73,13.633333,14.192,14.473333,13.950667,14.260667,14.328,15.002,14.982667,15.095333,14.641333,14.790667,14.909333,14.650667,14.618,14.856,14.897333,15.144667,14.97,15.66,15.54,15.356,15.337333,15.928,15.906667,16.338667,16.9,16.825333,16.990667,16.902666,17.212,17.045334,17.344667,17.658667,15.254667,15.202667,15.718,16.150667,16.107332,15.59,15.622667,15.221333,15.383333,15.561333,15.886667,15.667333,15.267333,15.666667,14.641333,14.376,14.662667,15.122,15.057333,14.722,14.81,14.093333,14.333333,14.272,14.372667,14.780667,15.040667,15.000667,14.712,15.305333,15.163333,15.452667,15.702667,16.473333,16.391333,16.346666,16.187332,16.319332,16.232668,16.440001,16.041332,16.082001,14.880667,15.246667,16.170668,16.142,16.058001,16.312668,16.208668,15.535333,15.428667,15.848,16.003332,16.302,16.316,16.525999,17.130667,17.192667,17.316668,17.464666,17.129999,16.9,17.038668,16.978666,19.978666,21.875334,21.847334,21.081333,21.000668,20.994667,20.887333,21.164667,21.148001,21.771999,22.369333,22.476,23.006001,23.328667,23.073999,23.290001,23.478001,23.332666,23.968,23.481333,23.655333,22.202667,22.422667,21.927999,22.086,21.996,22.324667,22.413334,22.202,22.024668,22.392668,22.635332,23.256001,23.513332,23.978666,23.892668,25.433332,25.266001,26.209999,26.936001,27.039333,27.948,28.35,28.729334,28.691999,27.646667,27.888666,28.684,29.534,30.102667,31.270666,32.809334,32.089333,31.876667,34.990665,35.861332,34.566666,34.232666,34.033333,36.48,37.970669,38.146667,37.654667,37.201332,37.793331,38.732666,42.720669,43.371334,52.0,59.137333,48.98,49.930668,49.871334,51.418667,51.625332,51.152668,53.599998,53.335335,57.226665,61.161331,59.960667,60.066666,55.585999,53.327332,51.919998,45.266666,44.532665,49.574669,49.700668,49.966667,48.302666,46.898666,40.533333,43.021999,42.282001,37.369999,36.441334,29.671333,28.68,24.081333,28.509333,28.502001,28.952667,33.666668,35.950001,35.210667,34.290668,33.475334,34.933334,32.104,30.298,32.000668,34.416,36.363335,36.589333,38.200001,43.396667,47.326,48.655334,49.680668,50.259335,49.757332,45.781334,48.807335,47.042,48.343334,53.25,51.274666,53.367332,52.125332,46.754665,50.745998,51.214001,52.172001,52.002666,54.627998,54.085999,53.960667,52.730667,53.555332,53.278,54.242001,53.867332,54.370667,55.173332,54.458668,54.591331,54.681999,53.720669,55.666668,59.873333,58.770668,58.863998,57.625332,59.043999,63.327999,62.711334,68.33667,64.856003,62.352001,66.059998,65.475334,66.119331,66.930664,66.726669,66.288002,66.785332,64.056664,65.732002,63.982666,67.290001,71.987335,74.641998,80.577332,91.438667,92.657333,91.05867,92.952003,102.976669,99.804001,101.120003,103.067329,100.042664,100.056,109.533333,104.557335,106.155334,100.87133,94.466667,102.639999,98.432671,99.940666,99.166,95.384003,99.0,99.133331,99.001335,99.305336,96.847336,94.571335,91.625999,103.650665,108.066666,110.047333,122.375999,125.806,125.235336,133.455338,136.665329,134.279999,134.889328,143.544662,149.25,147.559998,166.106674,158.350006,149.123337,135.666672,139.440002,110.07,122.09333,123.779999,124.239998,139.873337,149.919998,147.253326,141.143326,147.383331,149.796661,141.410004,126.786667,129.263336,135.779999,140.399994,139.690002,143.003326,149.386673,138.363327,141.893326,137.993332,141.766663,141.973328,144.666672,147.433334,148.883331,153.766663,149.626663,146.556671,143.610001,140.646667,140.880005,141.929993,140.210007,140.093338,141.559998,135.339996,136.943329,129.346664,133.503326,141.300003,140.32666,146.029999,143.316666,140.419998,136.786667,139.043335,137.253326,136.166672,136.029999,147.203339,162.213333,166.42334,163.203339,173.949997,185.126663,191.333328,195.253326,189.199997,194.919998,189.606674,197.793335,199.679993,213.919998,216.626663,201.493332,209.023331,203.330002,213.276672,211.083328,207.589996,218.633331,231.666672,216.619995,213.446671,215.32666,220.589996,221.229996,221.996674,231.593338,235.223328,243.256668,245.036667,251.993332,272.013336,293.339996,270.396667,283.146667,284.803345,281.666656,275.386658,281.516663,283.483337,281.66333,282.213318,293.600006,294.363342,288.053345,278.476654,264.51001,279.936676,290.929993,284.896667,283.329987,284.07666,287.806671,283.15332,268.273346,270.553345,272.040009,265.406677,266.049988,262.459991,260.433319,238.166672,232.946671,247.339996,227.406662,225.166672,239.476669,228.813339,217.733337,207.146667,199.316666,187.666672,224.526672,222.686661,233.199997,231.243332,235.979996,225.626663,233.936661,217.720001,218.289993,223.333328,220.720001,210.089996,213.463333,206.236664,203.763336,211.873337,222.643326,220.583328,230.350006,230.539993,223.656662,227.933334,225.67334,233.993332,254.106674,244.07666,246.28334,246.593338,238.210007,239.66333,248.039993,239.896667,243.133331,246.066666,234.91333,231.46666,225.666672,236.479996,228.300003,224.53334,223.646667,221.179993,224.123337,209.679993,205.733337,196.630005,190.563339,196.580002,192.276672,192.623337,187.820007,195.593338,193.626663,202.146667,201.563339,206.376663,210.28334,208.406662,207.96666,201.706665,190.946671,199.683334,201.710007,201.196671,199.593338,203.373337,203.296661,205.896667,199.786667,201.623337,205.53334,207.770004,206.943329,207.903336,218.856674,226.606674,223.956665,229.573334,226.919998,226.566666,225.973328,226.300003,219.860001,214.883331,217.603333,218.983337,228.566666,222.846664,217.793335,216.866669,214.740005,215.406662,220.166672,218.429993,216.419998,214.460007,219.206665,214.926666,215.660004,225.78334,229.066666,236.556671,236.580002,236.973328,238.210007,233.03334,237.919998,236.66333,235.940002,240.75,239.056671,228.723328,221.903336,229.66333,224.490005,226.753326,235.433334,236.16333,237.066666,233.720001,237.306671,243.636673,245.240005,244.696671,244.130005,244.523331,250.973328,251.289993,251.619995,245.42334,247.666672,248.16333,251.943329,252.330002,253.16333,243.389999,246.460007,250.646667,251.213333,258.130005,263.786682,259.186676,260.436676,258.493347,258.406677,260.51001,260.196655,260.916656,264.536682,261.829987,263.980011,268.573334,270.359985,272.773346,281.01001,290.036682,288.089996,288.600006,298.0,303.226654,341.619995,339.476654,345.953339,359.013336,371.333344,402.863342,390.666656,404.619995,409.970001,407.363342,387.646667,341.166656,355.983337,354.503326,344.473328,337.796661,351.57666,363.003326,365.459991,379.019989,385.623322,369.676666,372.0,360.640015,378.996674,381.58667,365.0,361.533325,338.323334,336.33667,350.583344,356.320007,334.600006,339.01001,322.136658,319.503326,325.329987,308.973328,310.856659,299.980011,312.843323,336.290009,355.666656,364.646667,362.823334,362.063324,356.779999,352.26001,399.926666,383.196655,362.706665,354.899994,342.320007,352.706665,354.799988,368.73999,343.853333,349.869995,343.503326,331.883331,332.089996,314.633331,310.0,306.133331,312.470001,276.366669,282.116669,312.23999,310.416656,301.886658,297.046661,307.773346,302.446655,307.333344,310.666656,301.516663,286.666656,291.920013,307.476654,307.796661,292.116669,285.660004,273.843323,254.679993,266.92334,269.956665,290.143341,288.123322,293.296661,279.763336,279.429993,268.193329,274.799988,286.323334,279.433319,265.116669,255.456665,267.296661,280.07666,290.533325,301.796661,307.053345,331.32666,333.036682,337.973328,336.880005,363.946655,366.523346,364.66333,359.200012,361.529999,381.816681,363.753326,348.58667,352.420013,341.829987,325.309998,328.983337,340.790009,328.333344,334.763336,342.716675,325.733337,336.26001,335.016663,332.67334,292.140015,293.83667,292.503326,290.253326,300.980011,303.083344,317.540009,291.093323,288.549988,262.369995,266.679993,244.666672,242.666672,256.529999,241.456665,253.869995,236.603333,236.473328,221.300003,224.96666,209.386673,219.600006,235.910004,253.210007,252.753326,246.789993,258.333344,234.516663,238.279999,238.886673,241.866669,239.706665,232.229996,215.736664,220.889999,233.0,213.100006,216.759995,237.036667,236.08667,235.070007,245.706665,244.919998,232.66333,228.490005,224.473328,227.263336,233.066666,231.733337,244.543335,250.763336,234.343338,233.070007,237.039993,238.313339,240.066666,240.546661,245.529999,247.5,271.706665,272.243347,268.433319,258.859985,274.820007,280.899994,297.149994,297.276672,300.58667,307.396667,308.633331,288.170013,290.42334,283.333344,294.356659,286.630005,300.029999,309.320007,306.563324,303.996674,302.869995,296.666656,289.91333,296.453339,297.09668,296.070007,288.089996,284.820007,277.700012,275.609985,277.160004,270.209991,274.420013,283.700012,289.26001,299.679993,304.420013,292.130005,302.609985,303.75,303.350006,309.070007,308.730011,300.799988,288.589996,275.329987,276.01001,282.940002,287.809998,268.209991,265.25,242.399994,249.440002,240.809998,238.130005,223.070007,222.960007,216.5,217.240005,221.720001,204.990005,219.350006,220.190002,222.039993,207.279999,214.440002,211.25,222.419998,224.639999,225.089996,228.520004,227.539993,227.820007,214.979996,215.309998,207.470001],\"type\":\"scatter\"}],                        {\"template\":{\"data\":{\"barpolar\":[{\"marker\":{\"line\":{\"color\":\"#E5ECF6\",\"width\":0.5},\"pattern\":{\"fillmode\":\"overlay\",\"size\":10,\"solidity\":0.2}},\"type\":\"barpolar\"}],\"bar\":[{\"error_x\":{\"color\":\"#2a3f5f\"},\"error_y\":{\"color\":\"#2a3f5f\"},\"marker\":{\"line\":{\"color\":\"#E5ECF6\",\"width\":0.5},\"pattern\":{\"fillmode\":\"overlay\",\"size\":10,\"solidity\":0.2}},\"type\":\"bar\"}],\"carpet\":[{\"aaxis\":{\"endlinecolor\":\"#2a3f5f\",\"gridcolor\":\"white\",\"linecolor\":\"white\",\"minorgridcolor\":\"white\",\"startlinecolor\":\"#2a3f5f\"},\"baxis\":{\"endlinecolor\":\"#2a3f5f\",\"gridcolor\":\"white\",\"linecolor\":\"white\",\"minorgridcolor\":\"white\",\"startlinecolor\":\"#2a3f5f\"},\"type\":\"carpet\"}],\"choropleth\":[{\"colorbar\":{\"outlinewidth\":0,\"ticks\":\"\"},\"type\":\"choropleth\"}],\"contourcarpet\":[{\"colorbar\":{\"outlinewidth\":0,\"ticks\":\"\"},\"type\":\"contourcarpet\"}],\"contour\":[{\"colorbar\":{\"outlinewidth\":0,\"ticks\":\"\"},\"colorscale\":[[0.0,\"#0d0887\"],[0.1111111111111111,\"#46039f\"],[0.2222222222222222,\"#7201a8\"],[0.3333333333333333,\"#9c179e\"],[0.4444444444444444,\"#bd3786\"],[0.5555555555555556,\"#d8576b\"],[0.6666666666666666,\"#ed7953\"],[0.7777777777777778,\"#fb9f3a\"],[0.8888888888888888,\"#fdca26\"],[1.0,\"#f0f921\"]],\"type\":\"contour\"}],\"heatmapgl\":[{\"colorbar\":{\"outlinewidth\":0,\"ticks\":\"\"},\"colorscale\":[[0.0,\"#0d0887\"],[0.1111111111111111,\"#46039f\"],[0.2222222222222222,\"#7201a8\"],[0.3333333333333333,\"#9c179e\"],[0.4444444444444444,\"#bd3786\"],[0.5555555555555556,\"#d8576b\"],[0.6666666666666666,\"#ed7953\"],[0.7777777777777778,\"#fb9f3a\"],[0.8888888888888888,\"#fdca26\"],[1.0,\"#f0f921\"]],\"type\":\"heatmapgl\"}],\"heatmap\":[{\"colorbar\":{\"outlinewidth\":0,\"ticks\":\"\"},\"colorscale\":[[0.0,\"#0d0887\"],[0.1111111111111111,\"#46039f\"],[0.2222222222222222,\"#7201a8\"],[0.3333333333333333,\"#9c179e\"],[0.4444444444444444,\"#bd3786\"],[0.5555555555555556,\"#d8576b\"],[0.6666666666666666,\"#ed7953\"],[0.7777777777777778,\"#fb9f3a\"],[0.8888888888888888,\"#fdca26\"],[1.0,\"#f0f921\"]],\"type\":\"heatmap\"}],\"histogram2dcontour\":[{\"colorbar\":{\"outlinewidth\":0,\"ticks\":\"\"},\"colorscale\":[[0.0,\"#0d0887\"],[0.1111111111111111,\"#46039f\"],[0.2222222222222222,\"#7201a8\"],[0.3333333333333333,\"#9c179e\"],[0.4444444444444444,\"#bd3786\"],[0.5555555555555556,\"#d8576b\"],[0.6666666666666666,\"#ed7953\"],[0.7777777777777778,\"#fb9f3a\"],[0.8888888888888888,\"#fdca26\"],[1.0,\"#f0f921\"]],\"type\":\"histogram2dcontour\"}],\"histogram2d\":[{\"colorbar\":{\"outlinewidth\":0,\"ticks\":\"\"},\"colorscale\":[[0.0,\"#0d0887\"],[0.1111111111111111,\"#46039f\"],[0.2222222222222222,\"#7201a8\"],[0.3333333333333333,\"#9c179e\"],[0.4444444444444444,\"#bd3786\"],[0.5555555555555556,\"#d8576b\"],[0.6666666666666666,\"#ed7953\"],[0.7777777777777778,\"#fb9f3a\"],[0.8888888888888888,\"#fdca26\"],[1.0,\"#f0f921\"]],\"type\":\"histogram2d\"}],\"histogram\":[{\"marker\":{\"pattern\":{\"fillmode\":\"overlay\",\"size\":10,\"solidity\":0.2}},\"type\":\"histogram\"}],\"mesh3d\":[{\"colorbar\":{\"outlinewidth\":0,\"ticks\":\"\"},\"type\":\"mesh3d\"}],\"parcoords\":[{\"line\":{\"colorbar\":{\"outlinewidth\":0,\"ticks\":\"\"}},\"type\":\"parcoords\"}],\"pie\":[{\"automargin\":true,\"type\":\"pie\"}],\"scatter3d\":[{\"line\":{\"colorbar\":{\"outlinewidth\":0,\"ticks\":\"\"}},\"marker\":{\"colorbar\":{\"outlinewidth\":0,\"ticks\":\"\"}},\"type\":\"scatter3d\"}],\"scattercarpet\":[{\"marker\":{\"colorbar\":{\"outlinewidth\":0,\"ticks\":\"\"}},\"type\":\"scattercarpet\"}],\"scattergeo\":[{\"marker\":{\"colorbar\":{\"outlinewidth\":0,\"ticks\":\"\"}},\"type\":\"scattergeo\"}],\"scattergl\":[{\"marker\":{\"colorbar\":{\"outlinewidth\":0,\"ticks\":\"\"}},\"type\":\"scattergl\"}],\"scattermapbox\":[{\"marker\":{\"colorbar\":{\"outlinewidth\":0,\"ticks\":\"\"}},\"type\":\"scattermapbox\"}],\"scatterpolargl\":[{\"marker\":{\"colorbar\":{\"outlinewidth\":0,\"ticks\":\"\"}},\"type\":\"scatterpolargl\"}],\"scatterpolar\":[{\"marker\":{\"colorbar\":{\"outlinewidth\":0,\"ticks\":\"\"}},\"type\":\"scatterpolar\"}],\"scatter\":[{\"fillpattern\":{\"fillmode\":\"overlay\",\"size\":10,\"solidity\":0.2},\"type\":\"scatter\"}],\"scatterternary\":[{\"marker\":{\"colorbar\":{\"outlinewidth\":0,\"ticks\":\"\"}},\"type\":\"scatterternary\"}],\"surface\":[{\"colorbar\":{\"outlinewidth\":0,\"ticks\":\"\"},\"colorscale\":[[0.0,\"#0d0887\"],[0.1111111111111111,\"#46039f\"],[0.2222222222222222,\"#7201a8\"],[0.3333333333333333,\"#9c179e\"],[0.4444444444444444,\"#bd3786\"],[0.5555555555555556,\"#d8576b\"],[0.6666666666666666,\"#ed7953\"],[0.7777777777777778,\"#fb9f3a\"],[0.8888888888888888,\"#fdca26\"],[1.0,\"#f0f921\"]],\"type\":\"surface\"}],\"table\":[{\"cells\":{\"fill\":{\"color\":\"#EBF0F8\"},\"line\":{\"color\":\"white\"}},\"header\":{\"fill\":{\"color\":\"#C8D4E3\"},\"line\":{\"color\":\"white\"}},\"type\":\"table\"}]},\"layout\":{\"annotationdefaults\":{\"arrowcolor\":\"#2a3f5f\",\"arrowhead\":0,\"arrowwidth\":1},\"autotypenumbers\":\"strict\",\"coloraxis\":{\"colorbar\":{\"outlinewidth\":0,\"ticks\":\"\"}},\"colorscale\":{\"diverging\":[[0,\"#8e0152\"],[0.1,\"#c51b7d\"],[0.2,\"#de77ae\"],[0.3,\"#f1b6da\"],[0.4,\"#fde0ef\"],[0.5,\"#f7f7f7\"],[0.6,\"#e6f5d0\"],[0.7,\"#b8e186\"],[0.8,\"#7fbc41\"],[0.9,\"#4d9221\"],[1,\"#276419\"]],\"sequential\":[[0.0,\"#0d0887\"],[0.1111111111111111,\"#46039f\"],[0.2222222222222222,\"#7201a8\"],[0.3333333333333333,\"#9c179e\"],[0.4444444444444444,\"#bd3786\"],[0.5555555555555556,\"#d8576b\"],[0.6666666666666666,\"#ed7953\"],[0.7777777777777778,\"#fb9f3a\"],[0.8888888888888888,\"#fdca26\"],[1.0,\"#f0f921\"]],\"sequentialminus\":[[0.0,\"#0d0887\"],[0.1111111111111111,\"#46039f\"],[0.2222222222222222,\"#7201a8\"],[0.3333333333333333,\"#9c179e\"],[0.4444444444444444,\"#bd3786\"],[0.5555555555555556,\"#d8576b\"],[0.6666666666666666,\"#ed7953\"],[0.7777777777777778,\"#fb9f3a\"],[0.8888888888888888,\"#fdca26\"],[1.0,\"#f0f921\"]]},\"colorway\":[\"#636efa\",\"#EF553B\",\"#00cc96\",\"#ab63fa\",\"#FFA15A\",\"#19d3f3\",\"#FF6692\",\"#B6E880\",\"#FF97FF\",\"#FECB52\"],\"font\":{\"color\":\"#2a3f5f\"},\"geo\":{\"bgcolor\":\"white\",\"lakecolor\":\"white\",\"landcolor\":\"#E5ECF6\",\"showlakes\":true,\"showland\":true,\"subunitcolor\":\"white\"},\"hoverlabel\":{\"align\":\"left\"},\"hovermode\":\"closest\",\"mapbox\":{\"style\":\"light\"},\"paper_bgcolor\":\"white\",\"plot_bgcolor\":\"#E5ECF6\",\"polar\":{\"angularaxis\":{\"gridcolor\":\"white\",\"linecolor\":\"white\",\"ticks\":\"\"},\"bgcolor\":\"#E5ECF6\",\"radialaxis\":{\"gridcolor\":\"white\",\"linecolor\":\"white\",\"ticks\":\"\"}},\"scene\":{\"xaxis\":{\"backgroundcolor\":\"#E5ECF6\",\"gridcolor\":\"white\",\"gridwidth\":2,\"linecolor\":\"white\",\"showbackground\":true,\"ticks\":\"\",\"zerolinecolor\":\"white\"},\"yaxis\":{\"backgroundcolor\":\"#E5ECF6\",\"gridcolor\":\"white\",\"gridwidth\":2,\"linecolor\":\"white\",\"showbackground\":true,\"ticks\":\"\",\"zerolinecolor\":\"white\"},\"zaxis\":{\"backgroundcolor\":\"#E5ECF6\",\"gridcolor\":\"white\",\"gridwidth\":2,\"linecolor\":\"white\",\"showbackground\":true,\"ticks\":\"\",\"zerolinecolor\":\"white\"}},\"shapedefaults\":{\"line\":{\"color\":\"#2a3f5f\"}},\"ternary\":{\"aaxis\":{\"gridcolor\":\"white\",\"linecolor\":\"white\",\"ticks\":\"\"},\"baxis\":{\"gridcolor\":\"white\",\"linecolor\":\"white\",\"ticks\":\"\"},\"bgcolor\":\"#E5ECF6\",\"caxis\":{\"gridcolor\":\"white\",\"linecolor\":\"white\",\"ticks\":\"\"}},\"title\":{\"x\":0.05},\"xaxis\":{\"automargin\":true,\"gridcolor\":\"white\",\"linecolor\":\"white\",\"ticks\":\"\",\"title\":{\"standoff\":15},\"zerolinecolor\":\"white\",\"zerolinewidth\":2},\"yaxis\":{\"automargin\":true,\"gridcolor\":\"white\",\"linecolor\":\"white\",\"ticks\":\"\",\"title\":{\"standoff\":15},\"zerolinecolor\":\"white\",\"zerolinewidth\":2}}},\"title\":{\"text\":\"Stock Prices of Tesla\"},\"xaxis\":{\"title\":{\"font\":{\"color\":\"black\",\"family\":\"Courier New, monospace\",\"size\":18},\"text\":\"Date\"}},\"yaxis\":{\"title\":{\"font\":{\"color\":\"black\",\"family\":\"Courier New, monospace\",\"size\":18},\"text\":\"Price\"}}},                        {\"responsive\": true}                    ).then(function(){\n",
       "                            \n",
       "var gd = document.getElementById('78029609-e0ab-47c9-acfe-4d835b6f0969');\n",
       "var x = new MutationObserver(function (mutations, observer) {{\n",
       "        var display = window.getComputedStyle(gd).display;\n",
       "        if (!display || display === 'none') {{\n",
       "            console.log([gd, 'removed!']);\n",
       "            Plotly.purge(gd);\n",
       "            observer.disconnect();\n",
       "        }}\n",
       "}});\n",
       "\n",
       "// Listen for the removal of the full notebook cells\n",
       "var notebookContainer = gd.closest('#notebook-container');\n",
       "if (notebookContainer) {{\n",
       "    x.observe(notebookContainer, {childList: true});\n",
       "}}\n",
       "\n",
       "// Listen for the clearing of the current output cell\n",
       "var outputEl = gd.closest('.output');\n",
       "if (outputEl) {{\n",
       "    x.observe(outputEl, {childList: true});\n",
       "}}\n",
       "\n",
       "                        })                };                });            </script>        </div>"
      ]
     },
     "metadata": {},
     "output_type": "display_data"
    }
   ],
   "source": [
    "df = pd.read_csv(\"TSLA.csv\")\n",
    "\n",
    "layout = go.Layout(\n",
    "    title='Stock Prices of Tesla',\n",
    "    xaxis=dict(\n",
    "        title='Date',\n",
    "        titlefont=dict(\n",
    "            family='Courier New, monospace',\n",
    "            size=18,\n",
    "            color='black'\n",
    "        )\n",
    "    ),\n",
    "    yaxis=dict(\n",
    "        title='Price',\n",
    "        titlefont=dict(\n",
    "            family='Courier New, monospace',\n",
    "            size=18,\n",
    "            color='black'\n",
    "        )\n",
    "    )\n",
    ")\n",
    "\n",
    "tesla_data = [{'x':df['Date'], 'y':df['Close']}]\n",
    "plot = go.Figure(data=tesla_data, layout=layout)\n",
    "iplot(plot)"
   ]
  },
  {
   "cell_type": "markdown",
   "id": "704309fc",
   "metadata": {},
   "source": [
    "## Linear Regression Model"
   ]
  },
  {
   "cell_type": "code",
   "execution_count": 17,
   "id": "fe1d2db8",
   "metadata": {},
   "outputs": [],
   "source": [
    "# building our model \n",
    "from sklearn.model_selection import train_test_split\n",
    "\n",
    "# for normalizing dataset \n",
    "from sklearn.preprocessing import MinMaxScaler\n",
    "from sklearn.preprocessing import StandardScaler\n",
    "\n",
    "# for evaluating the model \n",
    "from sklearn.metrics import mean_squared_error as MSE\n",
    "from sklearn.metrics import r2_score"
   ]
  },
  {
   "cell_type": "code",
   "execution_count": 18,
   "id": "8fe6dc48",
   "metadata": {},
   "outputs": [],
   "source": [
    "#splitting the dataset into train and test sets \n",
    "X = np.array(df.index).reshape(-1,1)\n",
    "# target or dependent variable \n",
    "Y = df['Close']\n",
    "X_train,X_test,Y_train,Y_test = train_test_split(X,Y,test_size=0.6,random_state=101)"
   ]
  },
  {
   "cell_type": "markdown",
   "id": "a77a4e90",
   "metadata": {},
   "source": [
    "#### Scaling dataset as it reduces  computation time where all the values will be in range[0,1]."
   ]
  },
  {
   "cell_type": "code",
   "execution_count": 19,
   "id": "a9cfb0a7",
   "metadata": {},
   "outputs": [],
   "source": [
    "#Scaling the feature \n",
    "scaler = StandardScaler().fit(X_train)"
   ]
  },
  {
   "cell_type": "code",
   "execution_count": 20,
   "id": "ee903372",
   "metadata": {},
   "outputs": [
    {
     "data": {
      "text/html": [
       "<style>#sk-container-id-1 {color: black;background-color: white;}#sk-container-id-1 pre{padding: 0;}#sk-container-id-1 div.sk-toggleable {background-color: white;}#sk-container-id-1 label.sk-toggleable__label {cursor: pointer;display: block;width: 100%;margin-bottom: 0;padding: 0.3em;box-sizing: border-box;text-align: center;}#sk-container-id-1 label.sk-toggleable__label-arrow:before {content: \"▸\";float: left;margin-right: 0.25em;color: #696969;}#sk-container-id-1 label.sk-toggleable__label-arrow:hover:before {color: black;}#sk-container-id-1 div.sk-estimator:hover label.sk-toggleable__label-arrow:before {color: black;}#sk-container-id-1 div.sk-toggleable__content {max-height: 0;max-width: 0;overflow: hidden;text-align: left;background-color: #f0f8ff;}#sk-container-id-1 div.sk-toggleable__content pre {margin: 0.2em;color: black;border-radius: 0.25em;background-color: #f0f8ff;}#sk-container-id-1 input.sk-toggleable__control:checked~div.sk-toggleable__content {max-height: 200px;max-width: 100%;overflow: auto;}#sk-container-id-1 input.sk-toggleable__control:checked~label.sk-toggleable__label-arrow:before {content: \"▾\";}#sk-container-id-1 div.sk-estimator input.sk-toggleable__control:checked~label.sk-toggleable__label {background-color: #d4ebff;}#sk-container-id-1 div.sk-label input.sk-toggleable__control:checked~label.sk-toggleable__label {background-color: #d4ebff;}#sk-container-id-1 input.sk-hidden--visually {border: 0;clip: rect(1px 1px 1px 1px);clip: rect(1px, 1px, 1px, 1px);height: 1px;margin: -1px;overflow: hidden;padding: 0;position: absolute;width: 1px;}#sk-container-id-1 div.sk-estimator {font-family: monospace;background-color: #f0f8ff;border: 1px dotted black;border-radius: 0.25em;box-sizing: border-box;margin-bottom: 0.5em;}#sk-container-id-1 div.sk-estimator:hover {background-color: #d4ebff;}#sk-container-id-1 div.sk-parallel-item::after {content: \"\";width: 100%;border-bottom: 1px solid gray;flex-grow: 1;}#sk-container-id-1 div.sk-label:hover label.sk-toggleable__label {background-color: #d4ebff;}#sk-container-id-1 div.sk-serial::before {content: \"\";position: absolute;border-left: 1px solid gray;box-sizing: border-box;top: 0;bottom: 0;left: 50%;z-index: 0;}#sk-container-id-1 div.sk-serial {display: flex;flex-direction: column;align-items: center;background-color: white;padding-right: 0.2em;padding-left: 0.2em;position: relative;}#sk-container-id-1 div.sk-item {position: relative;z-index: 1;}#sk-container-id-1 div.sk-parallel {display: flex;align-items: stretch;justify-content: center;background-color: white;position: relative;}#sk-container-id-1 div.sk-item::before, #sk-container-id-1 div.sk-parallel-item::before {content: \"\";position: absolute;border-left: 1px solid gray;box-sizing: border-box;top: 0;bottom: 0;left: 50%;z-index: -1;}#sk-container-id-1 div.sk-parallel-item {display: flex;flex-direction: column;z-index: 1;position: relative;background-color: white;}#sk-container-id-1 div.sk-parallel-item:first-child::after {align-self: flex-end;width: 50%;}#sk-container-id-1 div.sk-parallel-item:last-child::after {align-self: flex-start;width: 50%;}#sk-container-id-1 div.sk-parallel-item:only-child::after {width: 0;}#sk-container-id-1 div.sk-dashed-wrapped {border: 1px dashed gray;margin: 0 0.4em 0.5em 0.4em;box-sizing: border-box;padding-bottom: 0.4em;background-color: white;}#sk-container-id-1 div.sk-label label {font-family: monospace;font-weight: bold;display: inline-block;line-height: 1.2em;}#sk-container-id-1 div.sk-label-container {text-align: center;}#sk-container-id-1 div.sk-container {/* jupyter's `normalize.less` sets `[hidden] { display: none; }` but bootstrap.min.css set `[hidden] { display: none !important; }` so we also need the `!important` here to be able to override the default hidden behavior on the sphinx rendered scikit-learn.org. See: https://github.com/scikit-learn/scikit-learn/issues/21755 */display: inline-block !important;position: relative;}#sk-container-id-1 div.sk-text-repr-fallback {display: none;}</style><div id=\"sk-container-id-1\" class=\"sk-top-container\"><div class=\"sk-text-repr-fallback\"><pre>LinearRegression()</pre><b>In a Jupyter environment, please rerun this cell to show the HTML representation or trust the notebook. <br />On GitHub, the HTML representation is unable to render, please try loading this page with nbviewer.org.</b></div><div class=\"sk-container\" hidden><div class=\"sk-item\"><div class=\"sk-estimator sk-toggleable\"><input class=\"sk-toggleable__control sk-hidden--visually\" id=\"sk-estimator-id-1\" type=\"checkbox\" checked><label for=\"sk-estimator-id-1\" class=\"sk-toggleable__label sk-toggleable__label-arrow\">LinearRegression</label><div class=\"sk-toggleable__content\"><pre>LinearRegression()</pre></div></div></div></div></div>"
      ],
      "text/plain": [
       "LinearRegression()"
      ]
     },
     "execution_count": 20,
     "metadata": {},
     "output_type": "execute_result"
    }
   ],
   "source": [
    "#Creation of Linear Model \n",
    "from sklearn.linear_model import LinearRegression\n",
    "\n",
    "model = LinearRegression()\n",
    "model.fit(X_train,Y_train)"
   ]
  },
  {
   "cell_type": "code",
   "execution_count": 21,
   "id": "f6d1b71a",
   "metadata": {},
   "outputs": [],
   "source": [
    "A = go.Scatter(\n",
    "       x = X_train.T[0],y= Y_train,\n",
    "       mode = \"markers\",name= \"Actual\")\n",
    "B = go.Scatter(\n",
    "       x = X_train.T[0],y= model.predict(X_train).T,\n",
    "       mode = \"lines\",name= \"Predicted\")\n",
    "tesla_data = [A,B]\n",
    "layout.xaxis.title.text = 'Date'\n",
    "plot2 = go.Figure(data = tesla_data,layout=layout)"
   ]
  },
  {
   "cell_type": "code",
   "execution_count": 22,
   "id": "d855aa5b",
   "metadata": {},
   "outputs": [
    {
     "data": {
      "application/vnd.plotly.v1+json": {
       "config": {
        "linkText": "Export to plot.ly",
        "plotlyServerURL": "https://plot.ly",
        "showLink": false
       },
       "data": [
        {
         "mode": "markers",
         "name": "Actual",
         "type": "scatter",
         "x": [
          785,
          51,
          44,
          714,
          707,
          315,
          243,
          770,
          411,
          729,
          805,
          504,
          193,
          222,
          691,
          220,
          271,
          13,
          431,
          577,
          798,
          211,
          17,
          153,
          775,
          14,
          73,
          879,
          745,
          443,
          861,
          593,
          93,
          730,
          344,
          740,
          724,
          854,
          215,
          521,
          396,
          387,
          480,
          150,
          890,
          511,
          297,
          152,
          736,
          302,
          667,
          494,
          715,
          922,
          720,
          169,
          415,
          822,
          608,
          45,
          409,
          924,
          112,
          398,
          602,
          277,
          496,
          590,
          380,
          437,
          712,
          629,
          842,
          310,
          390,
          541,
          405,
          102,
          655,
          238,
          25,
          787,
          559,
          430,
          158,
          20,
          289,
          587,
          330,
          698,
          376,
          635,
          653,
          502,
          684,
          900,
          453,
          119,
          606,
          588,
          251,
          579,
          647,
          594,
          444,
          836,
          401,
          754,
          245,
          145,
          350,
          764,
          611,
          829,
          221,
          311,
          515,
          85,
          755,
          671,
          177,
          108,
          242,
          115,
          35,
          441,
          549,
          546,
          1,
          634,
          490,
          780,
          571,
          101,
          662,
          369,
          809,
          11,
          456,
          921,
          223,
          537,
          163,
          849,
          913,
          422,
          753,
          359,
          488,
          917,
          192,
          208,
          832,
          813,
          912,
          97,
          811,
          377,
          22,
          554,
          348,
          518,
          820,
          591,
          88,
          50,
          592,
          892,
          705,
          657,
          566,
          232,
          578,
          893,
          26,
          469,
          800,
          663,
          697,
          487,
          845,
          122,
          96,
          190,
          906,
          596,
          455,
          144,
          774,
          803,
          87,
          412,
          270,
          658,
          61,
          484,
          708,
          580,
          79,
          129,
          67,
          564,
          125,
          649,
          678,
          609,
          219,
          910,
          395,
          309,
          285,
          370,
          692,
          404,
          280,
          397,
          253,
          52,
          561,
          792,
          654,
          696,
          804,
          358,
          589,
          82,
          856,
          217,
          305,
          911,
          539,
          788,
          711,
          356,
          94,
          383,
          254,
          235,
          535,
          465,
          21,
          846,
          149,
          470,
          797,
          508,
          558,
          643,
          46,
          461,
          451,
          226,
          207,
          675,
          244,
          357,
          71,
          366,
          229,
          103,
          262,
          632,
          197,
          505,
          709,
          250,
          526,
          303,
          340,
          3,
          540,
          853,
          478,
          625,
          394,
          507,
          92,
          886,
          570,
          871,
          386,
          685,
          137,
          214,
          741,
          47,
          686,
          850,
          794,
          378,
          776,
          276,
          868,
          499,
          10,
          542,
          419,
          498,
          895,
          703,
          901,
          664,
          463,
          203,
          760,
          273,
          140,
          362,
          628,
          512,
          300,
          876,
          327,
          888,
          402,
          878,
          329,
          750,
          294,
          615,
          440,
          436,
          519,
          831,
          284,
          99,
          676,
          574,
          264,
          239,
          457,
          503,
          105,
          343,
          619,
          735,
          76,
          638,
          275,
          249,
          840,
          556,
          418,
          59,
          883,
          371,
          136,
          506,
          623,
          851,
          49,
          40,
          477,
          908,
          5,
          110,
          704,
          732,
          316,
          757,
          923,
          644,
          552,
          393,
          75,
          599,
          575,
          838,
          337,
          523,
          863
         ],
         "y": [
          340.790009,
          15.222,
          16.470667,
          352.26001,
          312.843323,
          58.863998,
          59.960667,
          333.036682,
          143.610001,
          310,
          242.666672,
          207.146667,
          22.392668,
          36.48,
          378.996674,
          34.232666,
          34.933334,
          17.635332,
          136.029999,
          205.53334,
          303.083344,
          29.534,
          18.574667,
          16.316,
          364.66333,
          17.361334,
          14.982667,
          284.820007,
          307.476654,
          197.793335,
          307.396667,
          228.566666,
          16.990667,
          306.133331,
          103.067329,
          307.333344,
          349.869995,
          268.433319,
          32.089333,
          203.763336,
          140.399994,
          149.919998,
          278.476654,
          15.848,
          302.609985,
          235.979996,
          52.002666,
          16.302,
          301.886658,
          53.555332,
          341.619995,
          262.459991,
          399.926666,
          228.520004,
          352.706665,
          20.887333,
          140.210007,
          238.886673,
          236.556671,
          16.322666,
          149.626663,
          227.820007,
          15.666667,
          143.003326,
          214.460007,
          36.589333,
          238.166672,
          214.883331,
          135.666672,
          185.126663,
          362.063324,
          245.240005,
          244.543335,
          54.681999,
          147.383331,
          234.91333,
          144.666672,
          16.150667,
          264.536682,
          51.152668,
          18.153999,
          334.763336,
          193.626663,
          136.166672,
          17.464666,
          19.058666,
          53.25,
          225.973328,
          64.056664,
          356.320007,
          147.559998,
          251.619995,
          260.196655,
          228.813339,
          363.003326,
          287.809998,
          218.633331,
          14.81,
          225.78334,
          226.300003,
          49.700668,
          206.943329,
          263.786682,
          222.846664,
          199.679993,
          232.66333,
          141.893326,
          288.123322,
          55.585999,
          16.058001,
          100.87133,
          267.296661,
          238.210007,
          213.100006,
          34.033333,
          53.720669,
          218.289993,
          15.54,
          293.296661,
          371.333344,
          23.073999,
          15.561333,
          61.161331,
          14.662667,
          17.243999,
          194.919998,
          224.123337,
          224.53334,
          18.416,
          251.289993,
          270.553345,
          348.58667,
          199.593338,
          15.718,
          290.036682,
          125.235336,
          236.603333,
          18.24,
          213.446671,
          225.089996,
          37.970669,
          248.039993,
          19.978666,
          240.546661,
          219.350006,
          141.300003,
          290.143341,
          99.001335,
          283.15332,
          214.440002,
          22.024668,
          27.646667,
          236.08667,
          209.386673,
          204.990005,
          17.344667,
          221.300003,
          166.106674,
          17.851999,
          196.580002,
          104.557335,
          210.089996,
          234.516663,
          217.603333,
          15.928,
          15.463333,
          218.983337,
          303.350006,
          310.856659,
          263.980011,
          201.706665,
          59.137333,
          207.770004,
          309.070007,
          18.403999,
          283.146667,
          291.093323,
          288.089996,
          350.583344,
          287.806671,
          233.070007,
          14.272,
          17.045334,
          22.413334,
          238.130005,
          216.866669,
          216.619995,
          16.142,
          366.523346,
          266.679993,
          15.337333,
          140.646667,
          33.475334,
          268.573334,
          12.344,
          284.896667,
          336.290009,
          207.903336,
          14.618,
          15.163333,
          14.192,
          208.406662,
          15.040667,
          260.436676,
          341.166656,
          236.580002,
          34.566666,
          217.240005,
          135.779999,
          54.591331,
          45.781334,
          133.455338,
          381.58667,
          141.973328,
          47.326,
          139.690002,
          48.302666,
          14.068667,
          201.563339,
          332.67334,
          260.916656,
          336.33667,
          244.666672,
          99.133331,
          219.860001,
          15.144667,
          274.820007,
          34.990665,
          53.867332,
          221.720001,
          243.133331,
          342.716675,
          362.823334,
          95.384003,
          16.902666,
          122.09333,
          46.898666,
          49.871334,
          238.210007,
          251.993332,
          19.454,
          237.039993,
          15.428667,
          284.803345,
          300.980011,
          222.686661,
          195.593338,
          246.460007,
          16.132,
          231.593338,
          211.083328,
          37.201332,
          28.691999,
          409.970001,
          60.066666,
          99,
          14.328,
          110.047333,
          42.720669,
          16.107332,
          24.081333,
          244.523331,
          23.978666,
          199.316666,
          355.666656,
          49.574669,
          230.539993,
          53.278,
          92.952003,
          18.942667,
          246.066666,
          272.243347,
          294.363342,
          237.066666,
          129.263336,
          224.526672,
          16.825333,
          289.26001,
          201.196671,
          303.996674,
          139.873337,
          365.459991,
          16.232668,
          32.809334,
          310.666656,
          15.968,
          379.019989,
          245.529999,
          293.83667,
          158.350006,
          359.200012,
          36.363335,
          300.029999,
          227.406662,
          17.831333,
          231.46666,
          136.943329,
          247.339996,
          300.799988,
          325.329987,
          268.209991,
          288.600006,
          243.256668,
          27.039333,
          286.323334,
          30.298,
          16.082001,
          94.571335,
          243.636673,
          225.626663,
          53.960667,
          297.09668,
          66.726669,
          304.420013,
          137.993332,
          288.089996,
          66.785332,
          254.679993,
          50.745998,
          235.940002,
          189.199997,
          173.949997,
          213.463333,
          237.036667,
          49.757332,
          15.254667,
          407.363342,
          205.896667,
          28.502001,
          53.599998,
          215.32666,
          217.733337,
          15.622667,
          101.120003,
          221.903336,
          310.416656,
          14.790667,
          248.16333,
          34.416,
          44.532665,
          233.066666,
          192.623337,
          135.339996,
          12.657333,
          270.209991,
          136.665329,
          16.319332,
          187.666672,
          235.433334,
          247.5,
          15.487333,
          15.600667,
          293.600006,
          222.960007,
          18.890667,
          15.667333,
          308.973328,
          276.366669,
          57.625332,
          279.429993,
          227.539993,
          250.646667,
          196.630005,
          126.786667,
          14.641333,
          220.166672,
          199.786667,
          224.473328,
          91.438667,
          222.643326,
          288.170013
         ]
        },
        {
         "mode": "lines",
         "name": "Predicted",
         "type": "scatter",
         "x": [
          785,
          51,
          44,
          714,
          707,
          315,
          243,
          770,
          411,
          729,
          805,
          504,
          193,
          222,
          691,
          220,
          271,
          13,
          431,
          577,
          798,
          211,
          17,
          153,
          775,
          14,
          73,
          879,
          745,
          443,
          861,
          593,
          93,
          730,
          344,
          740,
          724,
          854,
          215,
          521,
          396,
          387,
          480,
          150,
          890,
          511,
          297,
          152,
          736,
          302,
          667,
          494,
          715,
          922,
          720,
          169,
          415,
          822,
          608,
          45,
          409,
          924,
          112,
          398,
          602,
          277,
          496,
          590,
          380,
          437,
          712,
          629,
          842,
          310,
          390,
          541,
          405,
          102,
          655,
          238,
          25,
          787,
          559,
          430,
          158,
          20,
          289,
          587,
          330,
          698,
          376,
          635,
          653,
          502,
          684,
          900,
          453,
          119,
          606,
          588,
          251,
          579,
          647,
          594,
          444,
          836,
          401,
          754,
          245,
          145,
          350,
          764,
          611,
          829,
          221,
          311,
          515,
          85,
          755,
          671,
          177,
          108,
          242,
          115,
          35,
          441,
          549,
          546,
          1,
          634,
          490,
          780,
          571,
          101,
          662,
          369,
          809,
          11,
          456,
          921,
          223,
          537,
          163,
          849,
          913,
          422,
          753,
          359,
          488,
          917,
          192,
          208,
          832,
          813,
          912,
          97,
          811,
          377,
          22,
          554,
          348,
          518,
          820,
          591,
          88,
          50,
          592,
          892,
          705,
          657,
          566,
          232,
          578,
          893,
          26,
          469,
          800,
          663,
          697,
          487,
          845,
          122,
          96,
          190,
          906,
          596,
          455,
          144,
          774,
          803,
          87,
          412,
          270,
          658,
          61,
          484,
          708,
          580,
          79,
          129,
          67,
          564,
          125,
          649,
          678,
          609,
          219,
          910,
          395,
          309,
          285,
          370,
          692,
          404,
          280,
          397,
          253,
          52,
          561,
          792,
          654,
          696,
          804,
          358,
          589,
          82,
          856,
          217,
          305,
          911,
          539,
          788,
          711,
          356,
          94,
          383,
          254,
          235,
          535,
          465,
          21,
          846,
          149,
          470,
          797,
          508,
          558,
          643,
          46,
          461,
          451,
          226,
          207,
          675,
          244,
          357,
          71,
          366,
          229,
          103,
          262,
          632,
          197,
          505,
          709,
          250,
          526,
          303,
          340,
          3,
          540,
          853,
          478,
          625,
          394,
          507,
          92,
          886,
          570,
          871,
          386,
          685,
          137,
          214,
          741,
          47,
          686,
          850,
          794,
          378,
          776,
          276,
          868,
          499,
          10,
          542,
          419,
          498,
          895,
          703,
          901,
          664,
          463,
          203,
          760,
          273,
          140,
          362,
          628,
          512,
          300,
          876,
          327,
          888,
          402,
          878,
          329,
          750,
          294,
          615,
          440,
          436,
          519,
          831,
          284,
          99,
          676,
          574,
          264,
          239,
          457,
          503,
          105,
          343,
          619,
          735,
          76,
          638,
          275,
          249,
          840,
          556,
          418,
          59,
          883,
          371,
          136,
          506,
          623,
          851,
          49,
          40,
          477,
          908,
          5,
          110,
          704,
          732,
          316,
          757,
          923,
          644,
          552,
          393,
          75,
          599,
          575,
          838,
          337,
          523,
          863
         ],
         "y": [
          292.1461297375173,
          5.812128758181046,
          3.0814230267704836,
          264.4489716046387,
          261.7182658732281,
          108.7987449142366,
          80.71148596258507,
          286.29461745592323,
          146.2484235164386,
          270.30048388623277,
          299.948146112976,
          182.52779966232183,
          61.2064450239382,
          72.51936876835339,
          255.47665277286117,
          71.73916713080752,
          91.63430888822734,
          -9.011702355190586,
          154.05043989189735,
          211.00515943274627,
          297.21744038156544,
          68.22825976185108,
          -7.451299080098835,
          45.60241227302069,
          288.2451215497879,
          -8.621601536417648,
          14.394346771185674,
          328.81560670217345,
          276.54209698659974,
          158.73164971717262,
          321.79379196426055,
          217.24677253311327,
          22.19636314664443,
          270.6905847050057,
          120.11166865865178,
          274.5915928927351,
          268.3499797923681,
          319.06308623284997,
          69.78866303694282,
          189.15951358146177,
          140.39691123484454,
          136.8860038658881,
          173.1653800117713,
          44.432109816701875,
          333.1067157086758,
          185.25850539373238,
          101.77693017632372,
          45.212311454247754,
          273.03118961764335,
          103.7274342701884,
          246.11423312231065,
          178.62679147459244,
          264.8390724234116,
          345.58994190940973,
          266.7895765172764,
          51.844025373387694,
          147.80882679153035,
          306.579860032116,
          223.09828481470734,
          3.4715238455434196,
          145.46822187889273,
          346.37014354695566,
          29.608278703330242,
          141.1771128723904,
          220.7576799020697,
          93.97491380086495,
          179.4069931121383,
          216.07647007679446,
          134.15529813447753,
          156.391044804535,
          263.6687699670929,
          231.29040200893903,
          314.38187640757474,
          106.8482408203719,
          138.05630632220692,
          196.96152995692051,
          143.907818603801,
          25.707270515600868,
          241.4330232970354,
          78.76098186872039,
          -4.330492529915334,
          292.9263313750632,
          203.9833446948334,
          153.66033907312442,
          47.55291636688538,
          -6.280996623780021,
          98.65612362614021,
          214.90616762047563,
          114.65025719583065,
          258.2073585042717,
          132.5948948593858,
          233.63100692157664,
          240.65282165948952,
          181.74759802477593,
          252.7459470414506,
          337.0077238964051,
          162.632657904902,
          32.33898443474081,
          222.31808317716147,
          215.29626843924856,
          83.83229251276857,
          211.78536107029214,
          238.3122167468519,
          217.6368733518862,
          159.12175053594555,
          312.04127149493706,
          142.34741532870922,
          280.05300435555625,
          81.49168760013096,
          42.48160572283719,
          122.45227357128942,
          283.95401254328556,
          224.26858727102615,
          309.3105657635266,
          72.12926794958045,
          107.23834163914483,
          186.81890866882412,
          19.075556596460927,
          280.44310517432916,
          247.6746363974024,
          54.9648319235712,
          28.04787542823849,
          80.32138514381214,
          30.778581159649057,
          -0.42948434218595644,
          157.95144807962674,
          200.082336507104,
          198.9120340507852,
          -13.692912180465838,
          233.2409061028037,
          177.0663881995007,
          290.19562564365265,
          208.66455452010862,
          25.317169696827932,
          244.16372902844594,
          129.86418912797524,
          301.50854938806776,
          -9.791903992736462,
          163.8029603612208,
          345.1998410906368,
          72.90946958712632,
          195.40112668182874,
          49.503420460750064,
          317.1125821389853,
          342.07903454045334,
          150.53953252294093,
          279.66290353678335,
          125.96318094024585,
          176.28618656195482,
          343.6394378155451,
          60.81634420516525,
          67.05795730553226,
          310.4808682198453,
          303.0689526631595,
          341.6889337216804,
          23.75676642173618,
          302.2887510256137,
          132.98499567815873,
          -5.500794986234146,
          202.03284060096868,
          121.67207193374352,
          187.98921112514293,
          305.7996583945701,
          216.4665708955674,
          20.245859052779743,
          5.422027939408107,
          216.85667171434034,
          333.8869173462216,
          260.9380642356823,
          242.2132249345813,
          206.71405042624394,
          76.42037695608276,
          211.3952602515192,
          334.2770181649946,
          -3.9403917111423965,
          168.87427100526898,
          297.99764201911137,
          244.5538298472189,
          257.8172576854988,
          175.89608574318189,
          315.5521788638936,
          33.509286891059624,
          23.366665602963238,
          60.03614256761938,
          339.34832880904275,
          218.41707498943208,
          163.41285954244788,
          42.09150490406425,
          287.855020731015,
          299.1679444754302,
          19.8557582340068,
          146.63852433521154,
          91.2442080694544,
          242.6033257533542,
          9.713136945910424,
          174.72578328686305,
          262.10836669200114,
          212.17546188906508,
          16.7349516838233,
          36.23999262247018,
          12.053741858548047,
          205.93384878869807,
          34.67958934737843,
          239.09241838439777,
          250.40534212881298,
          223.48838563348028,
          71.34906631203458,
          340.9087320841345,
          140.0068104160716,
          106.45814000159896,
          97.09572035104846,
          130.25428994674817,
          255.86675359163408,
          143.51771778502805,
          95.14521625718378,
          140.78701205361747,
          84.61249415031446,
          6.202229576953982,
          204.76354633237926,
          294.8768354689279,
          241.04292247826245,
          257.4271568667258,
          299.5580452942031,
          125.57308012147291,
          215.68636925802153,
          17.905254140142112,
          319.8432878703959,
          70.5688646744887,
          104.89773672650722,
          341.2988329029074,
          196.18132831937464,
          293.31643219383614,
          263.27866914831986,
          124.79287848392704,
          22.586463965417366,
          135.32560059079634,
          85.0025949690874,
          77.59067941240158,
          194.62092504428287,
          167.31386773017724,
          -5.890895805007084,
          315.9422796826665,
          44.04200899792894,
          169.26437182404194,
          296.82733956279253,
          184.08820293741357,
          203.59324387606046,
          236.75181347176016,
          3.861624664316359,
          165.7534644550855,
          161.8524562673561,
          74.07977204344513,
          66.66785648675932,
          249.23503967249414,
          81.10158678135802,
          125.18297930269998,
          13.614145133639799,
          128.6938866716564,
          75.25007449976395,
          26.097371334373804,
          88.1234015192709,
          232.46070446525783,
          62.766848299029945,
          182.91790048109476,
          262.49846751077405,
          83.44219169399564,
          191.11001767532645,
          104.11753508896135,
          118.55126538356004,
          -12.912710542919962,
          196.57142913814758,
          318.67298541407706,
          172.38517837422543,
          229.72999873384728,
          139.61670959729867,
          183.69810211864063,
          21.806262327871494,
          331.54631243358403,
          208.2744537013357,
          325.69480015198997,
          136.49590304711518,
          253.13604786022356,
          39.360799172653685,
          69.39856221816989,
          274.981693711508,
          4.251725483089295,
          253.52614867899646,
          317.5026829577582,
          295.6570371064737,
          133.37509649693166,
          288.6352223685609,
          93.58481298209202,
          324.52449769567113,
          180.57729556845712,
          -10.182004811509398,
          197.35163077569345,
          149.36923006662212,
          180.18719474968418,
          335.05721980254043,
          260.1578625981364,
          337.3978247151781,
          244.94393066599181,
          166.53366609263136,
          65.10745321166758,
          282.3936092681938,
          92.41451052577321,
          40.5311016289725,
          127.13348339656466,
          230.9003011901661,
          185.6486062125053,
          102.94723263264252,
          327.6453042458546,
          113.47995473951184,
          332.32651407112985,
          142.73751614748218,
          328.42550588340055,
          114.26015637705771,
          278.4926010804645,
          100.6066277200049,
          225.8289905461179,
          157.5613472608538,
          156.00094398576206,
          188.37931194391587,
          310.0907674010724,
          96.70561953227552,
          24.536968059282053,
          249.6251404912671,
          209.83485697642746,
          88.90360315681677,
          79.15108268749333,
          164.19306117999375,
          182.13769884354886,
          26.877572971919683,
          119.72156783987884,
          227.38939382120964,
          272.64108879887044,
          15.56464922750449,
          234.80130937789545,
          93.19471216331908,
          83.0520908752227,
          313.6016747700289,
          202.81304223851458,
          148.97912924784916,
          8.932935308364549,
          330.3760099772652,
          130.6443907655211,
          38.97069835388075,
          183.3080012998677,
          228.9497970963014,
          317.89278377653113,
          5.031927120635171,
          1.5210197516787325,
          171.9950775554525,
          340.1285304465887,
          -12.132508905374086,
          28.82807706578437,
          260.5479634169094,
          271.4707863425516,
          109.18884573300953,
          281.2233068118751,
          345.98004272818275,
          237.1419142905331,
          201.2526389634228,
          139.22660877852573,
          15.17454840873155,
          219.5873774457509,
          210.2249577952004,
          312.821473132483,
          117.38096292724123,
          189.93971521900764,
          322.5739936018065
         ]
        }
       ],
       "layout": {
        "template": {
         "data": {
          "bar": [
           {
            "error_x": {
             "color": "#2a3f5f"
            },
            "error_y": {
             "color": "#2a3f5f"
            },
            "marker": {
             "line": {
              "color": "#E5ECF6",
              "width": 0.5
             },
             "pattern": {
              "fillmode": "overlay",
              "size": 10,
              "solidity": 0.2
             }
            },
            "type": "bar"
           }
          ],
          "barpolar": [
           {
            "marker": {
             "line": {
              "color": "#E5ECF6",
              "width": 0.5
             },
             "pattern": {
              "fillmode": "overlay",
              "size": 10,
              "solidity": 0.2
             }
            },
            "type": "barpolar"
           }
          ],
          "carpet": [
           {
            "aaxis": {
             "endlinecolor": "#2a3f5f",
             "gridcolor": "white",
             "linecolor": "white",
             "minorgridcolor": "white",
             "startlinecolor": "#2a3f5f"
            },
            "baxis": {
             "endlinecolor": "#2a3f5f",
             "gridcolor": "white",
             "linecolor": "white",
             "minorgridcolor": "white",
             "startlinecolor": "#2a3f5f"
            },
            "type": "carpet"
           }
          ],
          "choropleth": [
           {
            "colorbar": {
             "outlinewidth": 0,
             "ticks": ""
            },
            "type": "choropleth"
           }
          ],
          "contour": [
           {
            "colorbar": {
             "outlinewidth": 0,
             "ticks": ""
            },
            "colorscale": [
             [
              0,
              "#0d0887"
             ],
             [
              0.1111111111111111,
              "#46039f"
             ],
             [
              0.2222222222222222,
              "#7201a8"
             ],
             [
              0.3333333333333333,
              "#9c179e"
             ],
             [
              0.4444444444444444,
              "#bd3786"
             ],
             [
              0.5555555555555556,
              "#d8576b"
             ],
             [
              0.6666666666666666,
              "#ed7953"
             ],
             [
              0.7777777777777778,
              "#fb9f3a"
             ],
             [
              0.8888888888888888,
              "#fdca26"
             ],
             [
              1,
              "#f0f921"
             ]
            ],
            "type": "contour"
           }
          ],
          "contourcarpet": [
           {
            "colorbar": {
             "outlinewidth": 0,
             "ticks": ""
            },
            "type": "contourcarpet"
           }
          ],
          "heatmap": [
           {
            "colorbar": {
             "outlinewidth": 0,
             "ticks": ""
            },
            "colorscale": [
             [
              0,
              "#0d0887"
             ],
             [
              0.1111111111111111,
              "#46039f"
             ],
             [
              0.2222222222222222,
              "#7201a8"
             ],
             [
              0.3333333333333333,
              "#9c179e"
             ],
             [
              0.4444444444444444,
              "#bd3786"
             ],
             [
              0.5555555555555556,
              "#d8576b"
             ],
             [
              0.6666666666666666,
              "#ed7953"
             ],
             [
              0.7777777777777778,
              "#fb9f3a"
             ],
             [
              0.8888888888888888,
              "#fdca26"
             ],
             [
              1,
              "#f0f921"
             ]
            ],
            "type": "heatmap"
           }
          ],
          "heatmapgl": [
           {
            "colorbar": {
             "outlinewidth": 0,
             "ticks": ""
            },
            "colorscale": [
             [
              0,
              "#0d0887"
             ],
             [
              0.1111111111111111,
              "#46039f"
             ],
             [
              0.2222222222222222,
              "#7201a8"
             ],
             [
              0.3333333333333333,
              "#9c179e"
             ],
             [
              0.4444444444444444,
              "#bd3786"
             ],
             [
              0.5555555555555556,
              "#d8576b"
             ],
             [
              0.6666666666666666,
              "#ed7953"
             ],
             [
              0.7777777777777778,
              "#fb9f3a"
             ],
             [
              0.8888888888888888,
              "#fdca26"
             ],
             [
              1,
              "#f0f921"
             ]
            ],
            "type": "heatmapgl"
           }
          ],
          "histogram": [
           {
            "marker": {
             "pattern": {
              "fillmode": "overlay",
              "size": 10,
              "solidity": 0.2
             }
            },
            "type": "histogram"
           }
          ],
          "histogram2d": [
           {
            "colorbar": {
             "outlinewidth": 0,
             "ticks": ""
            },
            "colorscale": [
             [
              0,
              "#0d0887"
             ],
             [
              0.1111111111111111,
              "#46039f"
             ],
             [
              0.2222222222222222,
              "#7201a8"
             ],
             [
              0.3333333333333333,
              "#9c179e"
             ],
             [
              0.4444444444444444,
              "#bd3786"
             ],
             [
              0.5555555555555556,
              "#d8576b"
             ],
             [
              0.6666666666666666,
              "#ed7953"
             ],
             [
              0.7777777777777778,
              "#fb9f3a"
             ],
             [
              0.8888888888888888,
              "#fdca26"
             ],
             [
              1,
              "#f0f921"
             ]
            ],
            "type": "histogram2d"
           }
          ],
          "histogram2dcontour": [
           {
            "colorbar": {
             "outlinewidth": 0,
             "ticks": ""
            },
            "colorscale": [
             [
              0,
              "#0d0887"
             ],
             [
              0.1111111111111111,
              "#46039f"
             ],
             [
              0.2222222222222222,
              "#7201a8"
             ],
             [
              0.3333333333333333,
              "#9c179e"
             ],
             [
              0.4444444444444444,
              "#bd3786"
             ],
             [
              0.5555555555555556,
              "#d8576b"
             ],
             [
              0.6666666666666666,
              "#ed7953"
             ],
             [
              0.7777777777777778,
              "#fb9f3a"
             ],
             [
              0.8888888888888888,
              "#fdca26"
             ],
             [
              1,
              "#f0f921"
             ]
            ],
            "type": "histogram2dcontour"
           }
          ],
          "mesh3d": [
           {
            "colorbar": {
             "outlinewidth": 0,
             "ticks": ""
            },
            "type": "mesh3d"
           }
          ],
          "parcoords": [
           {
            "line": {
             "colorbar": {
              "outlinewidth": 0,
              "ticks": ""
             }
            },
            "type": "parcoords"
           }
          ],
          "pie": [
           {
            "automargin": true,
            "type": "pie"
           }
          ],
          "scatter": [
           {
            "fillpattern": {
             "fillmode": "overlay",
             "size": 10,
             "solidity": 0.2
            },
            "type": "scatter"
           }
          ],
          "scatter3d": [
           {
            "line": {
             "colorbar": {
              "outlinewidth": 0,
              "ticks": ""
             }
            },
            "marker": {
             "colorbar": {
              "outlinewidth": 0,
              "ticks": ""
             }
            },
            "type": "scatter3d"
           }
          ],
          "scattercarpet": [
           {
            "marker": {
             "colorbar": {
              "outlinewidth": 0,
              "ticks": ""
             }
            },
            "type": "scattercarpet"
           }
          ],
          "scattergeo": [
           {
            "marker": {
             "colorbar": {
              "outlinewidth": 0,
              "ticks": ""
             }
            },
            "type": "scattergeo"
           }
          ],
          "scattergl": [
           {
            "marker": {
             "colorbar": {
              "outlinewidth": 0,
              "ticks": ""
             }
            },
            "type": "scattergl"
           }
          ],
          "scattermapbox": [
           {
            "marker": {
             "colorbar": {
              "outlinewidth": 0,
              "ticks": ""
             }
            },
            "type": "scattermapbox"
           }
          ],
          "scatterpolar": [
           {
            "marker": {
             "colorbar": {
              "outlinewidth": 0,
              "ticks": ""
             }
            },
            "type": "scatterpolar"
           }
          ],
          "scatterpolargl": [
           {
            "marker": {
             "colorbar": {
              "outlinewidth": 0,
              "ticks": ""
             }
            },
            "type": "scatterpolargl"
           }
          ],
          "scatterternary": [
           {
            "marker": {
             "colorbar": {
              "outlinewidth": 0,
              "ticks": ""
             }
            },
            "type": "scatterternary"
           }
          ],
          "surface": [
           {
            "colorbar": {
             "outlinewidth": 0,
             "ticks": ""
            },
            "colorscale": [
             [
              0,
              "#0d0887"
             ],
             [
              0.1111111111111111,
              "#46039f"
             ],
             [
              0.2222222222222222,
              "#7201a8"
             ],
             [
              0.3333333333333333,
              "#9c179e"
             ],
             [
              0.4444444444444444,
              "#bd3786"
             ],
             [
              0.5555555555555556,
              "#d8576b"
             ],
             [
              0.6666666666666666,
              "#ed7953"
             ],
             [
              0.7777777777777778,
              "#fb9f3a"
             ],
             [
              0.8888888888888888,
              "#fdca26"
             ],
             [
              1,
              "#f0f921"
             ]
            ],
            "type": "surface"
           }
          ],
          "table": [
           {
            "cells": {
             "fill": {
              "color": "#EBF0F8"
             },
             "line": {
              "color": "white"
             }
            },
            "header": {
             "fill": {
              "color": "#C8D4E3"
             },
             "line": {
              "color": "white"
             }
            },
            "type": "table"
           }
          ]
         },
         "layout": {
          "annotationdefaults": {
           "arrowcolor": "#2a3f5f",
           "arrowhead": 0,
           "arrowwidth": 1
          },
          "autotypenumbers": "strict",
          "coloraxis": {
           "colorbar": {
            "outlinewidth": 0,
            "ticks": ""
           }
          },
          "colorscale": {
           "diverging": [
            [
             0,
             "#8e0152"
            ],
            [
             0.1,
             "#c51b7d"
            ],
            [
             0.2,
             "#de77ae"
            ],
            [
             0.3,
             "#f1b6da"
            ],
            [
             0.4,
             "#fde0ef"
            ],
            [
             0.5,
             "#f7f7f7"
            ],
            [
             0.6,
             "#e6f5d0"
            ],
            [
             0.7,
             "#b8e186"
            ],
            [
             0.8,
             "#7fbc41"
            ],
            [
             0.9,
             "#4d9221"
            ],
            [
             1,
             "#276419"
            ]
           ],
           "sequential": [
            [
             0,
             "#0d0887"
            ],
            [
             0.1111111111111111,
             "#46039f"
            ],
            [
             0.2222222222222222,
             "#7201a8"
            ],
            [
             0.3333333333333333,
             "#9c179e"
            ],
            [
             0.4444444444444444,
             "#bd3786"
            ],
            [
             0.5555555555555556,
             "#d8576b"
            ],
            [
             0.6666666666666666,
             "#ed7953"
            ],
            [
             0.7777777777777778,
             "#fb9f3a"
            ],
            [
             0.8888888888888888,
             "#fdca26"
            ],
            [
             1,
             "#f0f921"
            ]
           ],
           "sequentialminus": [
            [
             0,
             "#0d0887"
            ],
            [
             0.1111111111111111,
             "#46039f"
            ],
            [
             0.2222222222222222,
             "#7201a8"
            ],
            [
             0.3333333333333333,
             "#9c179e"
            ],
            [
             0.4444444444444444,
             "#bd3786"
            ],
            [
             0.5555555555555556,
             "#d8576b"
            ],
            [
             0.6666666666666666,
             "#ed7953"
            ],
            [
             0.7777777777777778,
             "#fb9f3a"
            ],
            [
             0.8888888888888888,
             "#fdca26"
            ],
            [
             1,
             "#f0f921"
            ]
           ]
          },
          "colorway": [
           "#636efa",
           "#EF553B",
           "#00cc96",
           "#ab63fa",
           "#FFA15A",
           "#19d3f3",
           "#FF6692",
           "#B6E880",
           "#FF97FF",
           "#FECB52"
          ],
          "font": {
           "color": "#2a3f5f"
          },
          "geo": {
           "bgcolor": "white",
           "lakecolor": "white",
           "landcolor": "#E5ECF6",
           "showlakes": true,
           "showland": true,
           "subunitcolor": "white"
          },
          "hoverlabel": {
           "align": "left"
          },
          "hovermode": "closest",
          "mapbox": {
           "style": "light"
          },
          "paper_bgcolor": "white",
          "plot_bgcolor": "#E5ECF6",
          "polar": {
           "angularaxis": {
            "gridcolor": "white",
            "linecolor": "white",
            "ticks": ""
           },
           "bgcolor": "#E5ECF6",
           "radialaxis": {
            "gridcolor": "white",
            "linecolor": "white",
            "ticks": ""
           }
          },
          "scene": {
           "xaxis": {
            "backgroundcolor": "#E5ECF6",
            "gridcolor": "white",
            "gridwidth": 2,
            "linecolor": "white",
            "showbackground": true,
            "ticks": "",
            "zerolinecolor": "white"
           },
           "yaxis": {
            "backgroundcolor": "#E5ECF6",
            "gridcolor": "white",
            "gridwidth": 2,
            "linecolor": "white",
            "showbackground": true,
            "ticks": "",
            "zerolinecolor": "white"
           },
           "zaxis": {
            "backgroundcolor": "#E5ECF6",
            "gridcolor": "white",
            "gridwidth": 2,
            "linecolor": "white",
            "showbackground": true,
            "ticks": "",
            "zerolinecolor": "white"
           }
          },
          "shapedefaults": {
           "line": {
            "color": "#2a3f5f"
           }
          },
          "ternary": {
           "aaxis": {
            "gridcolor": "white",
            "linecolor": "white",
            "ticks": ""
           },
           "baxis": {
            "gridcolor": "white",
            "linecolor": "white",
            "ticks": ""
           },
           "bgcolor": "#E5ECF6",
           "caxis": {
            "gridcolor": "white",
            "linecolor": "white",
            "ticks": ""
           }
          },
          "title": {
           "x": 0.05
          },
          "xaxis": {
           "automargin": true,
           "gridcolor": "white",
           "linecolor": "white",
           "ticks": "",
           "title": {
            "standoff": 15
           },
           "zerolinecolor": "white",
           "zerolinewidth": 2
          },
          "yaxis": {
           "automargin": true,
           "gridcolor": "white",
           "linecolor": "white",
           "ticks": "",
           "title": {
            "standoff": 15
           },
           "zerolinecolor": "white",
           "zerolinewidth": 2
          }
         }
        },
        "title": {
         "text": "Stock Prices of Tesla"
        },
        "xaxis": {
         "title": {
          "font": {
           "color": "black",
           "family": "Courier New, monospace",
           "size": 18
          },
          "text": "Date"
         }
        },
        "yaxis": {
         "title": {
          "font": {
           "color": "black",
           "family": "Courier New, monospace",
           "size": 18
          },
          "text": "Price"
         }
        }
       }
      },
      "text/html": [
       "<div>                            <div id=\"cf3a3ff1-bdac-41bf-ac17-04c5511fdec9\" class=\"plotly-graph-div\" style=\"height:525px; width:100%;\"></div>            <script type=\"text/javascript\">                require([\"plotly\"], function(Plotly) {                    window.PLOTLYENV=window.PLOTLYENV || {};                                    if (document.getElementById(\"cf3a3ff1-bdac-41bf-ac17-04c5511fdec9\")) {                    Plotly.newPlot(                        \"cf3a3ff1-bdac-41bf-ac17-04c5511fdec9\",                        [{\"mode\":\"markers\",\"name\":\"Actual\",\"x\":[785,51,44,714,707,315,243,770,411,729,805,504,193,222,691,220,271,13,431,577,798,211,17,153,775,14,73,879,745,443,861,593,93,730,344,740,724,854,215,521,396,387,480,150,890,511,297,152,736,302,667,494,715,922,720,169,415,822,608,45,409,924,112,398,602,277,496,590,380,437,712,629,842,310,390,541,405,102,655,238,25,787,559,430,158,20,289,587,330,698,376,635,653,502,684,900,453,119,606,588,251,579,647,594,444,836,401,754,245,145,350,764,611,829,221,311,515,85,755,671,177,108,242,115,35,441,549,546,1,634,490,780,571,101,662,369,809,11,456,921,223,537,163,849,913,422,753,359,488,917,192,208,832,813,912,97,811,377,22,554,348,518,820,591,88,50,592,892,705,657,566,232,578,893,26,469,800,663,697,487,845,122,96,190,906,596,455,144,774,803,87,412,270,658,61,484,708,580,79,129,67,564,125,649,678,609,219,910,395,309,285,370,692,404,280,397,253,52,561,792,654,696,804,358,589,82,856,217,305,911,539,788,711,356,94,383,254,235,535,465,21,846,149,470,797,508,558,643,46,461,451,226,207,675,244,357,71,366,229,103,262,632,197,505,709,250,526,303,340,3,540,853,478,625,394,507,92,886,570,871,386,685,137,214,741,47,686,850,794,378,776,276,868,499,10,542,419,498,895,703,901,664,463,203,760,273,140,362,628,512,300,876,327,888,402,878,329,750,294,615,440,436,519,831,284,99,676,574,264,239,457,503,105,343,619,735,76,638,275,249,840,556,418,59,883,371,136,506,623,851,49,40,477,908,5,110,704,732,316,757,923,644,552,393,75,599,575,838,337,523,863],\"y\":[340.790009,15.222,16.470667,352.26001,312.843323,58.863998,59.960667,333.036682,143.610001,310.0,242.666672,207.146667,22.392668,36.48,378.996674,34.232666,34.933334,17.635332,136.029999,205.53334,303.083344,29.534,18.574667,16.316,364.66333,17.361334,14.982667,284.820007,307.476654,197.793335,307.396667,228.566666,16.990667,306.133331,103.067329,307.333344,349.869995,268.433319,32.089333,203.763336,140.399994,149.919998,278.476654,15.848,302.609985,235.979996,52.002666,16.302,301.886658,53.555332,341.619995,262.459991,399.926666,228.520004,352.706665,20.887333,140.210007,238.886673,236.556671,16.322666,149.626663,227.820007,15.666667,143.003326,214.460007,36.589333,238.166672,214.883331,135.666672,185.126663,362.063324,245.240005,244.543335,54.681999,147.383331,234.91333,144.666672,16.150667,264.536682,51.152668,18.153999,334.763336,193.626663,136.166672,17.464666,19.058666,53.25,225.973328,64.056664,356.320007,147.559998,251.619995,260.196655,228.813339,363.003326,287.809998,218.633331,14.81,225.78334,226.300003,49.700668,206.943329,263.786682,222.846664,199.679993,232.66333,141.893326,288.123322,55.585999,16.058001,100.87133,267.296661,238.210007,213.100006,34.033333,53.720669,218.289993,15.54,293.296661,371.333344,23.073999,15.561333,61.161331,14.662667,17.243999,194.919998,224.123337,224.53334,18.416,251.289993,270.553345,348.58667,199.593338,15.718,290.036682,125.235336,236.603333,18.24,213.446671,225.089996,37.970669,248.039993,19.978666,240.546661,219.350006,141.300003,290.143341,99.001335,283.15332,214.440002,22.024668,27.646667,236.08667,209.386673,204.990005,17.344667,221.300003,166.106674,17.851999,196.580002,104.557335,210.089996,234.516663,217.603333,15.928,15.463333,218.983337,303.350006,310.856659,263.980011,201.706665,59.137333,207.770004,309.070007,18.403999,283.146667,291.093323,288.089996,350.583344,287.806671,233.070007,14.272,17.045334,22.413334,238.130005,216.866669,216.619995,16.142,366.523346,266.679993,15.337333,140.646667,33.475334,268.573334,12.344,284.896667,336.290009,207.903336,14.618,15.163333,14.192,208.406662,15.040667,260.436676,341.166656,236.580002,34.566666,217.240005,135.779999,54.591331,45.781334,133.455338,381.58667,141.973328,47.326,139.690002,48.302666,14.068667,201.563339,332.67334,260.916656,336.33667,244.666672,99.133331,219.860001,15.144667,274.820007,34.990665,53.867332,221.720001,243.133331,342.716675,362.823334,95.384003,16.902666,122.09333,46.898666,49.871334,238.210007,251.993332,19.454,237.039993,15.428667,284.803345,300.980011,222.686661,195.593338,246.460007,16.132,231.593338,211.083328,37.201332,28.691999,409.970001,60.066666,99.0,14.328,110.047333,42.720669,16.107332,24.081333,244.523331,23.978666,199.316666,355.666656,49.574669,230.539993,53.278,92.952003,18.942667,246.066666,272.243347,294.363342,237.066666,129.263336,224.526672,16.825333,289.26001,201.196671,303.996674,139.873337,365.459991,16.232668,32.809334,310.666656,15.968,379.019989,245.529999,293.83667,158.350006,359.200012,36.363335,300.029999,227.406662,17.831333,231.46666,136.943329,247.339996,300.799988,325.329987,268.209991,288.600006,243.256668,27.039333,286.323334,30.298,16.082001,94.571335,243.636673,225.626663,53.960667,297.09668,66.726669,304.420013,137.993332,288.089996,66.785332,254.679993,50.745998,235.940002,189.199997,173.949997,213.463333,237.036667,49.757332,15.254667,407.363342,205.896667,28.502001,53.599998,215.32666,217.733337,15.622667,101.120003,221.903336,310.416656,14.790667,248.16333,34.416,44.532665,233.066666,192.623337,135.339996,12.657333,270.209991,136.665329,16.319332,187.666672,235.433334,247.5,15.487333,15.600667,293.600006,222.960007,18.890667,15.667333,308.973328,276.366669,57.625332,279.429993,227.539993,250.646667,196.630005,126.786667,14.641333,220.166672,199.786667,224.473328,91.438667,222.643326,288.170013],\"type\":\"scatter\"},{\"mode\":\"lines\",\"name\":\"Predicted\",\"x\":[785,51,44,714,707,315,243,770,411,729,805,504,193,222,691,220,271,13,431,577,798,211,17,153,775,14,73,879,745,443,861,593,93,730,344,740,724,854,215,521,396,387,480,150,890,511,297,152,736,302,667,494,715,922,720,169,415,822,608,45,409,924,112,398,602,277,496,590,380,437,712,629,842,310,390,541,405,102,655,238,25,787,559,430,158,20,289,587,330,698,376,635,653,502,684,900,453,119,606,588,251,579,647,594,444,836,401,754,245,145,350,764,611,829,221,311,515,85,755,671,177,108,242,115,35,441,549,546,1,634,490,780,571,101,662,369,809,11,456,921,223,537,163,849,913,422,753,359,488,917,192,208,832,813,912,97,811,377,22,554,348,518,820,591,88,50,592,892,705,657,566,232,578,893,26,469,800,663,697,487,845,122,96,190,906,596,455,144,774,803,87,412,270,658,61,484,708,580,79,129,67,564,125,649,678,609,219,910,395,309,285,370,692,404,280,397,253,52,561,792,654,696,804,358,589,82,856,217,305,911,539,788,711,356,94,383,254,235,535,465,21,846,149,470,797,508,558,643,46,461,451,226,207,675,244,357,71,366,229,103,262,632,197,505,709,250,526,303,340,3,540,853,478,625,394,507,92,886,570,871,386,685,137,214,741,47,686,850,794,378,776,276,868,499,10,542,419,498,895,703,901,664,463,203,760,273,140,362,628,512,300,876,327,888,402,878,329,750,294,615,440,436,519,831,284,99,676,574,264,239,457,503,105,343,619,735,76,638,275,249,840,556,418,59,883,371,136,506,623,851,49,40,477,908,5,110,704,732,316,757,923,644,552,393,75,599,575,838,337,523,863],\"y\":[292.1461297375173,5.812128758181046,3.0814230267704836,264.4489716046387,261.7182658732281,108.7987449142366,80.71148596258507,286.29461745592323,146.2484235164386,270.30048388623277,299.948146112976,182.52779966232183,61.2064450239382,72.51936876835339,255.47665277286117,71.73916713080752,91.63430888822734,-9.011702355190586,154.05043989189735,211.00515943274627,297.21744038156544,68.22825976185108,-7.451299080098835,45.60241227302069,288.2451215497879,-8.621601536417648,14.394346771185674,328.81560670217345,276.54209698659974,158.73164971717262,321.79379196426055,217.24677253311327,22.19636314664443,270.6905847050057,120.11166865865178,274.5915928927351,268.3499797923681,319.06308623284997,69.78866303694282,189.15951358146177,140.39691123484454,136.8860038658881,173.1653800117713,44.432109816701875,333.1067157086758,185.25850539373238,101.77693017632372,45.212311454247754,273.03118961764335,103.7274342701884,246.11423312231065,178.62679147459244,264.8390724234116,345.58994190940973,266.7895765172764,51.844025373387694,147.80882679153035,306.579860032116,223.09828481470734,3.4715238455434196,145.46822187889273,346.37014354695566,29.608278703330242,141.1771128723904,220.7576799020697,93.97491380086495,179.4069931121383,216.07647007679446,134.15529813447753,156.391044804535,263.6687699670929,231.29040200893903,314.38187640757474,106.8482408203719,138.05630632220692,196.96152995692051,143.907818603801,25.707270515600868,241.4330232970354,78.76098186872039,-4.330492529915334,292.9263313750632,203.9833446948334,153.66033907312442,47.55291636688538,-6.280996623780021,98.65612362614021,214.90616762047563,114.65025719583065,258.2073585042717,132.5948948593858,233.63100692157664,240.65282165948952,181.74759802477593,252.7459470414506,337.0077238964051,162.632657904902,32.33898443474081,222.31808317716147,215.29626843924856,83.83229251276857,211.78536107029214,238.3122167468519,217.6368733518862,159.12175053594555,312.04127149493706,142.34741532870922,280.05300435555625,81.49168760013096,42.48160572283719,122.45227357128942,283.95401254328556,224.26858727102615,309.3105657635266,72.12926794958045,107.23834163914483,186.81890866882412,19.075556596460927,280.44310517432916,247.6746363974024,54.9648319235712,28.04787542823849,80.32138514381214,30.778581159649057,-0.42948434218595644,157.95144807962674,200.082336507104,198.9120340507852,-13.692912180465838,233.2409061028037,177.0663881995007,290.19562564365265,208.66455452010862,25.317169696827932,244.16372902844594,129.86418912797524,301.50854938806776,-9.791903992736462,163.8029603612208,345.1998410906368,72.90946958712632,195.40112668182874,49.503420460750064,317.1125821389853,342.07903454045334,150.53953252294093,279.66290353678335,125.96318094024585,176.28618656195482,343.6394378155451,60.81634420516525,67.05795730553226,310.4808682198453,303.0689526631595,341.6889337216804,23.75676642173618,302.2887510256137,132.98499567815873,-5.500794986234146,202.03284060096868,121.67207193374352,187.98921112514293,305.7996583945701,216.4665708955674,20.245859052779743,5.422027939408107,216.85667171434034,333.8869173462216,260.9380642356823,242.2132249345813,206.71405042624394,76.42037695608276,211.3952602515192,334.2770181649946,-3.9403917111423965,168.87427100526898,297.99764201911137,244.5538298472189,257.8172576854988,175.89608574318189,315.5521788638936,33.509286891059624,23.366665602963238,60.03614256761938,339.34832880904275,218.41707498943208,163.41285954244788,42.09150490406425,287.855020731015,299.1679444754302,19.8557582340068,146.63852433521154,91.2442080694544,242.6033257533542,9.713136945910424,174.72578328686305,262.10836669200114,212.17546188906508,16.7349516838233,36.23999262247018,12.053741858548047,205.93384878869807,34.67958934737843,239.09241838439777,250.40534212881298,223.48838563348028,71.34906631203458,340.9087320841345,140.0068104160716,106.45814000159896,97.09572035104846,130.25428994674817,255.86675359163408,143.51771778502805,95.14521625718378,140.78701205361747,84.61249415031446,6.202229576953982,204.76354633237926,294.8768354689279,241.04292247826245,257.4271568667258,299.5580452942031,125.57308012147291,215.68636925802153,17.905254140142112,319.8432878703959,70.5688646744887,104.89773672650722,341.2988329029074,196.18132831937464,293.31643219383614,263.27866914831986,124.79287848392704,22.586463965417366,135.32560059079634,85.0025949690874,77.59067941240158,194.62092504428287,167.31386773017724,-5.890895805007084,315.9422796826665,44.04200899792894,169.26437182404194,296.82733956279253,184.08820293741357,203.59324387606046,236.75181347176016,3.861624664316359,165.7534644550855,161.8524562673561,74.07977204344513,66.66785648675932,249.23503967249414,81.10158678135802,125.18297930269998,13.614145133639799,128.6938866716564,75.25007449976395,26.097371334373804,88.1234015192709,232.46070446525783,62.766848299029945,182.91790048109476,262.49846751077405,83.44219169399564,191.11001767532645,104.11753508896135,118.55126538356004,-12.912710542919962,196.57142913814758,318.67298541407706,172.38517837422543,229.72999873384728,139.61670959729867,183.69810211864063,21.806262327871494,331.54631243358403,208.2744537013357,325.69480015198997,136.49590304711518,253.13604786022356,39.360799172653685,69.39856221816989,274.981693711508,4.251725483089295,253.52614867899646,317.5026829577582,295.6570371064737,133.37509649693166,288.6352223685609,93.58481298209202,324.52449769567113,180.57729556845712,-10.182004811509398,197.35163077569345,149.36923006662212,180.18719474968418,335.05721980254043,260.1578625981364,337.3978247151781,244.94393066599181,166.53366609263136,65.10745321166758,282.3936092681938,92.41451052577321,40.5311016289725,127.13348339656466,230.9003011901661,185.6486062125053,102.94723263264252,327.6453042458546,113.47995473951184,332.32651407112985,142.73751614748218,328.42550588340055,114.26015637705771,278.4926010804645,100.6066277200049,225.8289905461179,157.5613472608538,156.00094398576206,188.37931194391587,310.0907674010724,96.70561953227552,24.536968059282053,249.6251404912671,209.83485697642746,88.90360315681677,79.15108268749333,164.19306117999375,182.13769884354886,26.877572971919683,119.72156783987884,227.38939382120964,272.64108879887044,15.56464922750449,234.80130937789545,93.19471216331908,83.0520908752227,313.6016747700289,202.81304223851458,148.97912924784916,8.932935308364549,330.3760099772652,130.6443907655211,38.97069835388075,183.3080012998677,228.9497970963014,317.89278377653113,5.031927120635171,1.5210197516787325,171.9950775554525,340.1285304465887,-12.132508905374086,28.82807706578437,260.5479634169094,271.4707863425516,109.18884573300953,281.2233068118751,345.98004272818275,237.1419142905331,201.2526389634228,139.22660877852573,15.17454840873155,219.5873774457509,210.2249577952004,312.821473132483,117.38096292724123,189.93971521900764,322.5739936018065],\"type\":\"scatter\"}],                        {\"template\":{\"data\":{\"barpolar\":[{\"marker\":{\"line\":{\"color\":\"#E5ECF6\",\"width\":0.5},\"pattern\":{\"fillmode\":\"overlay\",\"size\":10,\"solidity\":0.2}},\"type\":\"barpolar\"}],\"bar\":[{\"error_x\":{\"color\":\"#2a3f5f\"},\"error_y\":{\"color\":\"#2a3f5f\"},\"marker\":{\"line\":{\"color\":\"#E5ECF6\",\"width\":0.5},\"pattern\":{\"fillmode\":\"overlay\",\"size\":10,\"solidity\":0.2}},\"type\":\"bar\"}],\"carpet\":[{\"aaxis\":{\"endlinecolor\":\"#2a3f5f\",\"gridcolor\":\"white\",\"linecolor\":\"white\",\"minorgridcolor\":\"white\",\"startlinecolor\":\"#2a3f5f\"},\"baxis\":{\"endlinecolor\":\"#2a3f5f\",\"gridcolor\":\"white\",\"linecolor\":\"white\",\"minorgridcolor\":\"white\",\"startlinecolor\":\"#2a3f5f\"},\"type\":\"carpet\"}],\"choropleth\":[{\"colorbar\":{\"outlinewidth\":0,\"ticks\":\"\"},\"type\":\"choropleth\"}],\"contourcarpet\":[{\"colorbar\":{\"outlinewidth\":0,\"ticks\":\"\"},\"type\":\"contourcarpet\"}],\"contour\":[{\"colorbar\":{\"outlinewidth\":0,\"ticks\":\"\"},\"colorscale\":[[0.0,\"#0d0887\"],[0.1111111111111111,\"#46039f\"],[0.2222222222222222,\"#7201a8\"],[0.3333333333333333,\"#9c179e\"],[0.4444444444444444,\"#bd3786\"],[0.5555555555555556,\"#d8576b\"],[0.6666666666666666,\"#ed7953\"],[0.7777777777777778,\"#fb9f3a\"],[0.8888888888888888,\"#fdca26\"],[1.0,\"#f0f921\"]],\"type\":\"contour\"}],\"heatmapgl\":[{\"colorbar\":{\"outlinewidth\":0,\"ticks\":\"\"},\"colorscale\":[[0.0,\"#0d0887\"],[0.1111111111111111,\"#46039f\"],[0.2222222222222222,\"#7201a8\"],[0.3333333333333333,\"#9c179e\"],[0.4444444444444444,\"#bd3786\"],[0.5555555555555556,\"#d8576b\"],[0.6666666666666666,\"#ed7953\"],[0.7777777777777778,\"#fb9f3a\"],[0.8888888888888888,\"#fdca26\"],[1.0,\"#f0f921\"]],\"type\":\"heatmapgl\"}],\"heatmap\":[{\"colorbar\":{\"outlinewidth\":0,\"ticks\":\"\"},\"colorscale\":[[0.0,\"#0d0887\"],[0.1111111111111111,\"#46039f\"],[0.2222222222222222,\"#7201a8\"],[0.3333333333333333,\"#9c179e\"],[0.4444444444444444,\"#bd3786\"],[0.5555555555555556,\"#d8576b\"],[0.6666666666666666,\"#ed7953\"],[0.7777777777777778,\"#fb9f3a\"],[0.8888888888888888,\"#fdca26\"],[1.0,\"#f0f921\"]],\"type\":\"heatmap\"}],\"histogram2dcontour\":[{\"colorbar\":{\"outlinewidth\":0,\"ticks\":\"\"},\"colorscale\":[[0.0,\"#0d0887\"],[0.1111111111111111,\"#46039f\"],[0.2222222222222222,\"#7201a8\"],[0.3333333333333333,\"#9c179e\"],[0.4444444444444444,\"#bd3786\"],[0.5555555555555556,\"#d8576b\"],[0.6666666666666666,\"#ed7953\"],[0.7777777777777778,\"#fb9f3a\"],[0.8888888888888888,\"#fdca26\"],[1.0,\"#f0f921\"]],\"type\":\"histogram2dcontour\"}],\"histogram2d\":[{\"colorbar\":{\"outlinewidth\":0,\"ticks\":\"\"},\"colorscale\":[[0.0,\"#0d0887\"],[0.1111111111111111,\"#46039f\"],[0.2222222222222222,\"#7201a8\"],[0.3333333333333333,\"#9c179e\"],[0.4444444444444444,\"#bd3786\"],[0.5555555555555556,\"#d8576b\"],[0.6666666666666666,\"#ed7953\"],[0.7777777777777778,\"#fb9f3a\"],[0.8888888888888888,\"#fdca26\"],[1.0,\"#f0f921\"]],\"type\":\"histogram2d\"}],\"histogram\":[{\"marker\":{\"pattern\":{\"fillmode\":\"overlay\",\"size\":10,\"solidity\":0.2}},\"type\":\"histogram\"}],\"mesh3d\":[{\"colorbar\":{\"outlinewidth\":0,\"ticks\":\"\"},\"type\":\"mesh3d\"}],\"parcoords\":[{\"line\":{\"colorbar\":{\"outlinewidth\":0,\"ticks\":\"\"}},\"type\":\"parcoords\"}],\"pie\":[{\"automargin\":true,\"type\":\"pie\"}],\"scatter3d\":[{\"line\":{\"colorbar\":{\"outlinewidth\":0,\"ticks\":\"\"}},\"marker\":{\"colorbar\":{\"outlinewidth\":0,\"ticks\":\"\"}},\"type\":\"scatter3d\"}],\"scattercarpet\":[{\"marker\":{\"colorbar\":{\"outlinewidth\":0,\"ticks\":\"\"}},\"type\":\"scattercarpet\"}],\"scattergeo\":[{\"marker\":{\"colorbar\":{\"outlinewidth\":0,\"ticks\":\"\"}},\"type\":\"scattergeo\"}],\"scattergl\":[{\"marker\":{\"colorbar\":{\"outlinewidth\":0,\"ticks\":\"\"}},\"type\":\"scattergl\"}],\"scattermapbox\":[{\"marker\":{\"colorbar\":{\"outlinewidth\":0,\"ticks\":\"\"}},\"type\":\"scattermapbox\"}],\"scatterpolargl\":[{\"marker\":{\"colorbar\":{\"outlinewidth\":0,\"ticks\":\"\"}},\"type\":\"scatterpolargl\"}],\"scatterpolar\":[{\"marker\":{\"colorbar\":{\"outlinewidth\":0,\"ticks\":\"\"}},\"type\":\"scatterpolar\"}],\"scatter\":[{\"fillpattern\":{\"fillmode\":\"overlay\",\"size\":10,\"solidity\":0.2},\"type\":\"scatter\"}],\"scatterternary\":[{\"marker\":{\"colorbar\":{\"outlinewidth\":0,\"ticks\":\"\"}},\"type\":\"scatterternary\"}],\"surface\":[{\"colorbar\":{\"outlinewidth\":0,\"ticks\":\"\"},\"colorscale\":[[0.0,\"#0d0887\"],[0.1111111111111111,\"#46039f\"],[0.2222222222222222,\"#7201a8\"],[0.3333333333333333,\"#9c179e\"],[0.4444444444444444,\"#bd3786\"],[0.5555555555555556,\"#d8576b\"],[0.6666666666666666,\"#ed7953\"],[0.7777777777777778,\"#fb9f3a\"],[0.8888888888888888,\"#fdca26\"],[1.0,\"#f0f921\"]],\"type\":\"surface\"}],\"table\":[{\"cells\":{\"fill\":{\"color\":\"#EBF0F8\"},\"line\":{\"color\":\"white\"}},\"header\":{\"fill\":{\"color\":\"#C8D4E3\"},\"line\":{\"color\":\"white\"}},\"type\":\"table\"}]},\"layout\":{\"annotationdefaults\":{\"arrowcolor\":\"#2a3f5f\",\"arrowhead\":0,\"arrowwidth\":1},\"autotypenumbers\":\"strict\",\"coloraxis\":{\"colorbar\":{\"outlinewidth\":0,\"ticks\":\"\"}},\"colorscale\":{\"diverging\":[[0,\"#8e0152\"],[0.1,\"#c51b7d\"],[0.2,\"#de77ae\"],[0.3,\"#f1b6da\"],[0.4,\"#fde0ef\"],[0.5,\"#f7f7f7\"],[0.6,\"#e6f5d0\"],[0.7,\"#b8e186\"],[0.8,\"#7fbc41\"],[0.9,\"#4d9221\"],[1,\"#276419\"]],\"sequential\":[[0.0,\"#0d0887\"],[0.1111111111111111,\"#46039f\"],[0.2222222222222222,\"#7201a8\"],[0.3333333333333333,\"#9c179e\"],[0.4444444444444444,\"#bd3786\"],[0.5555555555555556,\"#d8576b\"],[0.6666666666666666,\"#ed7953\"],[0.7777777777777778,\"#fb9f3a\"],[0.8888888888888888,\"#fdca26\"],[1.0,\"#f0f921\"]],\"sequentialminus\":[[0.0,\"#0d0887\"],[0.1111111111111111,\"#46039f\"],[0.2222222222222222,\"#7201a8\"],[0.3333333333333333,\"#9c179e\"],[0.4444444444444444,\"#bd3786\"],[0.5555555555555556,\"#d8576b\"],[0.6666666666666666,\"#ed7953\"],[0.7777777777777778,\"#fb9f3a\"],[0.8888888888888888,\"#fdca26\"],[1.0,\"#f0f921\"]]},\"colorway\":[\"#636efa\",\"#EF553B\",\"#00cc96\",\"#ab63fa\",\"#FFA15A\",\"#19d3f3\",\"#FF6692\",\"#B6E880\",\"#FF97FF\",\"#FECB52\"],\"font\":{\"color\":\"#2a3f5f\"},\"geo\":{\"bgcolor\":\"white\",\"lakecolor\":\"white\",\"landcolor\":\"#E5ECF6\",\"showlakes\":true,\"showland\":true,\"subunitcolor\":\"white\"},\"hoverlabel\":{\"align\":\"left\"},\"hovermode\":\"closest\",\"mapbox\":{\"style\":\"light\"},\"paper_bgcolor\":\"white\",\"plot_bgcolor\":\"#E5ECF6\",\"polar\":{\"angularaxis\":{\"gridcolor\":\"white\",\"linecolor\":\"white\",\"ticks\":\"\"},\"bgcolor\":\"#E5ECF6\",\"radialaxis\":{\"gridcolor\":\"white\",\"linecolor\":\"white\",\"ticks\":\"\"}},\"scene\":{\"xaxis\":{\"backgroundcolor\":\"#E5ECF6\",\"gridcolor\":\"white\",\"gridwidth\":2,\"linecolor\":\"white\",\"showbackground\":true,\"ticks\":\"\",\"zerolinecolor\":\"white\"},\"yaxis\":{\"backgroundcolor\":\"#E5ECF6\",\"gridcolor\":\"white\",\"gridwidth\":2,\"linecolor\":\"white\",\"showbackground\":true,\"ticks\":\"\",\"zerolinecolor\":\"white\"},\"zaxis\":{\"backgroundcolor\":\"#E5ECF6\",\"gridcolor\":\"white\",\"gridwidth\":2,\"linecolor\":\"white\",\"showbackground\":true,\"ticks\":\"\",\"zerolinecolor\":\"white\"}},\"shapedefaults\":{\"line\":{\"color\":\"#2a3f5f\"}},\"ternary\":{\"aaxis\":{\"gridcolor\":\"white\",\"linecolor\":\"white\",\"ticks\":\"\"},\"baxis\":{\"gridcolor\":\"white\",\"linecolor\":\"white\",\"ticks\":\"\"},\"bgcolor\":\"#E5ECF6\",\"caxis\":{\"gridcolor\":\"white\",\"linecolor\":\"white\",\"ticks\":\"\"}},\"title\":{\"x\":0.05},\"xaxis\":{\"automargin\":true,\"gridcolor\":\"white\",\"linecolor\":\"white\",\"ticks\":\"\",\"title\":{\"standoff\":15},\"zerolinecolor\":\"white\",\"zerolinewidth\":2},\"yaxis\":{\"automargin\":true,\"gridcolor\":\"white\",\"linecolor\":\"white\",\"ticks\":\"\",\"title\":{\"standoff\":15},\"zerolinecolor\":\"white\",\"zerolinewidth\":2}}},\"title\":{\"text\":\"Stock Prices of Tesla\"},\"xaxis\":{\"title\":{\"font\":{\"color\":\"black\",\"family\":\"Courier New, monospace\",\"size\":18},\"text\":\"Date\"}},\"yaxis\":{\"title\":{\"font\":{\"color\":\"black\",\"family\":\"Courier New, monospace\",\"size\":18},\"text\":\"Price\"}}},                        {\"responsive\": true}                    ).then(function(){\n",
       "                            \n",
       "var gd = document.getElementById('cf3a3ff1-bdac-41bf-ac17-04c5511fdec9');\n",
       "var x = new MutationObserver(function (mutations, observer) {{\n",
       "        var display = window.getComputedStyle(gd).display;\n",
       "        if (!display || display === 'none') {{\n",
       "            console.log([gd, 'removed!']);\n",
       "            Plotly.purge(gd);\n",
       "            observer.disconnect();\n",
       "        }}\n",
       "}});\n",
       "\n",
       "// Listen for the removal of the full notebook cells\n",
       "var notebookContainer = gd.closest('#notebook-container');\n",
       "if (notebookContainer) {{\n",
       "    x.observe(notebookContainer, {childList: true});\n",
       "}}\n",
       "\n",
       "// Listen for the clearing of the current output cell\n",
       "var outputEl = gd.closest('.output');\n",
       "if (outputEl) {{\n",
       "    x.observe(outputEl, {childList: true});\n",
       "}}\n",
       "\n",
       "                        })                };                });            </script>        </div>"
      ]
     },
     "metadata": {},
     "output_type": "display_data"
    }
   ],
   "source": [
    "iplot(plot2)"
   ]
  },
  {
   "cell_type": "code",
   "execution_count": 23,
   "id": "cddfc9e7",
   "metadata": {},
   "outputs": [
    {
     "name": "stdout",
     "output_type": "stream",
     "text": [
      "\n",
      "Metric           Train                Test        \n",
      "r2_score  0.8038304326838449\t0.8186934122344409\n",
      "MSE       2590.218416924674\t2555.2637460163905\n",
      "\n"
     ]
    }
   ],
   "source": [
    "scores = f'''\n",
    "{'Metric'.ljust(10)}{'Train'.center(20)}{'Test'.center(20)}\n",
    "{'r2_score'.ljust(10)}{r2_score(Y_train, model.predict(X_train))}\\t{r2_score(Y_test, model.predict(X_test))}\n",
    "{'MSE'.ljust(10)}{MSE(Y_train, model .predict(X_train))}\\t{MSE(Y_test, model.predict(X_test))}\n",
    "'''\n",
    "print(scores)"
   ]
  },
  {
   "cell_type": "code",
   "execution_count": null,
   "id": "5ae1b659",
   "metadata": {},
   "outputs": [],
   "source": []
  },
  {
   "cell_type": "markdown",
   "id": "4cdbb555",
   "metadata": {},
   "source": [
    "### Graph Representation of Feature Extraction :"
   ]
  },
  {
   "cell_type": "code",
   "execution_count": 24,
   "id": "577a7715",
   "metadata": {},
   "outputs": [
    {
     "data": {
      "image/png": "[encoded data removed]",
      "text/plain": [
       "<Figure size 1440x720 with 5 Axes>"
      ]
     },
     "metadata": {
      "needs_background": "light"
     },
     "output_type": "display_data"
    }
   ],
   "source": [
    "features = ['Open', 'High', 'Low', 'Close', 'Volume']\n",
    " \n",
    "plt.subplots(figsize=(20,10))\n",
    " \n",
    "for i, col in enumerate(features):\n",
    "  plt.subplot(2,3,i+1)\n",
    "  sns.distplot(df[col])\n",
    "plt.show()"
   ]
  },
  {
   "cell_type": "code",
   "execution_count": null,
   "id": "e2927420",
   "metadata": {},
   "outputs": [],
   "source": []
  },
  {
   "cell_type": "markdown",
   "id": "2c83f001",
   "metadata": {},
   "source": [
    "### Simple Moving Average (SMA) Model"
   ]
  },
  {
   "cell_type": "code",
   "execution_count": 25,
   "id": "303895e1",
   "metadata": {},
   "outputs": [
    {
     "name": "stdout",
     "output_type": "stream",
     "text": [
      "<class 'pandas.core.frame.DataFrame'>\n",
      "DatetimeIndex: 1259 entries, 2017-11-06 to 2022-11-04\n",
      "Data columns (total 6 columns):\n",
      " #   Column     Non-Null Count  Dtype  \n",
      "---  ------     --------------  -----  \n",
      " 0   Open       1259 non-null   float64\n",
      " 1   High       1259 non-null   float64\n",
      " 2   Low        1259 non-null   float64\n",
      " 3   Close      1259 non-null   float64\n",
      " 4   Adj Close  1259 non-null   float64\n",
      " 5   Volume     1259 non-null   int64  \n",
      "dtypes: float64(5), int64(1)\n",
      "memory usage: 68.9 KB\n"
     ]
    }
   ],
   "source": [
    "from sklearn.metrics import mean_squared_error\n",
    "from sklearn.metrics import mean_absolute_percentage_error\n",
    "\n",
    "df2 = pd.read_csv(\"NFLX.csv\",index_col='Date')\n",
    "df2 = df2.set_index(pd.DatetimeIndex(df2.index.values))\n",
    "df2.info()\n"
   ]
  },
  {
   "cell_type": "code",
   "execution_count": 26,
   "id": "fdcae92b",
   "metadata": {},
   "outputs": [],
   "source": [
    "# Create function for calculating Simple Moving Average (SMA)\n",
    "def SMA(data, period=30, column='Adj Close'):\n",
    "    return data[column].rolling(window=period).mean()"
   ]
  },
  {
   "cell_type": "code",
   "execution_count": 27,
   "id": "c601d612",
   "metadata": {},
   "outputs": [],
   "source": [
    "# Create two new columns to store the 10 day and 50 day SMA\n",
    "df['SMA10'] = SMA(df, 10)\n",
    "df['SMA50'] = SMA(df, 50)"
   ]
  },
  {
   "cell_type": "code",
   "execution_count": 28,
   "id": "90ea6a91",
   "metadata": {},
   "outputs": [],
   "source": [
    "# Get buy and sell signals\n",
    "df['Signal'] = np.where(df['SMA10'] > df['SMA50'], 1, 0)\n",
    "df['Position'] = df['Signal'].diff()\n",
    "df['Buy'] = np.where(df['Position'] == 1, df['Adj Close'], np.NAN)\n",
    "df['Sell'] = np.where(df['Position'] == -1, df['Adj Close'], np.NAN)"
   ]
  },
  {
   "cell_type": "code",
   "execution_count": 29,
   "id": "e6a4b4a2",
   "metadata": {},
   "outputs": [
    {
     "data": {
      "image/png": "[encoded data removed]",
      "text/plain": [
       "<Figure size 1152x576 with 1 Axes>"
      ]
     },
     "metadata": {
      "needs_background": "light"
     },
     "output_type": "display_data"
    }
   ],
   "source": [
    "# Visualize the close price with SMA also Buy and Sell Signals\n",
    "plt.figure(figsize=(16,8))\n",
    "plt.plot(df['Adj Close'], alpha=0.5, label='Actual Close Price')\n",
    "plt.plot(df['SMA10'], alpha=0.5, label='SMA10')\n",
    "plt.plot(df['SMA50'], alpha=0.5, label='SMA50')\n",
    "\n",
    "# Make buy or sell signal\n",
    "plt.scatter(df.index, df['Buy'], alpha=1, label='Buy Signal', marker='^', color='green')\n",
    "plt.scatter(df.index, df['Sell'], alpha=1, label='Sell Signal', marker='v', color='red')\n",
    "\n",
    "# Adding text into the visualization\n",
    "plt.title('Adj Close Price w/ Buy and Sell Signals', fontsize=18)\n",
    "plt.ylabel('Adj Close Price', fontsize=18)\n",
    "plt.xlabel('Date', fontsize=18)\n",
    "\n",
    "# Give legend\n",
    "plt.legend()\n",
    "\n",
    "# Show the graph\n",
    "plt.show()"
   ]
  },
  {
   "cell_type": "code",
   "execution_count": null,
   "id": "381176f3",
   "metadata": {},
   "outputs": [],
   "source": []
  },
  {
   "cell_type": "markdown",
   "id": "d6ff1124",
   "metadata": {},
   "source": [
    "## Exponential Moving Average (EMA) Model"
   ]
  },
  {
   "cell_type": "code",
   "execution_count": 30,
   "id": "c666e7ff",
   "metadata": {},
   "outputs": [
    {
     "name": "stdout",
     "output_type": "stream",
     "text": [
      "Test RMSE: 90.271\n",
      "Test MAPE: 0.243\n"
     ]
    },
    {
     "data": {
      "image/png": "[encoded data removed]",
      "text/plain": [
       "<Figure size 720x360 with 1 Axes>"
      ]
     },
     "metadata": {
      "needs_background": "light"
     },
     "output_type": "display_data"
    }
   ],
   "source": [
    "from statsmodels.tsa.api import SimpleExpSmoothing\n",
    "\n",
    "X = df[['Close']].values\n",
    "train_split = 0.6\n",
    "split_idx= int(np.ceil(len(X)*train_split))\n",
    "train = X[:split_idx]\n",
    "test = X[split_idx:]\n",
    "test_concat = np.array([]).reshape((0,1))\n",
    "\n",
    "for i in range(len(test)):\n",
    "    train_fit = np.concatenate((train, np.asarray (test_concat)))\n",
    "    fit = SimpleExpSmoothing (np.asarray(train_fit)).fit(smoothing_level=0.2)\n",
    "    test_pred = fit.forecast (1)\n",
    "    test_concat = np.concatenate((np.asarray(test_concat), test_pred.reshape((-1,1))))\n",
    "\n",
    "print('Test RMSE: %.3f' % mean_squared_error(test, test_concat, squared=False))\n",
    "print('Test MAPE: %.3f' % mean_absolute_percentage_error(test, test_concat))\n",
    "\n",
    "plt.figure(figsize=(10,5))\n",
    "plt.plot(test)\n",
    "plt.plot(test_concat)\n",
    "plt.show()"
   ]
  },
  {
   "cell_type": "code",
   "execution_count": null,
   "id": "ac6ae893",
   "metadata": {},
   "outputs": [],
   "source": []
  },
  {
   "cell_type": "code",
   "execution_count": null,
   "id": "3d3c59b9",
   "metadata": {},
   "outputs": [],
   "source": []
  },
  {
   "cell_type": "markdown",
   "id": "6b3ee3f2",
   "metadata": {},
   "source": [
    "## Long Short Term Memory Model"
   ]
  },
  {
   "cell_type": "code",
   "execution_count": 31,
   "id": "60c0a72f",
   "metadata": {},
   "outputs": [],
   "source": [
    "from tensorflow.keras.models import Sequential\n",
    "from tensorflow.keras.layers import Dense,LSTM,Dropout"
   ]
  },
  {
   "cell_type": "code",
   "execution_count": 32,
   "id": "90169153",
   "metadata": {},
   "outputs": [
    {
     "data": {
      "text/html": [
       "<div>\n",
       "<style scoped>\n",
       "    .dataframe tbody tr th:only-of-type {\n",
       "        vertical-align: middle;\n",
       "    }\n",
       "\n",
       "    .dataframe tbody tr th {\n",
       "        vertical-align: top;\n",
       "    }\n",
       "\n",
       "    .dataframe thead th {\n",
       "        text-align: right;\n",
       "    }\n",
       "</style>\n",
       "<table border=\"1\" class=\"dataframe\">\n",
       "  <thead>\n",
       "    <tr style=\"text-align: right;\">\n",
       "      <th></th>\n",
       "      <th>Date</th>\n",
       "      <th>Open</th>\n",
       "      <th>High</th>\n",
       "      <th>Low</th>\n",
       "      <th>Close</th>\n",
       "      <th>Adj Close</th>\n",
       "      <th>Volume</th>\n",
       "    </tr>\n",
       "  </thead>\n",
       "  <tbody>\n",
       "    <tr>\n",
       "      <th>0</th>\n",
       "      <td>2021-10-18</td>\n",
       "      <td>3603.449951</td>\n",
       "      <td>3652.699951</td>\n",
       "      <td>3601.449951</td>\n",
       "      <td>3647.149902</td>\n",
       "      <td>3606.871338</td>\n",
       "      <td>3590107</td>\n",
       "    </tr>\n",
       "    <tr>\n",
       "      <th>1</th>\n",
       "      <td>2021-10-19</td>\n",
       "      <td>3669.000000</td>\n",
       "      <td>3690.100098</td>\n",
       "      <td>3625.199951</td>\n",
       "      <td>3634.149902</td>\n",
       "      <td>3594.014893</td>\n",
       "      <td>3135441</td>\n",
       "    </tr>\n",
       "    <tr>\n",
       "      <th>2</th>\n",
       "      <td>2021-10-20</td>\n",
       "      <td>3612.000000</td>\n",
       "      <td>3630.000000</td>\n",
       "      <td>3578.300049</td>\n",
       "      <td>3608.850098</td>\n",
       "      <td>3568.994385</td>\n",
       "      <td>2933693</td>\n",
       "    </tr>\n",
       "    <tr>\n",
       "      <th>3</th>\n",
       "      <td>2021-10-21</td>\n",
       "      <td>3604.100098</td>\n",
       "      <td>3607.449951</td>\n",
       "      <td>3511.250000</td>\n",
       "      <td>3532.500000</td>\n",
       "      <td>3493.487549</td>\n",
       "      <td>4871211</td>\n",
       "    </tr>\n",
       "    <tr>\n",
       "      <th>4</th>\n",
       "      <td>2021-10-22</td>\n",
       "      <td>3560.000000</td>\n",
       "      <td>3561.600098</td>\n",
       "      <td>3485.000000</td>\n",
       "      <td>3498.850098</td>\n",
       "      <td>3460.209473</td>\n",
       "      <td>2691670</td>\n",
       "    </tr>\n",
       "  </tbody>\n",
       "</table>\n",
       "</div>"
      ],
      "text/plain": [
       "         Date         Open         High          Low        Close  \\\n",
       "0  2021-10-18  3603.449951  3652.699951  3601.449951  3647.149902   \n",
       "1  2021-10-19  3669.000000  3690.100098  3625.199951  3634.149902   \n",
       "2  2021-10-20  3612.000000  3630.000000  3578.300049  3608.850098   \n",
       "3  2021-10-21  3604.100098  3607.449951  3511.250000  3532.500000   \n",
       "4  2021-10-22  3560.000000  3561.600098  3485.000000  3498.850098   \n",
       "\n",
       "     Adj Close   Volume  \n",
       "0  3606.871338  3590107  \n",
       "1  3594.014893  3135441  \n",
       "2  3568.994385  2933693  \n",
       "3  3493.487549  4871211  \n",
       "4  3460.209473  2691670  "
      ]
     },
     "execution_count": 32,
     "metadata": {},
     "output_type": "execute_result"
    }
   ],
   "source": [
    "data = pd.read_csv(\"TCS_Dataset.csv\")\n",
    "data.head()"
   ]
  },
  {
   "cell_type": "code",
   "execution_count": 33,
   "id": "a6f6d0d2",
   "metadata": {},
   "outputs": [
    {
     "name": "stdout",
     "output_type": "stream",
     "text": [
      "<class 'pandas.core.frame.DataFrame'>\n",
      "RangeIndex: 248 entries, 0 to 247\n",
      "Data columns (total 7 columns):\n",
      " #   Column     Non-Null Count  Dtype  \n",
      "---  ------     --------------  -----  \n",
      " 0   Date       248 non-null    object \n",
      " 1   Open       248 non-null    float64\n",
      " 2   High       248 non-null    float64\n",
      " 3   Low        248 non-null    float64\n",
      " 4   Close      248 non-null    float64\n",
      " 5   Adj Close  248 non-null    float64\n",
      " 6   Volume     248 non-null    int64  \n",
      "dtypes: float64(5), int64(1), object(1)\n",
      "memory usage: 13.7+ KB\n"
     ]
    }
   ],
   "source": [
    "data.info()"
   ]
  },
  {
   "cell_type": "code",
   "execution_count": 34,
   "id": "be705ca1",
   "metadata": {},
   "outputs": [],
   "source": [
    "data = data.dropna()\n",
    "train_data = data.iloc[:,4:5].values"
   ]
  },
  {
   "cell_type": "code",
   "execution_count": 35,
   "id": "b9c30ab8",
   "metadata": {},
   "outputs": [
    {
     "data": {
      "text/plain": [
       "(248, 1)"
      ]
     },
     "execution_count": 35,
     "metadata": {},
     "output_type": "execute_result"
    }
   ],
   "source": [
    "scaler = MinMaxScaler(feature_range=(0,1))\n",
    "train_data = scaler.fit_transform(train_data)\n",
    "train_data.shape\n"
   ]
  },
  {
   "cell_type": "code",
   "execution_count": 36,
   "id": "ace0c444",
   "metadata": {},
   "outputs": [],
   "source": [
    "X_train = []\n",
    "Y_train = []\n",
    "\n",
    "for i in range (60,248):\n",
    "    X_train.append(train_data[i-60:i,0])\n",
    "    Y_train.append(train_data[i,0])\n",
    "\n",
    "X_train,Y_train = np.array(X_train),np.array(Y_train)"
   ]
  },
  {
   "cell_type": "code",
   "execution_count": 37,
   "id": "e4e1f43e",
   "metadata": {},
   "outputs": [
    {
     "data": {
      "text/plain": [
       "(188, 60, 1)"
      ]
     },
     "execution_count": 37,
     "metadata": {},
     "output_type": "execute_result"
    }
   ],
   "source": [
    "X_train = np.reshape(X_train,(X_train.shape[0],X_train.shape[1],1))\n",
    "X_train.shape"
   ]
  },
  {
   "cell_type": "code",
   "execution_count": 38,
   "id": "066e3e4d",
   "metadata": {},
   "outputs": [],
   "source": [
    "model = Sequential()\n",
    "\n",
    "model.add(LSTM(units=100, return_sequences = True, input_shape =(X_train.shape[1],1)))\n",
    "model.add(Dropout(0.2))\n",
    "\n",
    "model.add(LSTM(units=100, return_sequences = True))\n",
    "model.add(Dropout(0.2))\n",
    "\n",
    "model.add(LSTM(units=100, return_sequences = True))\n",
    "model.add(Dropout(0.2))\n",
    "\n",
    "model.add(LSTM(units=100, return_sequences = False))\n",
    "model.add(Dropout(0.2))\n",
    "\n",
    "model.add(Dense(units =1))\n",
    "model.compile(optimizer='adam',loss=\"mean_squared_error\")"
   ]
  },
  {
   "cell_type": "code",
   "execution_count": 39,
   "id": "570793ec",
   "metadata": {},
   "outputs": [
    {
     "name": "stdout",
     "output_type": "stream",
     "text": [
      "Epoch 1/15\n",
      "6/6 - 6s - loss: 0.0975 - 6s/epoch - 1s/step\n",
      "Epoch 2/15\n",
      "6/6 - 1s - loss: 0.0339 - 869ms/epoch - 145ms/step\n",
      "Epoch 3/15\n",
      "6/6 - 1s - loss: 0.0249 - 920ms/epoch - 153ms/step\n",
      "Epoch 4/15\n",
      "6/6 - 1s - loss: 0.0226 - 1s/epoch - 179ms/step\n",
      "Epoch 5/15\n",
      "6/6 - 1s - loss: 0.0195 - 1s/epoch - 195ms/step\n",
      "Epoch 6/15\n",
      "6/6 - 1s - loss: 0.0176 - 1s/epoch - 191ms/step\n",
      "Epoch 7/15\n",
      "6/6 - 1s - loss: 0.0183 - 1s/epoch - 201ms/step\n",
      "Epoch 8/15\n",
      "6/6 - 1s - loss: 0.0194 - 931ms/epoch - 155ms/step\n",
      "Epoch 9/15\n",
      "6/6 - 1s - loss: 0.0187 - 841ms/epoch - 140ms/step\n",
      "Epoch 10/15\n",
      "6/6 - 1s - loss: 0.0172 - 891ms/epoch - 149ms/step\n",
      "Epoch 11/15\n",
      "6/6 - 1s - loss: 0.0165 - 1s/epoch - 170ms/step\n",
      "Epoch 12/15\n",
      "6/6 - 1s - loss: 0.0156 - 1s/epoch - 195ms/step\n",
      "Epoch 13/15\n",
      "6/6 - 1s - loss: 0.0172 - 996ms/epoch - 166ms/step\n",
      "Epoch 14/15\n",
      "6/6 - 1s - loss: 0.0155 - 1s/epoch - 171ms/step\n",
      "Epoch 15/15\n",
      "6/6 - 1s - loss: 0.0158 - 1s/epoch - 171ms/step\n"
     ]
    }
   ],
   "source": [
    "result = model.fit(X_train,Y_train,epochs = 15,batch_size = 32,verbose=2)"
   ]
  },
  {
   "cell_type": "code",
   "execution_count": 40,
   "id": "8022f770",
   "metadata": {},
   "outputs": [
    {
     "data": {
      "image/png": "[encoded data removed]",
      "text/plain": [
       "<Figure size 432x288 with 1 Axes>"
      ]
     },
     "metadata": {
      "needs_background": "light"
     },
     "output_type": "display_data"
    }
   ],
   "source": [
    "plt.plot(result.history['loss'])\n",
    "plt.title('Training model loss')\n",
    "plt.ylabel('loss')\n",
    "plt.xlabel('epoch')\n",
    "plt.show()"
   ]
  },
  {
   "cell_type": "code",
   "execution_count": 41,
   "id": "dd2c2f67",
   "metadata": {},
   "outputs": [
    {
     "data": {
      "text/plain": [
       "(188, 60, 1)"
      ]
     },
     "execution_count": 41,
     "metadata": {},
     "output_type": "execute_result"
    }
   ],
   "source": [
    "testData = pd.read_csv('TCS_Dataset.csv')\n",
    "testData[\"Close\"]=pd.to_numeric(testData.Close,errors='coerce')\n",
    "testData = testData.dropna()\n",
    "testData = testData.iloc[:,4:5]\n",
    "y_test = testData.iloc[60:,0:].values \n",
    "#input array for the model\n",
    "inputClosing = testData.iloc[:,0:].values \n",
    "inputClosing_scaled = scaler.transform(inputClosing)\n",
    "inputClosing_scaled.shape\n",
    "X_test = []\n",
    "length = len(testData)\n",
    "timestep = 60\n",
    "for i in range(timestep,length):  \n",
    "    X_test.append(inputClosing_scaled[i-timestep:i,0])\n",
    "X_test = np.array(X_test)\n",
    "X_test = np.reshape(X_test,(X_test.shape[0],X_test.shape[1],1))\n",
    "X_test.shape"
   ]
  },
  {
   "cell_type": "code",
   "execution_count": 42,
   "id": "77d646e6",
   "metadata": {},
   "outputs": [
    {
     "name": "stdout",
     "output_type": "stream",
     "text": [
      "6/6 [==============================] - 2s 50ms/step\n"
     ]
    },
    {
     "data": {
      "text/plain": [
       "array([[0.7036601 ],\n",
       "       [0.72312057],\n",
       "       [0.7418402 ],\n",
       "       [0.759946  ],\n",
       "       [0.7779817 ],\n",
       "       [0.79613924],\n",
       "       [0.81377125],\n",
       "       [0.8294179 ],\n",
       "       [0.84183997],\n",
       "       [0.84983236],\n",
       "       [0.8527671 ],\n",
       "       [0.8497862 ],\n",
       "       [0.84094864],\n",
       "       [0.82730234],\n",
       "       [0.8107586 ],\n",
       "       [0.79366136],\n",
       "       [0.7778    ],\n",
       "       [0.7643171 ],\n",
       "       [0.7535464 ],\n",
       "       [0.7451461 ],\n",
       "       [0.73868567],\n",
       "       [0.7337981 ],\n",
       "       [0.7296391 ],\n",
       "       [0.72572726],\n",
       "       [0.7223974 ],\n",
       "       [0.7200873 ],\n",
       "       [0.71892637],\n",
       "       [0.7189345 ],\n",
       "       [0.7194873 ],\n",
       "       [0.7189808 ],\n",
       "       [0.71588045],\n",
       "       [0.7081488 ],\n",
       "       [0.6953528 ],\n",
       "       [0.6782436 ],\n",
       "       [0.65808696],\n",
       "       [0.63631016],\n",
       "       [0.61414057],\n",
       "       [0.5923485 ],\n",
       "       [0.57222676],\n",
       "       [0.55510503],\n",
       "       [0.54184544],\n",
       "       [0.5326636 ],\n",
       "       [0.5276137 ],\n",
       "       [0.5261349 ],\n",
       "       [0.5278236 ],\n",
       "       [0.53232145],\n",
       "       [0.5388754 ],\n",
       "       [0.5471367 ],\n",
       "       [0.55687445],\n",
       "       [0.5680583 ],\n",
       "       [0.580275  ],\n",
       "       [0.59296304],\n",
       "       [0.6055179 ],\n",
       "       [0.61757576],\n",
       "       [0.62893915],\n",
       "       [0.63960975],\n",
       "       [0.6496975 ],\n",
       "       [0.65959185],\n",
       "       [0.6691847 ],\n",
       "       [0.6777144 ],\n",
       "       [0.68444043],\n",
       "       [0.6889482 ],\n",
       "       [0.6910975 ],\n",
       "       [0.69080704],\n",
       "       [0.6872826 ],\n",
       "       [0.6796139 ],\n",
       "       [0.6679854 ],\n",
       "       [0.65364325],\n",
       "       [0.63798994],\n",
       "       [0.6218962 ],\n",
       "       [0.60598403],\n",
       "       [0.59082013],\n",
       "       [0.57700485],\n",
       "       [0.5647566 ],\n",
       "       [0.5540876 ],\n",
       "       [0.544511  ],\n",
       "       [0.53573626],\n",
       "       [0.5270917 ],\n",
       "       [0.5181137 ],\n",
       "       [0.50856054],\n",
       "       [0.4982625 ],\n",
       "       [0.48722115],\n",
       "       [0.47565266],\n",
       "       [0.46366218],\n",
       "       [0.45186335],\n",
       "       [0.44090888],\n",
       "       [0.43019256],\n",
       "       [0.41913706],\n",
       "       [0.4075686 ],\n",
       "       [0.39539483],\n",
       "       [0.38200316],\n",
       "       [0.36729982],\n",
       "       [0.3517405 ],\n",
       "       [0.3366407 ],\n",
       "       [0.32326046],\n",
       "       [0.31246188],\n",
       "       [0.30506033],\n",
       "       [0.3015897 ],\n",
       "       [0.3020968 ],\n",
       "       [0.30582032],\n",
       "       [0.31194982],\n",
       "       [0.31980684],\n",
       "       [0.3283764 ],\n",
       "       [0.33587018],\n",
       "       [0.34067875],\n",
       "       [0.3417731 ],\n",
       "       [0.33844116],\n",
       "       [0.33027503],\n",
       "       [0.31757072],\n",
       "       [0.30167955],\n",
       "       [0.28429475],\n",
       "       [0.2674522 ],\n",
       "       [0.25276506],\n",
       "       [0.24138217],\n",
       "       [0.23390102],\n",
       "       [0.23024915],\n",
       "       [0.22981566],\n",
       "       [0.23203923],\n",
       "       [0.23589979],\n",
       "       [0.24026057],\n",
       "       [0.24442188],\n",
       "       [0.24814339],\n",
       "       [0.25128135],\n",
       "       [0.2529407 ],\n",
       "       [0.25213695],\n",
       "       [0.24801679],\n",
       "       [0.24001981],\n",
       "       [0.22810882],\n",
       "       [0.2131048 ],\n",
       "       [0.19623606],\n",
       "       [0.17922519],\n",
       "       [0.16369464],\n",
       "       [0.15080039],\n",
       "       [0.14115264],\n",
       "       [0.13463311],\n",
       "       [0.13113236],\n",
       "       [0.13078636],\n",
       "       [0.13382705],\n",
       "       [0.14024235],\n",
       "       [0.14967509],\n",
       "       [0.16176431],\n",
       "       [0.17609675],\n",
       "       [0.19218452],\n",
       "       [0.20948736],\n",
       "       [0.2272863 ],\n",
       "       [0.24522997],\n",
       "       [0.26293397],\n",
       "       [0.27994937],\n",
       "       [0.29589844],\n",
       "       [0.310362  ],\n",
       "       [0.32303447],\n",
       "       [0.33356115],\n",
       "       [0.34131122],\n",
       "       [0.34567574],\n",
       "       [0.34617397],\n",
       "       [0.3427545 ],\n",
       "       [0.33527622],\n",
       "       [0.32436374],\n",
       "       [0.31056115],\n",
       "       [0.29452264],\n",
       "       [0.27702555],\n",
       "       [0.2588561 ],\n",
       "       [0.24087925],\n",
       "       [0.22397088],\n",
       "       [0.20908098],\n",
       "       [0.19705121],\n",
       "       [0.18831362],\n",
       "       [0.1823443 ],\n",
       "       [0.17822161],\n",
       "       [0.17454208],\n",
       "       [0.17020659],\n",
       "       [0.16462821],\n",
       "       [0.15746303],\n",
       "       [0.14871527],\n",
       "       [0.13853355],\n",
       "       [0.12728968],\n",
       "       [0.11558054],\n",
       "       [0.10411409],\n",
       "       [0.09332894],\n",
       "       [0.08351927],\n",
       "       [0.07476448],\n",
       "       [0.06754533],\n",
       "       [0.06237125],\n",
       "       [0.0593731 ],\n",
       "       [0.05866683],\n",
       "       [0.05997274],\n",
       "       [0.06296863],\n",
       "       [0.06729553]], dtype=float32)"
      ]
     },
     "execution_count": 42,
     "metadata": {},
     "output_type": "execute_result"
    }
   ],
   "source": [
    "y_pred = model.predict(X_test)\n",
    "y_pred"
   ]
  },
  {
   "cell_type": "code",
   "execution_count": 43,
   "id": "fe9d57fd",
   "metadata": {},
   "outputs": [
    {
     "data": {
      "text/plain": [
       "array([[3711.8157],\n",
       "       [3731.9983],\n",
       "       [3751.4124],\n",
       "       [3770.19  ],\n",
       "       [3788.8948],\n",
       "       [3807.7258],\n",
       "       [3826.012 ],\n",
       "       [3842.2393],\n",
       "       [3855.1223],\n",
       "       [3863.411 ],\n",
       "       [3866.4548],\n",
       "       [3863.3633],\n",
       "       [3854.1978],\n",
       "       [3840.0454],\n",
       "       [3822.8877],\n",
       "       [3805.156 ],\n",
       "       [3788.7063],\n",
       "       [3774.7231],\n",
       "       [3763.553 ],\n",
       "       [3754.8408],\n",
       "       [3748.1409],\n",
       "       [3743.0718],\n",
       "       [3738.7585],\n",
       "       [3734.7017],\n",
       "       [3731.2483],\n",
       "       [3728.8525],\n",
       "       [3727.6484],\n",
       "       [3727.657 ],\n",
       "       [3728.2302],\n",
       "       [3727.7048],\n",
       "       [3724.4895],\n",
       "       [3716.471 ],\n",
       "       [3703.2002],\n",
       "       [3685.4563],\n",
       "       [3664.552 ],\n",
       "       [3641.967 ],\n",
       "       [3618.975 ],\n",
       "       [3596.3748],\n",
       "       [3575.5063],\n",
       "       [3557.7493],\n",
       "       [3543.998 ],\n",
       "       [3534.4753],\n",
       "       [3529.238 ],\n",
       "       [3527.7046],\n",
       "       [3529.4558],\n",
       "       [3534.1206],\n",
       "       [3540.9175],\n",
       "       [3549.4856],\n",
       "       [3559.5845],\n",
       "       [3571.183 ],\n",
       "       [3583.8533],\n",
       "       [3597.012 ],\n",
       "       [3610.0325],\n",
       "       [3622.5378],\n",
       "       [3634.3228],\n",
       "       [3645.3892],\n",
       "       [3655.8513],\n",
       "       [3666.1128],\n",
       "       [3676.0613],\n",
       "       [3684.9075],\n",
       "       [3691.883 ],\n",
       "       [3696.558 ],\n",
       "       [3698.787 ],\n",
       "       [3698.486 ],\n",
       "       [3694.8306],\n",
       "       [3686.8774],\n",
       "       [3674.8176],\n",
       "       [3659.9434],\n",
       "       [3643.7095],\n",
       "       [3627.0186],\n",
       "       [3610.5159],\n",
       "       [3594.7896],\n",
       "       [3580.4617],\n",
       "       [3567.759 ],\n",
       "       [3556.6943],\n",
       "       [3546.7625],\n",
       "       [3537.662 ],\n",
       "       [3528.6968],\n",
       "       [3519.3855],\n",
       "       [3509.4783],\n",
       "       [3498.7979],\n",
       "       [3487.3472],\n",
       "       [3475.3494],\n",
       "       [3462.914 ],\n",
       "       [3450.6775],\n",
       "       [3439.3167],\n",
       "       [3428.2026],\n",
       "       [3416.737 ],\n",
       "       [3404.7395],\n",
       "       [3392.114 ],\n",
       "       [3378.2253],\n",
       "       [3362.9766],\n",
       "       [3346.84  ],\n",
       "       [3331.18  ],\n",
       "       [3317.3035],\n",
       "       [3306.1042],\n",
       "       [3298.4282],\n",
       "       [3294.8286],\n",
       "       [3295.3547],\n",
       "       [3299.216 ],\n",
       "       [3305.573 ],\n",
       "       [3313.7217],\n",
       "       [3322.6094],\n",
       "       [3330.381 ],\n",
       "       [3335.368 ],\n",
       "       [3336.5027],\n",
       "       [3333.0474],\n",
       "       [3324.5784],\n",
       "       [3311.4026],\n",
       "       [3294.9219],\n",
       "       [3276.892 ],\n",
       "       [3259.4248],\n",
       "       [3244.1929],\n",
       "       [3232.3875],\n",
       "       [3224.6287],\n",
       "       [3220.8413],\n",
       "       [3220.3918],\n",
       "       [3222.6978],\n",
       "       [3226.7017],\n",
       "       [3231.2244],\n",
       "       [3235.54  ],\n",
       "       [3239.3997],\n",
       "       [3242.6538],\n",
       "       [3244.3748],\n",
       "       [3243.5413],\n",
       "       [3239.2683],\n",
       "       [3230.9746],\n",
       "       [3218.6218],\n",
       "       [3203.061 ],\n",
       "       [3185.5664],\n",
       "       [3167.9246],\n",
       "       [3151.8176],\n",
       "       [3138.445 ],\n",
       "       [3128.4395],\n",
       "       [3121.678 ],\n",
       "       [3118.0474],\n",
       "       [3117.6887],\n",
       "       [3120.842 ],\n",
       "       [3127.4954],\n",
       "       [3137.278 ],\n",
       "       [3149.816 ],\n",
       "       [3164.68  ],\n",
       "       [3181.3645],\n",
       "       [3199.3093],\n",
       "       [3217.7686],\n",
       "       [3236.378 ],\n",
       "       [3254.7388],\n",
       "       [3272.3855],\n",
       "       [3288.9263],\n",
       "       [3303.9265],\n",
       "       [3317.069 ],\n",
       "       [3327.9863],\n",
       "       [3336.024 ],\n",
       "       [3340.5503],\n",
       "       [3341.0671],\n",
       "       [3337.5208],\n",
       "       [3329.765 ],\n",
       "       [3318.4475],\n",
       "       [3304.133 ],\n",
       "       [3287.4995],\n",
       "       [3269.353 ],\n",
       "       [3250.5095],\n",
       "       [3231.866 ],\n",
       "       [3214.3303],\n",
       "       [3198.888 ],\n",
       "       [3186.4119],\n",
       "       [3177.35  ],\n",
       "       [3171.1592],\n",
       "       [3166.8838],\n",
       "       [3163.0676],\n",
       "       [3158.5713],\n",
       "       [3152.786 ],\n",
       "       [3145.355 ],\n",
       "       [3136.2827],\n",
       "       [3125.7231],\n",
       "       [3114.0623],\n",
       "       [3101.9187],\n",
       "       [3090.0266],\n",
       "       [3078.8416],\n",
       "       [3068.6677],\n",
       "       [3059.5884],\n",
       "       [3052.1013],\n",
       "       [3046.7354],\n",
       "       [3043.626 ],\n",
       "       [3042.8936],\n",
       "       [3044.2478],\n",
       "       [3047.355 ],\n",
       "       [3051.8423]], dtype=float32)"
      ]
     },
     "execution_count": 43,
     "metadata": {},
     "output_type": "execute_result"
    }
   ],
   "source": [
    "# Predicted price \n",
    "p = scaler.inverse_transform(y_pred)\n",
    "p"
   ]
  },
  {
   "cell_type": "code",
   "execution_count": 44,
   "id": "7c5ae496",
   "metadata": {},
   "outputs": [
    {
     "data": {
      "image/png": "[encoded data removed]",
      "text/plain": [
       "<Figure size 432x288 with 1 Axes>"
      ]
     },
     "metadata": {
      "needs_background": "light"
     },
     "output_type": "display_data"
    }
   ],
   "source": [
    "plt.plot(y_test, color = 'red', label = 'Actual Stock Price')\n",
    "plt.plot(p, color = 'green', label = 'Predicted Stock Price')\n",
    "plt.title('Stock Price Prediction')\n",
    "plt.xlabel('Time')\n",
    "plt.ylabel('Stock Price')\n",
    "plt.legend()\n",
    "plt.show()"
   ]
  },
  {
   "cell_type": "markdown",
   "id": "38b00ff4",
   "metadata": {},
   "source": [
    "## Recurrent Nueral Network (RNN) Model"
   ]
  },
  {
   "cell_type": "markdown",
   "id": "0bbed16d",
   "metadata": {},
   "source": [
    "### Loading  pearson dataset "
   ]
  },
  {
   "cell_type": "code",
   "execution_count": 45,
   "id": "3c26f2b5",
   "metadata": {},
   "outputs": [
    {
     "data": {
      "text/html": [
       "<div>\n",
       "<style scoped>\n",
       "    .dataframe tbody tr th:only-of-type {\n",
       "        vertical-align: middle;\n",
       "    }\n",
       "\n",
       "    .dataframe tbody tr th {\n",
       "        vertical-align: top;\n",
       "    }\n",
       "\n",
       "    .dataframe thead th {\n",
       "        text-align: right;\n",
       "    }\n",
       "</style>\n",
       "<table border=\"1\" class=\"dataframe\">\n",
       "  <thead>\n",
       "    <tr style=\"text-align: right;\">\n",
       "      <th></th>\n",
       "      <th>Date</th>\n",
       "      <th>Open</th>\n",
       "      <th>High</th>\n",
       "      <th>Low</th>\n",
       "      <th>Close</th>\n",
       "      <th>Volume</th>\n",
       "    </tr>\n",
       "  </thead>\n",
       "  <tbody>\n",
       "    <tr>\n",
       "      <th>0</th>\n",
       "      <td>2016-01-04</td>\n",
       "      <td>1099.59</td>\n",
       "      <td>1110.75</td>\n",
       "      <td>1093.85</td>\n",
       "      <td>1109.64</td>\n",
       "      <td>66545000</td>\n",
       "    </tr>\n",
       "    <tr>\n",
       "      <th>1</th>\n",
       "      <td>2016-01-05</td>\n",
       "      <td>1117.47</td>\n",
       "      <td>1130.57</td>\n",
       "      <td>1112.75</td>\n",
       "      <td>1125.85</td>\n",
       "      <td>41227200</td>\n",
       "    </tr>\n",
       "    <tr>\n",
       "      <th>2</th>\n",
       "      <td>2016-01-06</td>\n",
       "      <td>1116.63</td>\n",
       "      <td>1138.68</td>\n",
       "      <td>1116.10</td>\n",
       "      <td>1133.04</td>\n",
       "      <td>42316800</td>\n",
       "    </tr>\n",
       "    <tr>\n",
       "      <th>3</th>\n",
       "      <td>2016-01-07</td>\n",
       "      <td>1122.00</td>\n",
       "      <td>1149.76</td>\n",
       "      <td>1117.56</td>\n",
       "      <td>1143.37</td>\n",
       "      <td>64899600</td>\n",
       "    </tr>\n",
       "    <tr>\n",
       "      <th>4</th>\n",
       "      <td>2016-01-08</td>\n",
       "      <td>1145.64</td>\n",
       "      <td>1149.96</td>\n",
       "      <td>1120.93</td>\n",
       "      <td>1122.88</td>\n",
       "      <td>52138900</td>\n",
       "    </tr>\n",
       "  </tbody>\n",
       "</table>\n",
       "</div>"
      ],
      "text/plain": [
       "         Date     Open     High      Low    Close    Volume\n",
       "0  2016-01-04  1099.59  1110.75  1093.85  1109.64  66545000\n",
       "1  2016-01-05  1117.47  1130.57  1112.75  1125.85  41227200\n",
       "2  2016-01-06  1116.63  1138.68  1116.10  1133.04  42316800\n",
       "3  2016-01-07  1122.00  1149.76  1117.56  1143.37  64899600\n",
       "4  2016-01-08  1145.64  1149.96  1120.93  1122.88  52138900"
      ]
     },
     "execution_count": 45,
     "metadata": {},
     "output_type": "execute_result"
    }
   ],
   "source": [
    "df = pd.read_csv(\"Pearson_train.csv\")\n",
    "test_df = pd.read_csv(\"Pearson_test.csv\")\n",
    "df.head()"
   ]
  },
  {
   "cell_type": "code",
   "execution_count": 46,
   "id": "6a0886b6",
   "metadata": {},
   "outputs": [
    {
     "data": {
      "text/plain": [
       "(1655,)"
      ]
     },
     "execution_count": 46,
     "metadata": {},
     "output_type": "execute_result"
    }
   ],
   "source": [
    "pearson_close = df['Close']\n",
    "pearson_close.reset_index(drop=True,inplace=True)\n",
    "pearson_close.shape"
   ]
  },
  {
   "cell_type": "code",
   "execution_count": 47,
   "id": "33fb4bdc",
   "metadata": {},
   "outputs": [],
   "source": [
    "pearson_close =pd.DataFrame(pearson_close)"
   ]
  },
  {
   "cell_type": "code",
   "execution_count": 48,
   "id": "d64d4913",
   "metadata": {},
   "outputs": [],
   "source": [
    "train=pearson_close.iloc[0:1620]\n",
    "test=pearson_close.iloc[1620: ]"
   ]
  },
  {
   "cell_type": "code",
   "execution_count": 49,
   "id": "a9e0e63a",
   "metadata": {},
   "outputs": [
    {
     "data": {
      "text/plain": [
       "(35, 1)"
      ]
     },
     "execution_count": 49,
     "metadata": {},
     "output_type": "execute_result"
    }
   ],
   "source": [
    "scaler= MinMaxScaler()\n",
    "scaler.fit(train)\n",
    "scaled_train = scaler.transform(train)\n",
    "scaled_test = scaler.transform(test)\n",
    "test.shape"
   ]
  },
  {
   "cell_type": "code",
   "execution_count": 50,
   "id": "ecf8c4ab",
   "metadata": {},
   "outputs": [],
   "source": [
    "scaler= MinMaxScaler()\n",
    "scaler.fit(train)\n",
    "scaled_train = scaler.transform(train)\n",
    "scaled_test = scaler.transform(test)"
   ]
  },
  {
   "cell_type": "code",
   "execution_count": 51,
   "id": "f4bbc0e2",
   "metadata": {},
   "outputs": [
    {
     "data": {
      "text/plain": [
       "(35, 1)"
      ]
     },
     "execution_count": 51,
     "metadata": {},
     "output_type": "execute_result"
    }
   ],
   "source": [
    "test.shape"
   ]
  },
  {
   "cell_type": "code",
   "execution_count": 52,
   "id": "7c539927",
   "metadata": {},
   "outputs": [],
   "source": [
    "from tensorflow.keras.layers import SimpleRNN"
   ]
  },
  {
   "cell_type": "code",
   "execution_count": 53,
   "id": "50894062",
   "metadata": {},
   "outputs": [],
   "source": [
    "from keras.preprocessing.sequence import TimeseriesGenerator\n",
    "length = 35 # As we have 35 days of test data\n",
    "batch_size = 32 # We are splitting ,it can be any value generally 32 works well. \n",
    "generator = TimeseriesGenerator(scaled_train,scaled_train,length = length ,batch_size = batch_size)\n",
    "# Here we are creating an object with train - length and last 55 values will be predicted and validated"
   ]
  },
  {
   "cell_type": "code",
   "execution_count": 54,
   "id": "f1b5e60c",
   "metadata": {},
   "outputs": [],
   "source": [
    "no_features = 1\n",
    "\n",
    "model = Sequential()\n",
    "\n",
    "model.add(SimpleRNN(30,input_shape=(length,no_features))) # 30 is number of layers\n",
    "model.add(Dropout(rate=0.2)) # Helps you not to overfit the model\n",
    "model.add(Dense(1))\n",
    "model.compile(optimizer='adam',loss='mse') # Backpropagating and error type"
   ]
  },
  {
   "cell_type": "code",
   "execution_count": 56,
   "id": "9a8ca1f4",
   "metadata": {},
   "outputs": [
    {
     "name": "stdout",
     "output_type": "stream",
     "text": [
      "Model: \"sequential_1\"\n",
      "_________________________________________________________________\n",
      " Layer (type)                Output Shape              Param #   \n",
      "=================================================================\n",
      " simple_rnn (SimpleRNN)      (None, 30)                960       \n",
      "                                                                 \n",
      " dropout_4 (Dropout)         (None, 30)                0         \n",
      "                                                                 \n",
      " dense_1 (Dense)             (None, 1)                 31        \n",
      "                                                                 \n",
      "=================================================================\n",
      "Total params: 991\n",
      "Trainable params: 991\n",
      "Non-trainable params: 0\n",
      "_________________________________________________________________\n"
     ]
    }
   ],
   "source": [
    "model.summary()"
   ]
  },
  {
   "cell_type": "code",
   "execution_count": 57,
   "id": "d80f2e7b",
   "metadata": {},
   "outputs": [
    {
     "name": "stdout",
     "output_type": "stream",
     "text": [
      "Epoch 1/10\n",
      "50/50 [==============================] - 1s 5ms/step - loss: 0.0108\n",
      "Epoch 2/10\n",
      "50/50 [==============================] - 0s 5ms/step - loss: 0.0071\n",
      "Epoch 3/10\n",
      "50/50 [==============================] - 0s 5ms/step - loss: 0.0050\n",
      "Epoch 4/10\n",
      "50/50 [==============================] - 0s 5ms/step - loss: 0.0053\n",
      "Epoch 5/10\n",
      "50/50 [==============================] - 0s 6ms/step - loss: 0.0056\n",
      "Epoch 6/10\n",
      "50/50 [==============================] - 0s 5ms/step - loss: 0.0064\n",
      "Epoch 7/10\n",
      "50/50 [==============================] - 0s 5ms/step - loss: 0.0045\n",
      "Epoch 8/10\n",
      "50/50 [==============================] - 0s 5ms/step - loss: 0.0044\n",
      "Epoch 9/10\n",
      "50/50 [==============================] - 0s 5ms/step - loss: 0.0032\n",
      "Epoch 10/10\n",
      "50/50 [==============================] - 0s 5ms/step - loss: 0.0033\n"
     ]
    },
    {
     "data": {
      "text/plain": [
       "<keras.callbacks.History at 0x21fd0e84e50>"
      ]
     },
     "execution_count": 57,
     "metadata": {},
     "output_type": "execute_result"
    }
   ],
   "source": [
    "model.fit(generator,epochs=10,shuffle=False)"
   ]
  },
  {
   "cell_type": "code",
   "execution_count": 58,
   "id": "9cd0949a",
   "metadata": {},
   "outputs": [
    {
     "data": {
      "text/plain": [
       "<AxesSubplot:>"
      ]
     },
     "execution_count": 58,
     "metadata": {},
     "output_type": "execute_result"
    },
    {
     "data": {
      "image/png": "[encoded data removed]",
      "text/plain": [
       "<Figure size 432x288 with 1 Axes>"
      ]
     },
     "metadata": {
      "needs_background": "light"
     },
     "output_type": "display_data"
    }
   ],
   "source": [
    "losses = pd.DataFrame(model.history.history)\n",
    "losses.plot()"
   ]
  },
  {
   "cell_type": "markdown",
   "id": "b152ad3b",
   "metadata": {},
   "source": [
    "### In above graph there is decrease in error rate "
   ]
  },
  {
   "cell_type": "markdown",
   "id": "5efd73f2",
   "metadata": {},
   "source": [
    "##  Evaluating our created Model "
   ]
  },
  {
   "cell_type": "code",
   "execution_count": 59,
   "id": "e1032868",
   "metadata": {},
   "outputs": [
    {
     "data": {
      "text/plain": [
       "array([[0.94779926],\n",
       "       [0.93459269],\n",
       "       [0.89501073],\n",
       "       [0.91121022],\n",
       "       [0.88586482],\n",
       "       [0.86113957],\n",
       "       [0.89080987],\n",
       "       [0.85385412],\n",
       "       [0.85771525],\n",
       "       [0.86476882],\n",
       "       [0.89573874],\n",
       "       [0.86003408],\n",
       "       [0.83778406],\n",
       "       [0.83632804],\n",
       "       [0.83097855],\n",
       "       [0.81954616],\n",
       "       [0.81524822],\n",
       "       [0.83295765],\n",
       "       [0.82638941],\n",
       "       [0.74455074],\n",
       "       [0.67794627],\n",
       "       [0.65284354],\n",
       "       [0.64672289],\n",
       "       [0.67549262],\n",
       "       [0.65694734],\n",
       "       [0.65258469],\n",
       "       [0.67775753],\n",
       "       [0.71160711],\n",
       "       [0.71809446],\n",
       "       [0.70204597],\n",
       "       [0.7297102 ],\n",
       "       [0.70333481],\n",
       "       [0.71259397],\n",
       "       [0.70608505],\n",
       "       [0.70067084]])"
      ]
     },
     "execution_count": 59,
     "metadata": {},
     "output_type": "execute_result"
    }
   ],
   "source": [
    "batch1 = scaled_train[-length:] # picks last 35 values in train set.\n",
    "batch1"
   ]
  },
  {
   "cell_type": "code",
   "execution_count": 60,
   "id": "a8d35da4",
   "metadata": {},
   "outputs": [
    {
     "data": {
      "text/plain": [
       "array([[[0.94779926],\n",
       "        [0.93459269],\n",
       "        [0.89501073],\n",
       "        [0.91121022],\n",
       "        [0.88586482],\n",
       "        [0.86113957],\n",
       "        [0.89080987],\n",
       "        [0.85385412],\n",
       "        [0.85771525],\n",
       "        [0.86476882],\n",
       "        [0.89573874],\n",
       "        [0.86003408],\n",
       "        [0.83778406],\n",
       "        [0.83632804],\n",
       "        [0.83097855],\n",
       "        [0.81954616],\n",
       "        [0.81524822],\n",
       "        [0.83295765],\n",
       "        [0.82638941],\n",
       "        [0.74455074],\n",
       "        [0.67794627],\n",
       "        [0.65284354],\n",
       "        [0.64672289],\n",
       "        [0.67549262],\n",
       "        [0.65694734],\n",
       "        [0.65258469],\n",
       "        [0.67775753],\n",
       "        [0.71160711],\n",
       "        [0.71809446],\n",
       "        [0.70204597],\n",
       "        [0.7297102 ],\n",
       "        [0.70333481],\n",
       "        [0.71259397],\n",
       "        [0.70608505],\n",
       "        [0.70067084]]])"
      ]
     },
     "execution_count": 60,
     "metadata": {},
     "output_type": "execute_result"
    }
   ],
   "source": [
    "batch1 = batch1.reshape((1,length,1))\n",
    "batch1"
   ]
  },
  {
   "cell_type": "code",
   "execution_count": 61,
   "id": "31f10601",
   "metadata": {},
   "outputs": [
    {
     "name": "stdout",
     "output_type": "stream",
     "text": [
      "1/1 [==============================] - 0s 138ms/step\n"
     ]
    },
    {
     "data": {
      "text/plain": [
       "array([[0.77295697]], dtype=float32)"
      ]
     },
     "execution_count": 61,
     "metadata": {},
     "output_type": "execute_result"
    }
   ],
   "source": [
    "model.predict(batch1)"
   ]
  },
  {
   "cell_type": "code",
   "execution_count": 62,
   "id": "4cb0d595",
   "metadata": {},
   "outputs": [
    {
     "data": {
      "text/plain": [
       "array([0.68292367])"
      ]
     },
     "execution_count": 62,
     "metadata": {},
     "output_type": "execute_result"
    }
   ],
   "source": [
    "# first prediction value for batch 1\n",
    "scaled_test[0] "
   ]
  },
  {
   "cell_type": "code",
   "execution_count": 63,
   "id": "1416e156",
   "metadata": {},
   "outputs": [
    {
     "name": "stdout",
     "output_type": "stream",
     "text": [
      "1/1 [==============================] - 0s 29ms/step\n",
      "1/1 [==============================] - 0s 23ms/step\n",
      "1/1 [==============================] - 0s 23ms/step\n",
      "1/1 [==============================] - 0s 23ms/step\n",
      "1/1 [==============================] - 0s 22ms/step\n",
      "1/1 [==============================] - 0s 20ms/step\n",
      "1/1 [==============================] - 0s 27ms/step\n",
      "1/1 [==============================] - 0s 27ms/step\n",
      "1/1 [==============================] - 0s 29ms/step\n",
      "1/1 [==============================] - 0s 32ms/step\n",
      "1/1 [==============================] - 0s 26ms/step\n",
      "1/1 [==============================] - 0s 21ms/step\n",
      "1/1 [==============================] - 0s 21ms/step\n",
      "1/1 [==============================] - 0s 22ms/step\n",
      "1/1 [==============================] - 0s 27ms/step\n",
      "1/1 [==============================] - 0s 29ms/step\n",
      "1/1 [==============================] - 0s 27ms/step\n",
      "1/1 [==============================] - 0s 22ms/step\n",
      "1/1 [==============================] - 0s 28ms/step\n",
      "1/1 [==============================] - 0s 21ms/step\n",
      "1/1 [==============================] - 0s 23ms/step\n",
      "1/1 [==============================] - 0s 23ms/step\n",
      "1/1 [==============================] - 0s 21ms/step\n",
      "1/1 [==============================] - 0s 21ms/step\n",
      "1/1 [==============================] - 0s 25ms/step\n",
      "1/1 [==============================] - 0s 21ms/step\n",
      "1/1 [==============================] - 0s 22ms/step\n",
      "1/1 [==============================] - 0s 27ms/step\n",
      "1/1 [==============================] - 0s 24ms/step\n",
      "1/1 [==============================] - 0s 28ms/step\n",
      "1/1 [==============================] - 0s 23ms/step\n",
      "1/1 [==============================] - 0s 22ms/step\n",
      "1/1 [==============================] - 0s 21ms/step\n",
      "1/1 [==============================] - 0s 21ms/step\n",
      "1/1 [==============================] - 0s 26ms/step\n"
     ]
    }
   ],
   "source": [
    "test_predictions = []\n",
    "\n",
    "first_eval_batch = scaled_train[-length:]\n",
    "current_batch = first_eval_batch.reshape((1,length,no_features))\n",
    "for i in range (len(test)):\n",
    "    current_pred =model.predict(current_batch)[0]\n",
    "    test_predictions.append(current_pred)\n",
    "    current_batch =np.append(current_batch[:,1:,:],[[current_pred]],axis=1)"
   ]
  },
  {
   "cell_type": "code",
   "execution_count": 64,
   "id": "98c78e27",
   "metadata": {},
   "outputs": [
    {
     "data": {
      "text/plain": [
       "[array([0.77295697], dtype=float32),\n",
       " array([0.8379332], dtype=float32),\n",
       " array([0.85359305], dtype=float32),\n",
       " array([0.86919546], dtype=float32),\n",
       " array([0.8920209], dtype=float32),\n",
       " array([0.92950726], dtype=float32),\n",
       " array([0.95684206], dtype=float32),\n",
       " array([0.9672746], dtype=float32),\n",
       " array([0.96645385], dtype=float32),\n",
       " array([0.98013574], dtype=float32),\n",
       " array([0.9944655], dtype=float32),\n",
       " array([1.0035509], dtype=float32),\n",
       " array([1.0162795], dtype=float32),\n",
       " array([1.0197086], dtype=float32),\n",
       " array([1.035801], dtype=float32),\n",
       " array([1.041436], dtype=float32),\n",
       " array([1.039381], dtype=float32),\n",
       " array([1.0375854], dtype=float32),\n",
       " array([1.0503663], dtype=float32),\n",
       " array([1.045938], dtype=float32),\n",
       " array([1.0250766], dtype=float32),\n",
       " array([1.0029037], dtype=float32),\n",
       " array([0.98750657], dtype=float32),\n",
       " array([0.9893769], dtype=float32),\n",
       " array([0.9828925], dtype=float32),\n",
       " array([0.96618724], dtype=float32),\n",
       " array([0.95136666], dtype=float32),\n",
       " array([0.95120406], dtype=float32),\n",
       " array([0.95189476], dtype=float32),\n",
       " array([0.93846816], dtype=float32),\n",
       " array([0.9300175], dtype=float32),\n",
       " array([0.919988], dtype=float32),\n",
       " array([0.9112598], dtype=float32),\n",
       " array([0.90509456], dtype=float32),\n",
       " array([0.8867712], dtype=float32)]"
      ]
     },
     "execution_count": 64,
     "metadata": {},
     "output_type": "execute_result"
    }
   ],
   "source": [
    "test_predictions"
   ]
  },
  {
   "cell_type": "code",
   "execution_count": 65,
   "id": "8d1c7f85",
   "metadata": {},
   "outputs": [
    {
     "data": {
      "text/plain": [
       "array([[2520.87594112],\n",
       "       [2641.36653537],\n",
       "       [2670.40588272],\n",
       "       [2699.33867948],\n",
       "       [2741.66568164],\n",
       "       [2811.17966455],\n",
       "       [2861.86878823],\n",
       "       [2881.2146843 ],\n",
       "       [2879.69269086],\n",
       "       [2905.06411141],\n",
       "       [2931.63687884],\n",
       "       [2948.48469404],\n",
       "       [2972.08830318],\n",
       "       [2978.44729565],\n",
       "       [3008.28875675],\n",
       "       [3018.73800986],\n",
       "       [3014.92738926],\n",
       "       [3011.59757269],\n",
       "       [3035.29822687],\n",
       "       [3027.08653623],\n",
       "       [2988.40159693],\n",
       "       [2947.28456297],\n",
       "       [2918.73243037],\n",
       "       [2922.20074061],\n",
       "       [2910.17621877],\n",
       "       [2879.19829169],\n",
       "       [2851.7153125 ],\n",
       "       [2851.41378758],\n",
       "       [2852.69460529],\n",
       "       [2827.79658329],\n",
       "       [2812.12579845],\n",
       "       [2793.52730396],\n",
       "       [2777.34189302],\n",
       "       [2765.90925752],\n",
       "       [2731.93078173]])"
      ]
     },
     "execution_count": 65,
     "metadata": {},
     "output_type": "execute_result"
    }
   ],
   "source": [
    "actual_price_predictions =scaler.inverse_transform(test_predictions)\n",
    "actual_price_predictions"
   ]
  },
  {
   "cell_type": "code",
   "execution_count": 66,
   "id": "d2779c1a",
   "metadata": {},
   "outputs": [
    {
     "data": {
      "text/html": [
       "<div>\n",
       "<style scoped>\n",
       "    .dataframe tbody tr th:only-of-type {\n",
       "        vertical-align: middle;\n",
       "    }\n",
       "\n",
       "    .dataframe tbody tr th {\n",
       "        vertical-align: top;\n",
       "    }\n",
       "\n",
       "    .dataframe thead th {\n",
       "        text-align: right;\n",
       "    }\n",
       "</style>\n",
       "<table border=\"1\" class=\"dataframe\">\n",
       "  <thead>\n",
       "    <tr style=\"text-align: right;\">\n",
       "      <th></th>\n",
       "      <th>Close</th>\n",
       "      <th>predictions</th>\n",
       "    </tr>\n",
       "  </thead>\n",
       "  <tbody>\n",
       "    <tr>\n",
       "      <th>1620</th>\n",
       "      <td>2353.92</td>\n",
       "      <td>2520.875941</td>\n",
       "    </tr>\n",
       "    <tr>\n",
       "      <th>1621</th>\n",
       "      <td>2329.17</td>\n",
       "      <td>2641.366535</td>\n",
       "    </tr>\n",
       "    <tr>\n",
       "      <th>1622</th>\n",
       "      <td>2267.25</td>\n",
       "      <td>2670.405883</td>\n",
       "    </tr>\n",
       "    <tr>\n",
       "      <th>1623</th>\n",
       "      <td>2270.55</td>\n",
       "      <td>2699.338679</td>\n",
       "    </tr>\n",
       "    <tr>\n",
       "      <th>1624</th>\n",
       "      <td>2297.91</td>\n",
       "      <td>2741.665682</td>\n",
       "    </tr>\n",
       "    <tr>\n",
       "      <th>1625</th>\n",
       "      <td>2276.98</td>\n",
       "      <td>2811.179665</td>\n",
       "    </tr>\n",
       "    <tr>\n",
       "      <th>1626</th>\n",
       "      <td>2265.27</td>\n",
       "      <td>2861.868788</td>\n",
       "    </tr>\n",
       "    <tr>\n",
       "      <th>1627</th>\n",
       "      <td>2338.82</td>\n",
       "      <td>2881.214684</td>\n",
       "    </tr>\n",
       "    <tr>\n",
       "      <th>1628</th>\n",
       "      <td>2324.87</td>\n",
       "      <td>2879.692691</td>\n",
       "    </tr>\n",
       "    <tr>\n",
       "      <th>1629</th>\n",
       "      <td>2358.71</td>\n",
       "      <td>2905.064111</td>\n",
       "    </tr>\n",
       "    <tr>\n",
       "      <th>1630</th>\n",
       "      <td>2411.66</td>\n",
       "      <td>2931.636879</td>\n",
       "    </tr>\n",
       "    <tr>\n",
       "      <th>1631</th>\n",
       "      <td>2398.28</td>\n",
       "      <td>2948.484694</td>\n",
       "    </tr>\n",
       "    <tr>\n",
       "      <th>1632</th>\n",
       "      <td>2345.70</td>\n",
       "      <td>2972.088303</td>\n",
       "    </tr>\n",
       "    <tr>\n",
       "      <th>1633</th>\n",
       "      <td>2338.78</td>\n",
       "      <td>2978.447296</td>\n",
       "    </tr>\n",
       "    <tr>\n",
       "      <th>1634</th>\n",
       "      <td>2310.28</td>\n",
       "      <td>3008.288757</td>\n",
       "    </tr>\n",
       "    <tr>\n",
       "      <th>1635</th>\n",
       "      <td>2317.99</td>\n",
       "      <td>3018.738010</td>\n",
       "    </tr>\n",
       "    <tr>\n",
       "      <th>1636</th>\n",
       "      <td>2375.38</td>\n",
       "      <td>3014.927389</td>\n",
       "    </tr>\n",
       "    <tr>\n",
       "      <th>1637</th>\n",
       "      <td>2395.51</td>\n",
       "      <td>3011.597573</td>\n",
       "    </tr>\n",
       "    <tr>\n",
       "      <th>1638</th>\n",
       "      <td>2433.55</td>\n",
       "      <td>3035.298227</td>\n",
       "    </tr>\n",
       "    <tr>\n",
       "      <th>1639</th>\n",
       "      <td>2441.97</td>\n",
       "      <td>3027.086536</td>\n",
       "    </tr>\n",
       "    <tr>\n",
       "      <th>1640</th>\n",
       "      <td>2409.99</td>\n",
       "      <td>2988.401597</td>\n",
       "    </tr>\n",
       "    <tr>\n",
       "      <th>1641</th>\n",
       "      <td>2391.30</td>\n",
       "      <td>2947.284563</td>\n",
       "    </tr>\n",
       "    <tr>\n",
       "      <th>1642</th>\n",
       "      <td>2371.00</td>\n",
       "      <td>2918.732430</td>\n",
       "    </tr>\n",
       "    <tr>\n",
       "      <th>1643</th>\n",
       "      <td>2388.40</td>\n",
       "      <td>2922.200741</td>\n",
       "    </tr>\n",
       "    <tr>\n",
       "      <th>1644</th>\n",
       "      <td>2412.00</td>\n",
       "      <td>2910.176219</td>\n",
       "    </tr>\n",
       "    <tr>\n",
       "      <th>1645</th>\n",
       "      <td>2384.75</td>\n",
       "      <td>2879.198292</td>\n",
       "    </tr>\n",
       "    <tr>\n",
       "      <th>1646</th>\n",
       "      <td>2432.72</td>\n",
       "      <td>2851.715312</td>\n",
       "    </tr>\n",
       "    <tr>\n",
       "      <th>1647</th>\n",
       "      <td>2443.99</td>\n",
       "      <td>2851.413788</td>\n",
       "    </tr>\n",
       "    <tr>\n",
       "      <th>1648</th>\n",
       "      <td>2465.59</td>\n",
       "      <td>2852.694605</td>\n",
       "    </tr>\n",
       "    <tr>\n",
       "      <th>1649</th>\n",
       "      <td>2406.14</td>\n",
       "      <td>2827.796583</td>\n",
       "    </tr>\n",
       "    <tr>\n",
       "      <th>1650</th>\n",
       "      <td>2402.95</td>\n",
       "      <td>2812.125798</td>\n",
       "    </tr>\n",
       "    <tr>\n",
       "      <th>1651</th>\n",
       "      <td>2280.27</td>\n",
       "      <td>2793.527304</td>\n",
       "    </tr>\n",
       "    <tr>\n",
       "      <th>1652</th>\n",
       "      <td>2395.54</td>\n",
       "      <td>2777.341893</td>\n",
       "    </tr>\n",
       "    <tr>\n",
       "      <th>1653</th>\n",
       "      <td>2434.89</td>\n",
       "      <td>2765.909258</td>\n",
       "    </tr>\n",
       "    <tr>\n",
       "      <th>1654</th>\n",
       "      <td>2474.93</td>\n",
       "      <td>2731.930782</td>\n",
       "    </tr>\n",
       "  </tbody>\n",
       "</table>\n",
       "</div>"
      ],
      "text/plain": [
       "        Close  predictions\n",
       "1620  2353.92  2520.875941\n",
       "1621  2329.17  2641.366535\n",
       "1622  2267.25  2670.405883\n",
       "1623  2270.55  2699.338679\n",
       "1624  2297.91  2741.665682\n",
       "1625  2276.98  2811.179665\n",
       "1626  2265.27  2861.868788\n",
       "1627  2338.82  2881.214684\n",
       "1628  2324.87  2879.692691\n",
       "1629  2358.71  2905.064111\n",
       "1630  2411.66  2931.636879\n",
       "1631  2398.28  2948.484694\n",
       "1632  2345.70  2972.088303\n",
       "1633  2338.78  2978.447296\n",
       "1634  2310.28  3008.288757\n",
       "1635  2317.99  3018.738010\n",
       "1636  2375.38  3014.927389\n",
       "1637  2395.51  3011.597573\n",
       "1638  2433.55  3035.298227\n",
       "1639  2441.97  3027.086536\n",
       "1640  2409.99  2988.401597\n",
       "1641  2391.30  2947.284563\n",
       "1642  2371.00  2918.732430\n",
       "1643  2388.40  2922.200741\n",
       "1644  2412.00  2910.176219\n",
       "1645  2384.75  2879.198292\n",
       "1646  2432.72  2851.715312\n",
       "1647  2443.99  2851.413788\n",
       "1648  2465.59  2852.694605\n",
       "1649  2406.14  2827.796583\n",
       "1650  2402.95  2812.125798\n",
       "1651  2280.27  2793.527304\n",
       "1652  2395.54  2777.341893\n",
       "1653  2434.89  2765.909258\n",
       "1654  2474.93  2731.930782"
      ]
     },
     "execution_count": 66,
     "metadata": {},
     "output_type": "execute_result"
    }
   ],
   "source": [
    "test['predictions'] = actual_price_predictions\n",
    "test"
   ]
  },
  {
   "cell_type": "markdown",
   "id": "38fdcb9a",
   "metadata": {},
   "source": [
    "#### These are the forecasted values for next 35 days."
   ]
  },
  {
   "cell_type": "code",
   "execution_count": 67,
   "id": "12be34cc",
   "metadata": {},
   "outputs": [
    {
     "data": {
      "text/plain": [
       "<AxesSubplot:>"
      ]
     },
     "execution_count": 67,
     "metadata": {},
     "output_type": "execute_result"
    },
    {
     "data": {
      "image/png": "[encoded data removed]",
      "text/plain": [
       "<Figure size 576x432 with 1 Axes>"
      ]
     },
     "metadata": {
      "needs_background": "light"
     },
     "output_type": "display_data"
    },
    {
     "data": {
      "image/png": "[encoded data removed]",
      "text/plain": [
       "<Figure size 432x288 with 1 Axes>"
      ]
     },
     "metadata": {
      "needs_background": "light"
     },
     "output_type": "display_data"
    }
   ],
   "source": [
    "test.plot(figsize=(8,6))\n",
    "pearson_close.plot()"
   ]
  },
  {
   "cell_type": "markdown",
   "id": "e6bd4eb2",
   "metadata": {},
   "source": []
  },
  {
   "cell_type": "code",
   "execution_count": null,
   "id": "ecef30b2",
   "metadata": {},
   "outputs": [],
   "source": []
  }
 ],
 "metadata": {
  "kernelspec": {
   "display_name": "Python 3 (ipykernel)",
   "language": "python",
   "name": "python3"
  },
  "language_info": {
   "codemirror_mode": {
    "name": "ipython",
    "version": 3
   },
   "file_extension": ".py",
   "mimetype": "text/x-python",
   "name": "python",
   "nbconvert_exporter": "python",
   "pygments_lexer": "ipython3",
   "version": "3.9.0"
  }
 },
 "nbformat": 4,
 "nbformat_minor": 5
}
